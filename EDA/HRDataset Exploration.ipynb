{
 "metadata": {
  "language_info": {
   "codemirror_mode": {
    "name": "ipython",
    "version": 3
   },
   "file_extension": ".py",
   "mimetype": "text/x-python",
   "name": "python",
   "nbconvert_exporter": "python",
   "pygments_lexer": "ipython3",
   "version": "3.6.8-final"
  },
  "orig_nbformat": 2,
  "kernelspec": {
   "name": "jupytertool_venv",
   "display_name": "jupytertool_venv",
   "language": "python"
  }
 },
 "nbformat": 4,
 "nbformat_minor": 2,
 "cells": [
  {
   "source": [
    "# Import Libraries"
   ],
   "cell_type": "markdown",
   "metadata": {}
  },
  {
   "cell_type": "code",
   "execution_count": 6,
   "metadata": {},
   "outputs": [
    {
     "output_type": "stream",
     "name": "stdout",
     "text": [
      "<module 'ntpath' from 'C:\\\\Program Files\\\\Alteryx\\\\bin\\\\Miniconda3\\\\envs\\\\JupyterTool_vEnv\\\\lib\\\\ntpath.py'>\n"
     ]
    },
    {
     "output_type": "error",
     "ename": "TypeError",
     "evalue": "Required argument 'mode' (pos 2) not found",
     "traceback": [
      "\u001b[1;31m---------------------------------------------------------------------------\u001b[0m",
      "\u001b[1;31mTypeError\u001b[0m                                 Traceback (most recent call last)",
      "\u001b[1;32m<ipython-input-6-46bd01792d14>\u001b[0m in \u001b[0;36m<module>\u001b[1;34m\u001b[0m\n\u001b[0;32m      2\u001b[0m \u001b[1;33m\u001b[0m\u001b[0m\n\u001b[0;32m      3\u001b[0m \u001b[0mprint\u001b[0m\u001b[1;33m(\u001b[0m\u001b[0mos\u001b[0m\u001b[1;33m.\u001b[0m\u001b[0mpath\u001b[0m\u001b[1;33m)\u001b[0m\u001b[1;33m\u001b[0m\u001b[1;33m\u001b[0m\u001b[0m\n\u001b[1;32m----> 4\u001b[1;33m \u001b[0mos\u001b[0m\u001b[1;33m.\u001b[0m\u001b[0mchmod\u001b[0m\u001b[1;33m(\u001b[0m\u001b[1;34m\"C:\\\\Users\\\\Andrew\\\\Documents\\\\GitHub\\\\People_Analytics\\\\\"\u001b[0m\u001b[1;33m)\u001b[0m\u001b[1;33m\u001b[0m\u001b[1;33m\u001b[0m\u001b[0m\n\u001b[0m\u001b[0;32m      5\u001b[0m \u001b[0mprint\u001b[0m\u001b[1;33m(\u001b[0m\u001b[0mos\u001b[0m\u001b[1;33m.\u001b[0m\u001b[0mpath\u001b[0m\u001b[1;33m)\u001b[0m\u001b[1;33m\u001b[0m\u001b[1;33m\u001b[0m\u001b[0m\n",
      "\u001b[1;31mTypeError\u001b[0m: Required argument 'mode' (pos 2) not found"
     ]
    }
   ],
   "source": [
    "import os\n",
    "\n",
    "print(os.path)\n",
    "os.chmod(\"C:\\\\Users\\\\Andrew\\\\Documents\\\\GitHub\\\\People_Analytics\\\\\")\n",
    "print(os.path)"
   ]
  },
  {
   "cell_type": "code",
   "execution_count": 8,
   "metadata": {},
   "outputs": [
    {
     "output_type": "stream",
     "name": "stdout",
     "text": [
      "Help on built-in function chdir in module nt:\n\nchdir(path)\n    Change the current working directory to the specified path.\n    \n    path may always be specified as a string.\n    On some platforms, path may also be specified as an open file descriptor.\n      If this functionality is unavailable, using it raises an exception.\n\n"
     ]
    }
   ],
   "source": [
    "help(os.chdir)"
   ]
  },
  {
   "cell_type": "code",
   "execution_count": 1,
   "metadata": {},
   "outputs": [],
   "source": [
    "import pandas as pd\n",
    "import numpy as np \n",
    "import sklearn\n"
   ]
  },
  {
   "source": [
    "# Read in File"
   ],
   "cell_type": "markdown",
   "metadata": {}
  },
  {
   "cell_type": "code",
   "execution_count": 2,
   "metadata": {},
   "outputs": [],
   "source": [
    "file = r'C:\\Users\\Andrew\\Documents\\GitHub\\People_Analytics\\Datasets\\HRDataset_v14.csv'"
   ]
  },
  {
   "cell_type": "code",
   "execution_count": 3,
   "metadata": {},
   "outputs": [],
   "source": [
    "df = pd.read_csv(file)"
   ]
  },
  {
   "source": [
    "# Summary Stats"
   ],
   "cell_type": "markdown",
   "metadata": {}
  },
  {
   "cell_type": "code",
   "execution_count": 4,
   "metadata": {},
   "outputs": [
    {
     "output_type": "execute_result",
     "data": {
      "text/plain": [
       "              Employee_Name  EmpID  MarriedID  MaritalStatusID  GenderID  \\\n",
       "0       Adinolfi, Wilson  K  10026          0                0         1   \n",
       "1  Ait Sidi, Karthikeyan     10084          1                1         1   \n",
       "2         Akinkuolie, Sarah  10196          1                1         0   \n",
       "3              Alagbe,Trina  10088          1                1         0   \n",
       "4          Anderson, Carol   10069          0                2         0   \n",
       "\n",
       "   EmpStatusID  DeptID  PerfScoreID  FromDiversityJobFairID  Salary  ...  \\\n",
       "0            1       5            4                       0   62506  ...   \n",
       "1            5       3            3                       0  104437  ...   \n",
       "2            5       5            3                       0   64955  ...   \n",
       "3            1       5            3                       0   64991  ...   \n",
       "4            5       5            3                       0   50825  ...   \n",
       "\n",
       "      ManagerName  ManagerID RecruitmentSource PerformanceScore  \\\n",
       "0  Michael Albert       22.0          LinkedIn          Exceeds   \n",
       "1      Simon Roup        4.0            Indeed      Fully Meets   \n",
       "2  Kissy Sullivan       20.0          LinkedIn      Fully Meets   \n",
       "3    Elijiah Gray       16.0            Indeed      Fully Meets   \n",
       "4  Webster Butler       39.0     Google Search      Fully Meets   \n",
       "\n",
       "   EngagementSurvey EmpSatisfaction SpecialProjectsCount  \\\n",
       "0              4.60               5                    0   \n",
       "1              4.96               3                    6   \n",
       "2              3.02               3                    0   \n",
       "3              4.84               5                    0   \n",
       "4              5.00               4                    0   \n",
       "\n",
       "  LastPerformanceReview_Date DaysLateLast30 Absences  \n",
       "0                  1/17/2019              0        1  \n",
       "1                  2/24/2016              0       17  \n",
       "2                  5/15/2012              0        3  \n",
       "3                   1/3/2019              0       15  \n",
       "4                   2/1/2016              0        2  \n",
       "\n",
       "[5 rows x 36 columns]"
      ],
      "text/html": "<div>\n<style scoped>\n    .dataframe tbody tr th:only-of-type {\n        vertical-align: middle;\n    }\n\n    .dataframe tbody tr th {\n        vertical-align: top;\n    }\n\n    .dataframe thead th {\n        text-align: right;\n    }\n</style>\n<table border=\"1\" class=\"dataframe\">\n  <thead>\n    <tr style=\"text-align: right;\">\n      <th></th>\n      <th>Employee_Name</th>\n      <th>EmpID</th>\n      <th>MarriedID</th>\n      <th>MaritalStatusID</th>\n      <th>GenderID</th>\n      <th>EmpStatusID</th>\n      <th>DeptID</th>\n      <th>PerfScoreID</th>\n      <th>FromDiversityJobFairID</th>\n      <th>Salary</th>\n      <th>...</th>\n      <th>ManagerName</th>\n      <th>ManagerID</th>\n      <th>RecruitmentSource</th>\n      <th>PerformanceScore</th>\n      <th>EngagementSurvey</th>\n      <th>EmpSatisfaction</th>\n      <th>SpecialProjectsCount</th>\n      <th>LastPerformanceReview_Date</th>\n      <th>DaysLateLast30</th>\n      <th>Absences</th>\n    </tr>\n  </thead>\n  <tbody>\n    <tr>\n      <th>0</th>\n      <td>Adinolfi, Wilson  K</td>\n      <td>10026</td>\n      <td>0</td>\n      <td>0</td>\n      <td>1</td>\n      <td>1</td>\n      <td>5</td>\n      <td>4</td>\n      <td>0</td>\n      <td>62506</td>\n      <td>...</td>\n      <td>Michael Albert</td>\n      <td>22.0</td>\n      <td>LinkedIn</td>\n      <td>Exceeds</td>\n      <td>4.60</td>\n      <td>5</td>\n      <td>0</td>\n      <td>1/17/2019</td>\n      <td>0</td>\n      <td>1</td>\n    </tr>\n    <tr>\n      <th>1</th>\n      <td>Ait Sidi, Karthikeyan</td>\n      <td>10084</td>\n      <td>1</td>\n      <td>1</td>\n      <td>1</td>\n      <td>5</td>\n      <td>3</td>\n      <td>3</td>\n      <td>0</td>\n      <td>104437</td>\n      <td>...</td>\n      <td>Simon Roup</td>\n      <td>4.0</td>\n      <td>Indeed</td>\n      <td>Fully Meets</td>\n      <td>4.96</td>\n      <td>3</td>\n      <td>6</td>\n      <td>2/24/2016</td>\n      <td>0</td>\n      <td>17</td>\n    </tr>\n    <tr>\n      <th>2</th>\n      <td>Akinkuolie, Sarah</td>\n      <td>10196</td>\n      <td>1</td>\n      <td>1</td>\n      <td>0</td>\n      <td>5</td>\n      <td>5</td>\n      <td>3</td>\n      <td>0</td>\n      <td>64955</td>\n      <td>...</td>\n      <td>Kissy Sullivan</td>\n      <td>20.0</td>\n      <td>LinkedIn</td>\n      <td>Fully Meets</td>\n      <td>3.02</td>\n      <td>3</td>\n      <td>0</td>\n      <td>5/15/2012</td>\n      <td>0</td>\n      <td>3</td>\n    </tr>\n    <tr>\n      <th>3</th>\n      <td>Alagbe,Trina</td>\n      <td>10088</td>\n      <td>1</td>\n      <td>1</td>\n      <td>0</td>\n      <td>1</td>\n      <td>5</td>\n      <td>3</td>\n      <td>0</td>\n      <td>64991</td>\n      <td>...</td>\n      <td>Elijiah Gray</td>\n      <td>16.0</td>\n      <td>Indeed</td>\n      <td>Fully Meets</td>\n      <td>4.84</td>\n      <td>5</td>\n      <td>0</td>\n      <td>1/3/2019</td>\n      <td>0</td>\n      <td>15</td>\n    </tr>\n    <tr>\n      <th>4</th>\n      <td>Anderson, Carol</td>\n      <td>10069</td>\n      <td>0</td>\n      <td>2</td>\n      <td>0</td>\n      <td>5</td>\n      <td>5</td>\n      <td>3</td>\n      <td>0</td>\n      <td>50825</td>\n      <td>...</td>\n      <td>Webster Butler</td>\n      <td>39.0</td>\n      <td>Google Search</td>\n      <td>Fully Meets</td>\n      <td>5.00</td>\n      <td>4</td>\n      <td>0</td>\n      <td>2/1/2016</td>\n      <td>0</td>\n      <td>2</td>\n    </tr>\n  </tbody>\n</table>\n<p>5 rows × 36 columns</p>\n</div>"
     },
     "metadata": {},
     "execution_count": 4
    }
   ],
   "source": [
    "df.head()"
   ]
  },
  {
   "cell_type": "code",
   "execution_count": 5,
   "metadata": {},
   "outputs": [
    {
     "output_type": "execute_result",
     "data": {
      "text/plain": [
       "              EmpID   MarriedID  MaritalStatusID    GenderID  EmpStatusID  \\\n",
       "count    311.000000  311.000000       311.000000  311.000000   311.000000   \n",
       "mean   10156.000000    0.398714         0.810289    0.434084     2.392283   \n",
       "std       89.922189    0.490423         0.943239    0.496435     1.794383   \n",
       "min    10001.000000    0.000000         0.000000    0.000000     1.000000   \n",
       "25%    10078.500000    0.000000         0.000000    0.000000     1.000000   \n",
       "50%    10156.000000    0.000000         1.000000    0.000000     1.000000   \n",
       "75%    10233.500000    1.000000         1.000000    1.000000     5.000000   \n",
       "max    10311.000000    1.000000         4.000000    1.000000     5.000000   \n",
       "\n",
       "           DeptID  PerfScoreID  FromDiversityJobFairID         Salary  \\\n",
       "count  311.000000   311.000000              311.000000     311.000000   \n",
       "mean     4.610932     2.977492                0.093248   69020.684887   \n",
       "std      1.083487     0.587072                0.291248   25156.636930   \n",
       "min      1.000000     1.000000                0.000000   45046.000000   \n",
       "25%      5.000000     3.000000                0.000000   55501.500000   \n",
       "50%      5.000000     3.000000                0.000000   62810.000000   \n",
       "75%      5.000000     3.000000                0.000000   72036.000000   \n",
       "max      6.000000     4.000000                1.000000  250000.000000   \n",
       "\n",
       "            Termd  PositionID           Zip   ManagerID  EngagementSurvey  \\\n",
       "count  311.000000  311.000000    311.000000  303.000000        311.000000   \n",
       "mean     0.334405   16.845659   6555.482315   14.570957          4.110000   \n",
       "std      0.472542    6.223419  16908.396884    8.078306          0.789938   \n",
       "min      0.000000    1.000000   1013.000000    1.000000          1.120000   \n",
       "25%      0.000000   18.000000   1901.500000   10.000000          3.690000   \n",
       "50%      0.000000   19.000000   2132.000000   15.000000          4.280000   \n",
       "75%      1.000000   20.000000   2355.000000   19.000000          4.700000   \n",
       "max      1.000000   30.000000  98052.000000   39.000000          5.000000   \n",
       "\n",
       "       EmpSatisfaction  SpecialProjectsCount  DaysLateLast30    Absences  \n",
       "count       311.000000            311.000000      311.000000  311.000000  \n",
       "mean          3.890675              1.218650        0.414791   10.237942  \n",
       "std           0.909241              2.349421        1.294519    5.852596  \n",
       "min           1.000000              0.000000        0.000000    1.000000  \n",
       "25%           3.000000              0.000000        0.000000    5.000000  \n",
       "50%           4.000000              0.000000        0.000000   10.000000  \n",
       "75%           5.000000              0.000000        0.000000   15.000000  \n",
       "max           5.000000              8.000000        6.000000   20.000000  "
      ],
      "text/html": "<div>\n<style scoped>\n    .dataframe tbody tr th:only-of-type {\n        vertical-align: middle;\n    }\n\n    .dataframe tbody tr th {\n        vertical-align: top;\n    }\n\n    .dataframe thead th {\n        text-align: right;\n    }\n</style>\n<table border=\"1\" class=\"dataframe\">\n  <thead>\n    <tr style=\"text-align: right;\">\n      <th></th>\n      <th>EmpID</th>\n      <th>MarriedID</th>\n      <th>MaritalStatusID</th>\n      <th>GenderID</th>\n      <th>EmpStatusID</th>\n      <th>DeptID</th>\n      <th>PerfScoreID</th>\n      <th>FromDiversityJobFairID</th>\n      <th>Salary</th>\n      <th>Termd</th>\n      <th>PositionID</th>\n      <th>Zip</th>\n      <th>ManagerID</th>\n      <th>EngagementSurvey</th>\n      <th>EmpSatisfaction</th>\n      <th>SpecialProjectsCount</th>\n      <th>DaysLateLast30</th>\n      <th>Absences</th>\n    </tr>\n  </thead>\n  <tbody>\n    <tr>\n      <th>count</th>\n      <td>311.000000</td>\n      <td>311.000000</td>\n      <td>311.000000</td>\n      <td>311.000000</td>\n      <td>311.000000</td>\n      <td>311.000000</td>\n      <td>311.000000</td>\n      <td>311.000000</td>\n      <td>311.000000</td>\n      <td>311.000000</td>\n      <td>311.000000</td>\n      <td>311.000000</td>\n      <td>303.000000</td>\n      <td>311.000000</td>\n      <td>311.000000</td>\n      <td>311.000000</td>\n      <td>311.000000</td>\n      <td>311.000000</td>\n    </tr>\n    <tr>\n      <th>mean</th>\n      <td>10156.000000</td>\n      <td>0.398714</td>\n      <td>0.810289</td>\n      <td>0.434084</td>\n      <td>2.392283</td>\n      <td>4.610932</td>\n      <td>2.977492</td>\n      <td>0.093248</td>\n      <td>69020.684887</td>\n      <td>0.334405</td>\n      <td>16.845659</td>\n      <td>6555.482315</td>\n      <td>14.570957</td>\n      <td>4.110000</td>\n      <td>3.890675</td>\n      <td>1.218650</td>\n      <td>0.414791</td>\n      <td>10.237942</td>\n    </tr>\n    <tr>\n      <th>std</th>\n      <td>89.922189</td>\n      <td>0.490423</td>\n      <td>0.943239</td>\n      <td>0.496435</td>\n      <td>1.794383</td>\n      <td>1.083487</td>\n      <td>0.587072</td>\n      <td>0.291248</td>\n      <td>25156.636930</td>\n      <td>0.472542</td>\n      <td>6.223419</td>\n      <td>16908.396884</td>\n      <td>8.078306</td>\n      <td>0.789938</td>\n      <td>0.909241</td>\n      <td>2.349421</td>\n      <td>1.294519</td>\n      <td>5.852596</td>\n    </tr>\n    <tr>\n      <th>min</th>\n      <td>10001.000000</td>\n      <td>0.000000</td>\n      <td>0.000000</td>\n      <td>0.000000</td>\n      <td>1.000000</td>\n      <td>1.000000</td>\n      <td>1.000000</td>\n      <td>0.000000</td>\n      <td>45046.000000</td>\n      <td>0.000000</td>\n      <td>1.000000</td>\n      <td>1013.000000</td>\n      <td>1.000000</td>\n      <td>1.120000</td>\n      <td>1.000000</td>\n      <td>0.000000</td>\n      <td>0.000000</td>\n      <td>1.000000</td>\n    </tr>\n    <tr>\n      <th>25%</th>\n      <td>10078.500000</td>\n      <td>0.000000</td>\n      <td>0.000000</td>\n      <td>0.000000</td>\n      <td>1.000000</td>\n      <td>5.000000</td>\n      <td>3.000000</td>\n      <td>0.000000</td>\n      <td>55501.500000</td>\n      <td>0.000000</td>\n      <td>18.000000</td>\n      <td>1901.500000</td>\n      <td>10.000000</td>\n      <td>3.690000</td>\n      <td>3.000000</td>\n      <td>0.000000</td>\n      <td>0.000000</td>\n      <td>5.000000</td>\n    </tr>\n    <tr>\n      <th>50%</th>\n      <td>10156.000000</td>\n      <td>0.000000</td>\n      <td>1.000000</td>\n      <td>0.000000</td>\n      <td>1.000000</td>\n      <td>5.000000</td>\n      <td>3.000000</td>\n      <td>0.000000</td>\n      <td>62810.000000</td>\n      <td>0.000000</td>\n      <td>19.000000</td>\n      <td>2132.000000</td>\n      <td>15.000000</td>\n      <td>4.280000</td>\n      <td>4.000000</td>\n      <td>0.000000</td>\n      <td>0.000000</td>\n      <td>10.000000</td>\n    </tr>\n    <tr>\n      <th>75%</th>\n      <td>10233.500000</td>\n      <td>1.000000</td>\n      <td>1.000000</td>\n      <td>1.000000</td>\n      <td>5.000000</td>\n      <td>5.000000</td>\n      <td>3.000000</td>\n      <td>0.000000</td>\n      <td>72036.000000</td>\n      <td>1.000000</td>\n      <td>20.000000</td>\n      <td>2355.000000</td>\n      <td>19.000000</td>\n      <td>4.700000</td>\n      <td>5.000000</td>\n      <td>0.000000</td>\n      <td>0.000000</td>\n      <td>15.000000</td>\n    </tr>\n    <tr>\n      <th>max</th>\n      <td>10311.000000</td>\n      <td>1.000000</td>\n      <td>4.000000</td>\n      <td>1.000000</td>\n      <td>5.000000</td>\n      <td>6.000000</td>\n      <td>4.000000</td>\n      <td>1.000000</td>\n      <td>250000.000000</td>\n      <td>1.000000</td>\n      <td>30.000000</td>\n      <td>98052.000000</td>\n      <td>39.000000</td>\n      <td>5.000000</td>\n      <td>5.000000</td>\n      <td>8.000000</td>\n      <td>6.000000</td>\n      <td>20.000000</td>\n    </tr>\n  </tbody>\n</table>\n</div>"
     },
     "metadata": {},
     "execution_count": 5
    }
   ],
   "source": [
    "df.describe()"
   ]
  },
  {
   "cell_type": "code",
   "execution_count": 6,
   "metadata": {},
   "outputs": [
    {
     "output_type": "execute_result",
     "data": {
      "text/plain": [
       "Employee_Name                 0.000000\n",
       "EmpID                         0.000000\n",
       "MarriedID                     0.000000\n",
       "MaritalStatusID               0.000000\n",
       "GenderID                      0.000000\n",
       "EmpStatusID                   0.000000\n",
       "DeptID                        0.000000\n",
       "PerfScoreID                   0.000000\n",
       "FromDiversityJobFairID        0.000000\n",
       "Salary                        0.000000\n",
       "Termd                         0.000000\n",
       "PositionID                    0.000000\n",
       "Position                      0.000000\n",
       "State                         0.000000\n",
       "Zip                           0.000000\n",
       "DOB                           0.000000\n",
       "Sex                           0.000000\n",
       "MaritalDesc                   0.000000\n",
       "CitizenDesc                   0.000000\n",
       "HispanicLatino                0.000000\n",
       "RaceDesc                      0.000000\n",
       "DateofHire                    0.000000\n",
       "DateofTermination             0.665595\n",
       "TermReason                    0.000000\n",
       "EmploymentStatus              0.000000\n",
       "Department                    0.000000\n",
       "ManagerName                   0.000000\n",
       "ManagerID                     0.025723\n",
       "RecruitmentSource             0.000000\n",
       "PerformanceScore              0.000000\n",
       "EngagementSurvey              0.000000\n",
       "EmpSatisfaction               0.000000\n",
       "SpecialProjectsCount          0.000000\n",
       "LastPerformanceReview_Date    0.000000\n",
       "DaysLateLast30                0.000000\n",
       "Absences                      0.000000\n",
       "dtype: float64"
      ]
     },
     "metadata": {},
     "execution_count": 6
    }
   ],
   "source": [
    "# Count NA's - see completeness of data\n",
    "df.isna().sum()/len(df)"
   ]
  },
  {
   "source": [
    "### Individual columns look okay. \n",
    "\n",
    "If we wanted to predict absenteeism, let's make that our target variable and see what correlates with it."
   ],
   "cell_type": "markdown",
   "metadata": {}
  },
  {
   "cell_type": "code",
   "execution_count": 9,
   "metadata": {},
   "outputs": [
    {
     "output_type": "error",
     "ename": "ModuleNotFoundError",
     "evalue": "No module named 'seaborn'",
     "traceback": [
      "\u001b[1;31m---------------------------------------------------------------------------\u001b[0m",
      "\u001b[1;31mModuleNotFoundError\u001b[0m                       Traceback (most recent call last)",
      "\u001b[1;32m<ipython-input-9-dc8fbfd1b41c>\u001b[0m in \u001b[0;36m<module>\u001b[1;34m\u001b[0m\n\u001b[0;32m      1\u001b[0m \u001b[1;32mimport\u001b[0m \u001b[0mmatplotlib\u001b[0m\u001b[1;33m.\u001b[0m\u001b[0mpyplot\u001b[0m \u001b[1;32mas\u001b[0m \u001b[0mplt\u001b[0m\u001b[1;33m\u001b[0m\u001b[1;33m\u001b[0m\u001b[0m\n\u001b[1;32m----> 2\u001b[1;33m \u001b[1;32mimport\u001b[0m \u001b[0mseaborn\u001b[0m\u001b[1;33m\u001b[0m\u001b[1;33m\u001b[0m\u001b[0m\n\u001b[0m",
      "\u001b[1;31mModuleNotFoundError\u001b[0m: No module named 'seaborn'"
     ]
    }
   ],
   "source": [
    "import matplotlib.pyplot as plt\n",
    "import seaborn"
   ]
  },
  {
   "cell_type": "code",
   "execution_count": 19,
   "metadata": {},
   "outputs": [
    {
     "output_type": "error",
     "ename": "SyntaxError",
     "evalue": "invalid syntax (<ipython-input-19-1096501ae979>, line 1)",
     "traceback": [
      "\u001b[1;36m  File \u001b[1;32m\"<ipython-input-19-1096501ae979>\"\u001b[1;36m, line \u001b[1;32m1\u001b[0m\n\u001b[1;33m    python -m pip install matplotlib\u001b[0m\n\u001b[1;37m                ^\u001b[0m\n\u001b[1;31mSyntaxError\u001b[0m\u001b[1;31m:\u001b[0m invalid syntax\n"
     ]
    }
   ],
   "source": [
    "python -m pip install matplotlib"
   ]
  },
  {
   "cell_type": "code",
   "execution_count": 37,
   "metadata": {
    "tags": []
   },
   "outputs": [
    {
     "output_type": "execute_result",
     "data": {
      "text/plain": [
       "      1         0   \n",
       "27             Bozzi, Charles  10175          0                0         1   \n",
       "28               Brill, Donna  10177          1                1         0   \n",
       "29                 Brown, Mia  10238          1                1         0   \n",
       "..                        ...    ...        ...              ...       ...   \n",
       "281         Tippett, Jeanette  10123          0                2         0   \n",
       "282            Torrence, Jack  10013          0                3         1   \n",
       "283                Trang, Mei  10287          0                0         0   \n",
       "284      Tredinnick, Neville   10044          1                1         1   \n",
       "285              True, Edward  10102          0                0         1   \n",
       "286           Trzeciak, Cybil  10270          0                0         0   \n",
       "287             Turpin, Jumil  10045          1                1         1   \n",
       "288           Valentin,Jackie  10205          1                1         0   \n",
       "289          Veera, Abdellah   10014          0                2         1   \n",
       "290             Vega, Vincent  10144          0                2         1   \n",
       "291          Villanueva, Noah  10253          0                0         1   \n",
       "292           Voldemort, Lord  10118          1                1         1   \n",
       "293             Volk, Colleen  10022          1                1         0   \n",
       "294      Von Massenbach, Anna  10183          0                0         0   \n",
       "295             Walker, Roger  10190          0                0         1   \n",
       "296      Wallace, Courtney  E  10274          1                1         0   \n",
       "297          Wallace, Theresa  10293          0                0         0   \n",
       "298             Wang, Charlie  10172          0                0         1   \n",
       "299           Warfield, Sarah  10127          0                4         0   \n",
       "300           Whittier, Scott  10072          0                0         1   \n",
       "301             Wilber, Barry  10048          1                1         1   \n",
       "302             Wilkes, Annie  10204          0                2         0   \n",
       "303     Williams, Jacquelyn    10264          0                0         0   \n",
       "304        Winthrop, Jordan    10033          0                0         1   \n",
       "305             Wolk, Hang  T  10174          0                0         0   \n",
       "306            Woodson, Jason  10135          0                0         1   \n",
       "307        Ybarra, Catherine   10301          0                0         0   \n",
       "308          Zamora, Jennifer  10010          0                0         0   \n",
       "309               Zhou, Julia  10043          0                0         0   \n",
       "310             Zima, Colleen  10271          0                4         0   \n",
       "\n",
       "     EmpStatusID  DeptID  PerfScoreID  FromDiversityJobFairID  Salary  ...  \\\n",
       "0              1       5            4                       0   62506  ...   \n",
       "1              5       3            3                       0  104437  ...   \n",
       "2              5       5            3                       0   64955  ...   \n",
       "3              1       5            3                       0   64991  ...   \n",
       "4              5       5            3                       0   50825  ...   \n",
       "5              1       5            4                       0   57568  ...   \n",
       "6              1       4            3                       0   95660  ...   \n",
       "7              1       5            3                       0   59365  ...   \n",
       "8              3       5            3                       1   47837  ...   \n",
       "9              1       3            3                       0   50178  ...   \n",
       "10             5       5            3                       1   54670  ...   \n",
       "11             5       5            3                       1   47211  ...   \n",
       "12             1       3            4                       1   92328  ...   \n",
       "13             1       5            3                       0   58709  ...   \n",
       "14             5       5            3                       0   52505  ...   \n",
       "15             4       5            3                       0   57834  ...   \n",
       "16             2       5            4                       0   70131  ...   \n",
       "17             1       5            3                       0   59026  ...   \n",
       "18             4       3            3                       0  110000  ...   \n",
       "19             3       5            3                       0   53250  ...   \n",
       "20             1       5            3                       0   51044  ...   \n",
       "21             1       5            3                       0   64919  ...   \n",
       "22             1       5            4                       0   62910  ...   \n",
       "23             1       5            2                       0   66441  ...   \n",
       "24             5       5            3                       0   57815  ...   \n",
       "25             4       3            3                       0  103613  ...   \n",
       "26             1       1            3                       1  106367  ...   \n",
       "27             5       5            3                       0   74312  ...   \n",
       "28             5       5            3                       0   53492  ...   \n",
       "29             1       1            3                       1   63000  ...   \n",
       "..           ...     ...          ...                     ...     ...  ...   \n",
       "281            1       5            3                       0   56339  ...   \n",
       "282            1       6            4                       0   64397  ...   \n",
       "283            1       5            2                       0   63025  ...   \n",
       "284            5       3            3                       0   75281  ...   \n",
       "285            5       4            3                       1  100416  ...   \n",
       "286            5       5            3                       0   74813  ...   \n",
       "287            1       3            3                       0   76029  ...   \n",
       "288            1       6            3                       0   57859  ...   \n",
       "289            5       5            4                       0   58523  ...   \n",
       "290            1       5            3                       0   88976  ...   \n",
       "291            1       6            3                       0   55875  ...   \n",
       "292            4       3            3                       0  113999  ...   \n",
       "293            4       5            4                       0   49773  ...   \n",
       "294            2       5            3                       0   62068  ...   \n",
       "295            1       5            3                       0   66541  ...   \n",
       "296            5       5            3                       1   80512  ...   \n",
       "297            5       5            2                       0   50274  ...   \n",
       "298            1       3            3                       0   84903  ...   \n",
       "299            1       3            3                       0  107226  ...   \n",
       "300            5       5            3                       0   58371  ...   \n",
       "301            5       5            3                       0   55140  ...   \n",
       "302            5       5            3                       0   58062  ...   \n",
       "303            5       5            3                       1   59728  ...   \n",
       "304            5       5            4                       0   70507  ...   \n",
       "305            1       5            3                       0   60446  ...   \n",
       "306            1       5            3                       0   65893  ...   \n",
       "307            5       5            1                       0   48513  ...   \n",
       "308            1       3            4                       0  220450  ...   \n",
       "309            1       3            3                       0   89292  ...   \n",
       "310            1       5            3                       0   45046  ...   \n",
       "\n",
       "            ManagerName  ManagerID        RecruitmentSource  \\\n",
       "0        Michael Albert       22.0                 LinkedIn   \n",
       "1            Simon Roup        4.0                   Indeed   \n",
       "2        Kissy Sullivan       20.0                 LinkedIn   \n",
       "3          Elijiah Gray       16.0                   Indeed   \n",
       "4        Webster Butler       39.0            Google Search   \n",
       "5              Amy Dunn       11.0                 LinkedIn   \n",
       "6       Alex Sweetwater       10.0                 LinkedIn   \n",
       "7         Ketsia Liebig       19.0        Employee Referral   \n",
       "8        Brannon Miller       12.0       Diversity Job Fair   \n",
       "9          Peter Monroe        7.0                   Indeed   \n",
       "10        David Stanley       14.0       Diversity Job Fair   \n",
       "11       Kissy Sullivan       20.0       Diversity Job Fair   \n",
       "12           Simon Roup        4.0       Diversity Job Fair   \n",
       "13        Kelley Spirea       18.0            Google Search   \n",
       "14       Michael Albert       22.0  On-line Web application   \n",
       "15        Kelley Spirea       18.0            Google Search   \n",
       "16        Kelley Spirea       18.0        Employee Referral   \n",
       "17         Elijiah Gray       16.0            Google Search   \n",
       "18           Simon Roup        4.0            Google Search   \n",
       "19       Webster Butler        NaN                 LinkedIn   \n",
       "20             Amy Dunn       11.0            Google Search   \n",
       "21        Ketsia Liebig       19.0                   Indeed   \n",
       "22       Brannon Miller       12.0                   Indeed   \n",
       "23       Michael Albert       22.0            CareerBuilder   \n",
       "24         Elijiah Gray       16.0            Google Search   \n",
       "25           Simon Roup        4.0                 LinkedIn   \n",
       "26   Brandon R. LeBlanc        3.0       Diversity Job Fair   \n",
       "27           Janet King        2.0                   Indeed   \n",
       "28        David Stanley       14.0            Google Search   \n",
       "29   Brandon R. LeBlanc        1.0       Diversity Job Fair   \n",
       "..                  ...        ...                      ...   \n",
       "281      Brannon Miller       12.0                   Indeed   \n",
       "282       Lynn Daneault       21.0                   Indeed   \n",
       "283       David Stanley       14.0                 LinkedIn   \n",
       "284        Peter Monroe        7.0            CareerBuilder   \n",
       "285     Alex Sweetwater       10.0       Diversity Job Fair   \n",
       "286            Amy Dunn       11.0                 LinkedIn   \n",
       "287        Peter Monroe        7.0        Employee Referral   \n",
       "288          John Smith       17.0                   Indeed   \n",
       "289      Kissy Sullivan       20.0                 LinkedIn   \n",
       "290          Janet King        2.0        Employee Referral   \n",
       "291          John Smith       17.0                  Website   \n",
       "292          Simon Roup        4.0        Employee Referral   \n",
       "293       Kelley Spirea       18.0            Google Search   \n",
       "294      Michael Albert       22.0                 LinkedIn   \n",
       "295       Ketsia Liebig       19.0        Employee Referral   \n",
       "296          Janet King        2.0       Diversity Job Fair   \n",
       "297        Elijiah Gray       16.0            CareerBuilder   \n",
       "298    Brian Champaigne       13.0                   Indeed   \n",
       "299        Peter Monroe        7.0        Employee Referral   \n",
       "300      Webster Butler       39.0                 LinkedIn   \n",
       "301            Amy Dunn       11.0                  Website   \n",
       "302       Ketsia Liebig       19.0            Google Search   \n",
       "303       Ketsia Liebig       19.0       Diversity Job Fair   \n",
       "304      Brannon Miller       12.0                 LinkedIn   \n",
       "305       David Stanley       14.0                 LinkedIn   \n",
       "306      Kissy Sullivan       20.0                 LinkedIn   \n",
       "307      Brannon Miller       12.0            Google Search   \n",
       "308          Janet King        2.0        Employee Referral   \n",
       "309          Simon Roup        4.0        Employee Referral   \n",
       "310       David Stanley       14.0                 LinkedIn   \n",
       "\n",
       "      PerformanceScore  EngagementSurvey EmpSatisfaction SpecialProjectsCount  \\\n",
       "0              Exceeds              4.60               5                    0   \n",
       "1          Fully Meets              4.96               3                    6   \n",
       "2          Fully Meets              3.02               3                    0   \n",
       "3          Fully Meets              4.84               5                    0   \n",
       "4          Fully Meets              5.00               4                    0   \n",
       "5              Exceeds              5.00               5                    0   \n",
       "6          Fully Meets              3.04               3                    4   \n",
       "7          Fully Meets              5.00               4                    0   \n",
       "8          Fully Meets              4.46               3                    0   \n",
       "9          Fully Meets              5.00               5                    6   \n",
       "10         Fully Meets              4.20               4                    0   \n",
       "11         Fully Meets              4.20               3                    0   \n",
       "12             Exceeds              4.28               4                    5   \n",
       "13         Fully Meets              4.60               4                    0   \n",
       "14         Fully Meets              5.00               5                    0   \n",
       "15         Fully Meets              5.00               4                    0   \n",
       "16             Exceeds              4.40               3                    0   \n",
       "17         Fully Meets              5.00               5                    0   \n",
       "18         Fully Meets              4.50               4                    5   \n",
       "19         Fully Meets              4.20               4                    0   \n",
       "20         Fully Meets              5.00               3                    0   \n",
       "21         Fully Meets              4.20               3                    0   \n",
       "22             Exceeds              5.00               3                    0   \n",
       "23   Needs Improvement              2.00               3                    0   \n",
       "24         Fully Meets              4.80               5                    0   \n",
       "25         Fully Meets              3.50               5                    7   \n",
       "26         Fully Meets              5.00               4                    3   \n",
       "27         Fully Meets              3.39               3                    0   \n",
       "28         Fully Meets              3.35               4                    0   \n",
       "29         Fully Meets              4.50               2                    6   \n",
       "..                 ...               ...             ...                  ...   \n",
       "281        Fully Meets              4.21               5                    0   \n",
       "282            Exceeds              4.10               3                    0   \n",
       "283  Needs Improvement              2.44               5                    0   \n",
       "284        Fully Meets              5.00               3                    5   \n",
       "285        Fully Meets              4.60               3                    4   \n",
       "286        Fully Meets              4.40               3                    0   \n",
       "287        Fully Meets              5.00               4                    7   \n",
       "288        Fully Meets              2.81               3                    0   \n",
       "289            Exceeds              4.50               5                    0   \n",
       "290        Fully Meets              3.93               3                    0   \n",
       "291        Fully Meets              4.50               4                    0   \n",
       "292        Fully Meets              4.33               3                    7   \n",
       "293            Exceeds              4.30               5                    0   \n",
       "294        Fully Meets              3.21               3                    0   \n",
       "295        Fully Meets              3.11               5                    0   \n",
       "296        Fully Meets              4.50               3                    0   \n",
       "297  Needs Improvement              2.50               3                    0   \n",
       "298        Fully Meets              3.42               4                    7   \n",
       "299        Fully Meets              4.20               4                    8   \n",
       "300        Fully Meets              5.00               5                    0   \n",
       "301        Fully Meets              5.00               3                    0   \n",
       "302        Fully Meets              3.60               5                    0   \n",
       "303        Fully Meets              4.30               4                    0   \n",
       "304            Exceeds              5.00               3                    0   \n",
       "305        Fully Meets              3.40               4                    0   \n",
       "306        Fully Meets              4.07               4                    0   \n",
       "307                PIP              3.20               2                    0   \n",
       "308            Exceeds              4.60               5                    6   \n",
       "309        Fully Meets              5.00               3                    5   \n",
       "310        Fully Meets              4.50               5                    0   \n",
       "\n",
       "    LastPerformanceReview_Date DaysLateLast30 Absences  \n",
       "0                    1/17/2019              0        1  \n",
       "1                    2/24/2016              0       17  \n",
       "2                    5/15/2012              0        3  \n",
       "3                     1/3/2019              0       15  \n",
       "4                     2/1/2016              0        2  \n",
       "5                     1/7/2019              0       15  \n",
       "6                     1/2/2019              0       19  \n",
       "7                    2/25/2019              0       19  \n",
       "8                    1/25/2019              0        4  \n",
       "9                    2/18/2019              0       16  \n",
       "10                   1/30/2016              0       12  \n",
       "11                    5/6/2016              0       15  \n",
       "12                   2/25/2019              0        9  \n",
       "13                   2/14/2019              0        7  \n",
       "14                    3/2/2017              0        1  \n",
       "15                    4/5/2017              0       20  \n",
       "16                   1/14/2019              0       16  \n",
       "17                   1/14/2019              0       12  \n",
       "18                   1/15/2015              0        8  \n",
       "19                   1/11/2019              0       13  \n",
       "20                   1/14/2019              0       13  \n",
       "21                   1/10/2019              0        2  \n",
       "22                   2/27/2019              0       19  \n",
       "23                   2/27/2019              2        3  \n",
       "24                    3/4/2014              0        5  \n",
       "25                   1/10/2016              0        2  \n",
       "26                   2/18/2019              0        4  \n",
       "27                   2/20/2014              0       14  \n",
       "28                    3/4/2013              0        6  \n",
       "29                   1/15/2019              0       14  \n",
       "..                         ...            ...      ...  \n",
       "281                  1/14/2019              0        4  \n",
       "282                   1/4/2019              0        6  \n",
       "283                  2/11/2019              4       18  \n",
       "284                  4/15/2015              0       11  \n",
       "285                  2/12/2017              0        9  \n",
       "286                   1/5/2014              0        5  \n",
       "287                  1/14/2019              0        8  \n",
       "288                  1/17/2019              0       16  \n",
       "289                   2/1/2016              0       15  \n",
       "290                  2/27/2019              0       19  \n",
       "291                  1/18/2019              0       11  \n",
       "292                  2/15/2017              0        9  \n",
       "293                   2/1/2015              0       18  \n",
       "294                  1/29/2019              0        7  \n",
       "295                  2/12/2019              0        4  \n",
       "296                   1/2/2012              0        5  \n",
       "297                   9/5/2014              6       13  \n",
       "298                   1/4/2019              0       17  \n",
       "299                   2/5/2019              0        7  \n",
       "300                  5/15/2014              0       11  \n",
       "301                  2/15/2015              0        7  \n",
       "302                   2/6/2011              0        9  \n",
       "303                   6/2/2014              0       16  \n",
       "304                  1/19/2016              0        7  \n",
       "305                  2/21/2019              0       14  \n",
       "306                  2/28/2019              0       13  \n",
       "307                   9/2/2015              5        4  \n",
       "308                  2/21/2019              0       16  \n",
       "309                   2/1/2019              0       11  \n",
       "310                  1/30/2019              0        2  \n",
       "\n",
       "[311 rows x 36 columns]>"
      ]
     },
     "metadata": {},
     "execution_count": 37
    }
   ],
   "source": [
    "df.corr"
   ]
  },
  {
   "cell_type": "code",
   "execution_count": null,
   "metadata": {},
   "outputs": [],
   "source": []
  }
 ]
}