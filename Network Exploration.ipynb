{
 "cells": [
  {
   "cell_type": "code",
   "execution_count": 1,
   "metadata": {},
   "outputs": [],
   "source": [
    "# https://link.medium.com/1KQL5VKNZlb\n",
    "# https://link.medium.com/m7tcwAkOZlb"
   ]
  },
  {
   "cell_type": "code",
   "execution_count": 2,
   "metadata": {},
   "outputs": [
    {
     "data": {
      "image/png": "[encoded data removed]",
      "text/plain": [
       "<Figure size 480x360 with 1 Axes>"
      ]
     },
     "metadata": {
      "image/png": {
       "height": 380,
       "width": 499
      }
     },
     "output_type": "display_data"
    }
   ],
   "source": [
    "import networkx as nx\n",
    "import matplotlib.pyplot as plt\n",
    "G = nx.Graph()\n",
    "G.add_edge(1,2)\n",
    "G.add_edge(1,3)\n",
    "nx.draw(G, with_labels = True)\n",
    "plt.show()"
   ]
  },
  {
   "cell_type": "code",
   "execution_count": 8,
   "metadata": {},
   "outputs": [],
   "source": [
    "import numpy as np\n",
    "import pandas as pd\n",
    "import re\n",
    "\n",
    "import plotly.offline as py\n",
    "import plotly.graph_objects as go\n",
    "import networkx as nx"
   ]
  },
  {
   "cell_type": "code",
   "execution_count": 11,
   "metadata": {},
   "outputs": [],
   "source": [
    "import urllib.request\n",
    "response = urllib.request.urlopen('https://www.gutenberg.org/files/1514/1514-0.txt')\n",
    "html = response.read()\n"
   ]
  },
  {
   "cell_type": "code",
   "execution_count": 12,
   "metadata": {},
   "outputs": [],
   "source": [
    "from bs4 import BeautifulSoup\n",
    "soup = BeautifulSoup(html)\n",
    "text = soup.get_text(strip=True)\n",
    "#print(text)"
   ]
  },
  {
   "cell_type": "code",
   "execution_count": 13,
   "metadata": {},
   "outputs": [
    {
     "name": "stdout",
     "output_type": "stream",
     "text": [
      "10\n"
     ]
    }
   ],
   "source": [
    "# Get sccenes\n",
    "scenes = text.split('SCENE ')\n",
    "print(len(scenes))"
   ]
  },
  {
   "cell_type": "code",
   "execution_count": 14,
   "metadata": {},
   "outputs": [
    {
     "data": {
      "text/plain": [
       "['Theseus',\n",
       " 'Hippolyta',\n",
       " 'Egeus',\n",
       " 'Hermia',\n",
       " 'Helena',\n",
       " 'Lysander',\n",
       " 'Demetrius',\n",
       " 'Philostrate',\n",
       " 'Quince',\n",
       " 'Snug',\n",
       " 'Bottom',\n",
       " 'Flute',\n",
       " 'Snout',\n",
       " 'Starveling',\n",
       " 'Oberon',\n",
       " 'Titania',\n",
       " 'Puck',\n",
       " 'Goodfellow',\n",
       " 'Peaseblossom',\n",
       " 'Cobweb',\n",
       " 'Moth',\n",
       " 'Mustardseed',\n",
       " 'Pyramus',\n",
       " 'Thisbe',\n",
       " 'Wall',\n",
       " 'Moonshine',\n",
       " 'Lion']"
      ]
     },
     "execution_count": 14,
     "metadata": {},
     "output_type": "execute_result"
    }
   ],
   "source": [
    "# Get Characters\n",
    "characters = re.findall('[A-Z]+[,;]',scenes[0])\n",
    "characters = [name.strip(',').strip(';').title() for name in characters]\n",
    "characters"
   ]
  },
  {
   "cell_type": "code",
   "execution_count": 15,
   "metadata": {},
   "outputs": [
    {
     "data": {
      "text/plain": [
       "['Theseus',\n",
       " 'Hippolyta',\n",
       " 'Egeus',\n",
       " 'Hermia',\n",
       " 'Helena',\n",
       " 'Lysander',\n",
       " 'Demetrius',\n",
       " 'Philostrate',\n",
       " 'Quince',\n",
       " 'Snug',\n",
       " 'Bottom',\n",
       " 'Flute',\n",
       " 'Snout',\n",
       " 'Starveling',\n",
       " 'Oberon',\n",
       " 'Titania',\n",
       " 'Puck',\n",
       " 'Peaseblossom',\n",
       " 'Cobweb',\n",
       " 'Moth',\n",
       " 'Mustardseed',\n",
       " 'Pyramus',\n",
       " 'Thisbe',\n",
       " 'Wall',\n",
       " 'Moonshine',\n",
       " 'Lion',\n",
       " 'Fairies',\n",
       " 'Attendants']"
      ]
     },
     "execution_count": 15,
     "metadata": {},
     "output_type": "execute_result"
    }
   ],
   "source": [
    "characters.remove('Goodfellow')\n",
    "characters.append('Fairies')\n",
    "characters.append('Attendants')\n",
    "characters"
   ]
  },
  {
   "cell_type": "code",
   "execution_count": 48,
   "metadata": {},
   "outputs": [],
   "source": [
    "# Import functions\n",
    "def get_empty_appearances(characters, num = False):\n",
    "\n",
    "    '''Create dictionary of dictionaries to track coappearances of characters\n",
    "    Parameters\n",
    "    ----------\n",
    "    characters: list of character names\n",
    "    num       : whether or not the dictionary of dictionaries should initialize\n",
    "                to 0 (True) or an empty list (False)\n",
    "    Returns\n",
    "    -------\n",
    "    Dictionary of dictionaries where each key is each character and each value\n",
    "    is a dictionary with all other characters as keys, and values as 0 or [].\n",
    "    '''\n",
    "\n",
    "    appearances = {}\n",
    "    for character in characters:\n",
    "        companions = {}\n",
    "        for companion in characters:\n",
    "            if companion != character:\n",
    "\n",
    "                if num:\n",
    "                    companions[companion] = 0\n",
    "\n",
    "                else:\n",
    "                    companions[companion] = []\n",
    "        appearances[character] = companions\n",
    "    return appearances\n",
    "\n",
    "\n",
    "def switch_char(old_char, new_char, lst):\n",
    "\n",
    "    '''Switch character name in list\n",
    "    Parameters\n",
    "    ----------\n",
    "    old_char: character name to be replaced\n",
    "    new_char: character name to replace with\n",
    "    lst     : list of character names\n",
    "    Returns\n",
    "    -------\n",
    "    A list of character names with the old_char replaced with the new_char\n",
    "    '''\n",
    "\n",
    "    new_lst = [char for char in lst]\n",
    "    new_lst.remove(old_char)\n",
    "\n",
    "    # Check for existing duplicate\n",
    "    if new_char not in new_lst:\n",
    "        new_lst.extend([new_char])\n",
    "    return new_lst\n",
    "\n",
    "###############################################################################\n",
    "##     ADD COAPPEARANCE FUNCTION     ##########################################\n",
    "###############################################################################\n",
    "\n",
    "def add_coappear(curr_lst, entered_lst, appearances, scene, internal_cast):\n",
    "\n",
    "    '''Add coappearances between those who entered and those who are in the scene\n",
    "    Parameters\n",
    "    ----------\n",
    "    curr_lst     : characters currently in the scene\n",
    "    entered_lst  : characters that just entered\n",
    "    appearances  : dictionary of dictionaries to store appearances\n",
    "    scene        : scene number\n",
    "    internal_cast: dictionary connecting cast to cast in play within a play\n",
    "    Returns\n",
    "    -------\n",
    "    An updated dictionary of dictionaries with added coappearances\n",
    "    '''\n",
    "\n",
    "    # Create new lists for char_names (entered) and current_chars\n",
    "    # Fairy = Fairies\n",
    "    # Lords/Attendants = Attendants\n",
    "    current_chars = [char for char in curr_lst]\n",
    "    char_names    = [char for char in entered_lst]\n",
    "\n",
    "    char_dict     = {'Fairy': 'Fairies',\n",
    "                     'Lords': 'Attendants'}\n",
    "\n",
    "    # Adjust names in current_chars and char_names (entered) for Fairies/Lords\n",
    "    for char_key in char_dict.keys():\n",
    "        if char_key in current_chars:\n",
    "            current_chars = switch_char(char_key, char_dict[char_key],\n",
    "                                        current_chars)\n",
    "        if char_key in char_names:\n",
    "            char_names    = switch_char(char_key, char_dict[char_key],\n",
    "                                        char_names)\n",
    "\n",
    "    # Adjust names in current_chars and char_names (entered) for internal cast\n",
    "    for char_key in internal_cast.keys():\n",
    "        if char_key in current_chars:\n",
    "            current_chars = switch_char(char_key, internal_cast[char_key],\n",
    "                                        current_chars)\n",
    "        if char_key in char_names:\n",
    "            char_names    = switch_char(char_key, internal_cast[char_key],\n",
    "                                        char_names)\n",
    "\n",
    "    # Handle Train, which can be Attendants or Fairies\n",
    "    if 'Train' in char_names:\n",
    "        if ('Oberon' in char_names) | ('Titania' in char_names):\n",
    "            char_names = switch_char('Train', 'Fairies', char_names)\n",
    "\n",
    "        elif ('Egeus' in char_names):\n",
    "            char_names = switch_char('Train', 'Attendants', char_names)\n",
    "\n",
    "    # Add co-appearances with each other\n",
    "    for char in char_names:\n",
    "        if char in appearances.keys():\n",
    "            for co_char in char_names:\n",
    "                if (co_char != char) & (co_char in appearances.keys()):\n",
    "                    if scene not in appearances[char][co_char]:\n",
    "                        appearances[char][co_char].extend([scene])\n",
    "\n",
    "    # Add co-appearances with characters already in scene\n",
    "    if len(current_chars) != 0:\n",
    "        for char in current_chars:\n",
    "            if char in appearances.keys():\n",
    "                for co_char in char_names:\n",
    "                    if (co_char != char) & (co_char in appearances.keys()):\n",
    "\n",
    "                        # Check for duplicates\n",
    "                        if scene not in appearances[char][co_char]:\n",
    "                            appearances[char][co_char].extend([scene])\n",
    "\n",
    "                        if scene not in appearances[co_char][char]:\n",
    "                            appearances[co_char][char].extend([scene])\n",
    "\n",
    "    return appearances\n",
    "\n",
    "###############################################################################\n",
    "##     MAIN FUNCTION     ######################################################\n",
    "###############################################################################\n",
    "\n",
    "def get_coappear(scene, act, int_cast_dict, all_appearances):\n",
    "\n",
    "    '''Get coappearances that occur throughout a given scene's text\n",
    "    Parameters\n",
    "    ----------\n",
    "    scene          : scene text, starts with scene number (I., II., III., ...)\n",
    "    act            : string for act number in Roman numerals (I, II, III, ...)\n",
    "    int_cast_dict  : dictionary for cast of play within a play\n",
    "    all_appearances: dictionary of dictionaries for coappearances between all\n",
    "                     characters in the play\n",
    "    Returns\n",
    "    -------\n",
    "    An updated dictionary of dictionaries with added coappearances\n",
    "    '''\n",
    "\n",
    "    # Get stage directions before characters enter\n",
    "    intro = scene.split('Enter')[0].strip()\n",
    "\n",
    "    # Find all entrances, exits, and sleeping\n",
    "    all_results = re.findall('(Enter [A-Za-z,:; \\n’]+\\.|[A-Z]+\\.|Exit [A-Za-z, \\n]+\\.|Exit.|Exeunt [A-Za-z, \\n]+\\.|Exeunt.|\\[_.*[Ss]leep.*_])', scene)\n",
    "    all_results = [result.strip('[_').strip('_]') for result in all_results]\n",
    "\n",
    "    curr_char = []  # Characters currently in scene\n",
    "    prev_speak = '' # Who is current speaker likely speaking to\n",
    "    curr_speak = '' # Who is the current speaker, can track who is exiting\n",
    "    asleep = []     # Characters currently asleep (cannot exeunt)\n",
    "\n",
    "    for result in all_results:\n",
    "\n",
    "        print(result)\n",
    "\n",
    "        # CASE: Get the act + scene number\n",
    "        if result in ['I.', 'II.']:\n",
    "            if curr_char == []:\n",
    "                scene = act + result.strip('.').lower()\n",
    "\n",
    "                # CASE: sleeping characters being in scene already\n",
    "                # Get character names, add to current character\n",
    "                # and sleeping lists\n",
    "                if 'asleep' in intro:\n",
    "\n",
    "                    # SPECIAL CASE: Titania referred to as The Queen\n",
    "                    if 'The Queen' in intro:\n",
    "                        asleep.extend(['Titania'])\n",
    "                        curr_char.extend(asleep)\n",
    "\n",
    "                    # CASE: all other sleeping characters\n",
    "                    else:\n",
    "                        chars = re.findall('[A-Z][a-z]+', intro.split('\\n')[-1].strip())\n",
    "                        asleep.extend(chars)\n",
    "                        all_appearances = add_coappear(curr_char, asleep,\n",
    "                                                       all_appearances, scene,\n",
    "                                                       int_cast_dict)\n",
    "                        curr_char.extend(asleep)\n",
    "\n",
    "            else:\n",
    "                continue\n",
    "\n",
    "        # CASE: Characters have entered\n",
    "        # Get character names, add coappearances, update current character list\n",
    "        elif 'Enter' in result:\n",
    "\n",
    "            # Find all proper nouns (characters) in result\n",
    "            chars = re.findall('[A-Z][a-z]+', result.strip('Enter').strip())\n",
    "\n",
    "            # CASE: fairies\n",
    "            if result == 'Enter four Fairies.':\n",
    "                fairies = ['Peaseblossom', 'Cobweb', 'Moth', 'Mustardseed']\n",
    "                all_appearances = add_coappear(curr_char, fairies,\n",
    "                                               all_appearances, scene,\n",
    "                                               int_cast_dict)\n",
    "                curr_char.extend(fairies)\n",
    "\n",
    "            # CASE: all other characters\n",
    "            else:\n",
    "                all_appearances = add_coappear(curr_char, chars,\n",
    "                                               all_appearances, scene,\n",
    "                                               int_cast_dict)\n",
    "                curr_char.extend(chars)\n",
    "\n",
    "        # CASE: someone is speaking\n",
    "        elif re.match('[A-Z]+\\.', result):\n",
    "\n",
    "            # New speaker, save current speaker as previous speaker\n",
    "            if curr_speak != '':\n",
    "                prev_speak = curr_speak\n",
    "\n",
    "            curr_speak = result.strip('.').title()\n",
    "\n",
    "            # If they are speaking then they could not still be asleep\n",
    "            # Update sleeping list\n",
    "            if curr_speak in asleep:\n",
    "                asleep.remove(curr_speak)\n",
    "\n",
    "        # CASE: exit without specified character, assume is curr_speak\n",
    "        elif result == 'Exit.':\n",
    "\n",
    "            # CASE: actors in play within play exit\n",
    "            if curr_speak not in curr_char:\n",
    "                actor = ''\n",
    "                if curr_speak in int_cast_dict.keys():\n",
    "                    actor = int_cast_dict[curr_speak]\n",
    "                    curr_char.remove(actor)\n",
    "\n",
    "                else:\n",
    "                    print('WE HAVE A PROBLEM HERE.')\n",
    "\n",
    "            # CASE: all other characters, assume curr_speak exits\n",
    "            else:\n",
    "                pass#curr_char.remove(curr_speak)\n",
    "\n",
    "        # CASE: exeunt without specified characters, assume all conscious\n",
    "        #       characters exit\n",
    "        elif result == 'Exeunt.':\n",
    "            to_exit = [char for char in curr_char if char not in asleep]\n",
    "\n",
    "            #for char in to_exit:\n",
    "                #curr_char.remove(char)\n",
    "\n",
    "        # CASE: specified characters exit\n",
    "        elif (('Exit' in result) | ('Exeunt' in result)) & ('all but' not in result):\n",
    "\n",
    "            # CASE: someone exits and someone sleeps in same stage direction\n",
    "            if 'sleep' in result:\n",
    "                stage_dir = result.split('. ')\n",
    "\n",
    "                for dir_ in stage_dir:\n",
    "\n",
    "                    # First half of direction, get those who exit\n",
    "                    if 'Exeunt' in dir_:\n",
    "                        chars = re.findall('[A-Z][a-z]+',\n",
    "                                dir_.strip('Exeunt').strip())\n",
    "                        for char in chars:\n",
    "                            if (char == 'Fairies'):\n",
    "                                if 'Fairies' in curr_char:\n",
    "                                    curr_char.remove('Fairies')\n",
    "                                elif 'Train' in curr_char:\n",
    "                                    curr_char.remove('Train')\n",
    "\n",
    "                    # Get other part of direction where someone sleeps\n",
    "                    elif 'sleep' in dir_:\n",
    "                        chars = re.findall('[A-Z][a-z]+', dir_)\n",
    "                        for char in chars:\n",
    "                            asleep.extend([char])\n",
    "\n",
    "            # CASE: all other exit cases\n",
    "            # Find characters in stage direction, update current character list\n",
    "            else:\n",
    "                chars = re.findall('[A-Z][a-z]+',\n",
    "                        result.strip('Exit').strip().strip('Exeunt').strip())\n",
    "\n",
    "                for char in chars:\n",
    "\n",
    "                    # Stage directions interchangeably refer to Fairies and Trains\n",
    "                    if (char == 'Fairies'):\n",
    "                        if 'Fairies' in curr_char:\n",
    "                            curr_char.remove('Fairies')\n",
    "\n",
    "                        elif 'Train' in curr_char:\n",
    "                            curr_char.remove('Train')\n",
    "\n",
    "                    # Stage directions will interchangeably refer to clowns\n",
    "                    elif char == 'Clowns':\n",
    "                        for actor in ['Flute', 'Snout', 'Starveling', 'Quince', 'Snug']:\n",
    "                            if actor in curr_char:\n",
    "                                curr_char.remove(actor)\n",
    "\n",
    "                    # CASE: just because one attendant leaves does not mean all\n",
    "                    #       attendants leave\n",
    "                    elif char == 'Attendant':\n",
    "                        continue\n",
    "\n",
    "                    # CASE: all other exits, just remove the character\n",
    "                    else:\n",
    "                        pass#curr_char.remove(char)\n",
    "\n",
    "        # CASE: exeunt all but, remove all current characters except those in\n",
    "        #       stage direction\n",
    "        elif 'Exeunt all but' in result:\n",
    "            chars = re.findall('[A-Z][a-z]+', result.strip('Exeunt all but').strip())\n",
    "            curr_char = [char for char in curr_char if char in chars]\n",
    "\n",
    "        # CASE: sleep without specified character, assumes current speaker sleeps\n",
    "        elif ('Sleeps.' in result) | ('Lies down and sleeps.' in result):\n",
    "            asleep.extend([curr_speak])\n",
    "\n",
    "        # CASE: assume that they refers to current speaker and previous speaker\n",
    "        elif 'They sleep' in result:\n",
    "            asleep.extend([curr_speak])\n",
    "            asleep.extend([prev_speak])\n",
    "\n",
    "    return all_appearances"
   ]
  },
  {
   "cell_type": "code",
   "execution_count": 49,
   "metadata": {},
   "outputs": [],
   "source": [
    "appearances = get_empty_appearances(characters)"
   ]
  },
  {
   "cell_type": "code",
   "execution_count": 50,
   "metadata": {},
   "outputs": [
    {
     "name": "stdout",
     "output_type": "stream",
     "text": [
      "The Project Gutenberg eBook of A Midsummer Night’s Dream, by William Shakespeare\r\n",
      "\r\n",
      "This eBook is for the use of anyone anywhere in the United States and\r\n",
      "most other parts of the world at no cost and with almost no restrictions\r\n",
      "whatsoever. You may copy it, give it away or re-use it under the terms\r\n",
      "of the Project Gutenberg License included with this eBook or online at\r\n",
      "www.gutenberg.org. If you are not located in the United States, you\r\n",
      "will have to check the laws of the country where you are located before\r\n",
      "using this eBook.\r\n",
      "\r\n",
      "Title: A Midsummer Night’s Dream\r\n",
      "\r\n",
      "Author: William Shakespeare\r\n",
      "\r\n",
      "Release Date: November, 1998 [eBook #1514]\r\n",
      "[Most recently updated: August 5, 2021]\r\n",
      "\r\n",
      "Language: English\r\n",
      "\r\n",
      "Character set encoding: UTF-8\r\n",
      "\r\n",
      "Produced by: the PG Shakespeare Team, a team of about twenty Project Gutenberg volunteers\r\n",
      "\r\n",
      "*** START OF THE PROJECT GUTENBERG EBOOK A MIDSUMMER NIGHT’S DREAM ***\r\n",
      "\r\n",
      "cover \r\n",
      "\r\n",
      "\r\n",
      "\r\n",
      "\r\n",
      "A MIDSUMMER NIGHT’S DREAM\r\n",
      "\r\n",
      "by William Shakespeare\r\n",
      "\r\n",
      "\r\n",
      "\r\n",
      "\r\n",
      "Contents\r\n",
      "\r\n",
      "ACT I\r\n",
      "Scene I.\r\n",
      "Athens. A room in the Palace of Theseus\r\n",
      "Scene II.\r\n",
      "The Same. A Room in a Cottage\r\n",
      "\r\n",
      "ACT II\r\n",
      "Scene I.\r\n",
      "A wood near Athens\r\n",
      "Scene II.\r\n",
      "Another part of the wood\r\n",
      "\r\n",
      "ACT III\r\n",
      "Scene I.\r\n",
      "The Wood.\r\n",
      "Scene II.\r\n",
      "Another part of the wood\r\n",
      "\r\n",
      "ACT IV\r\n",
      "Scene I.\r\n",
      "The Wood\r\n",
      "Scene II.\r\n",
      "Athens. A Room in Quince’s House\r\n",
      "\r\n",
      "ACT V\r\n",
      "Scene I.\r\n",
      "Athens. An Apartment in the Palace of Theseus\r\n",
      "\r\n",
      "\r\n",
      "\r\n",
      "\r\n",
      "Dramatis Personæ\r\n",
      "\r\n",
      "\r\n",
      "THESEUS, Duke of Athens\r\n",
      "HIPPOLYTA, Queen of the Amazons, bethrothed to Theseus\r\n",
      "EGEUS, Father to Hermia\r\n",
      "HERMIA, daughter to Egeus, in love with Lysander\r\n",
      "HELENA, in love with Demetrius\r\n",
      "LYSANDER, in love with Hermia\r\n",
      "DEMETRIUS, in love with Hermia\r\n",
      "PHILOSTRATE, Master of the Revels to Theseus\r\n",
      "\r\n",
      "QUINCE, the Carpenter\r\n",
      "SNUG, the Joiner\r\n",
      "BOTTOM, the Weaver\r\n",
      "FLUTE, the Bellows-mender\r\n",
      "SNOUT, the Tinker\r\n",
      "STARVELING, the Tailor\r\n",
      "\r\n",
      "OBERON, King of the Fairies\r\n",
      "TITANIA, Queen of the Fairies\r\n",
      "PUCK, or ROBIN GOODFELLOW, a Fairy\r\n",
      "PEASEBLOSSOM, Fairy\r\n",
      "COBWEB, Fairy\r\n",
      "MOTH, Fairy\r\n",
      "MUSTARDSEED, Fairy\r\n",
      "\r\n",
      "PYRAMUS, THISBE, WALL, MOONSHINE, LION; Characters in the Interlude\r\n",
      "performed by the Clowns\r\n",
      "\r\n",
      "Other Fairies attending their King and Queen\r\n",
      "Attendants on Theseus and Hippolyta\r\n",
      "\r\n",
      "SCENE: Athens, and a wood not far from it\r\n",
      "\r\n",
      "\r\n",
      "\r\n",
      "\r\n",
      "ACT I\r\n",
      "\r\n",
      "\r\n",
      "\r\n",
      "\r\n",
      "\n"
     ]
    }
   ],
   "source": [
    "# Examine scenes\n",
    "print(scenes[0])"
   ]
  },
  {
   "cell_type": "code",
   "execution_count": 51,
   "metadata": {},
   "outputs": [],
   "source": [
    "scenes[9] = scenes[9].split('***')[0]"
   ]
  },
  {
   "cell_type": "code",
   "execution_count": 52,
   "metadata": {},
   "outputs": [],
   "source": [
    "# Get all coappearances\n",
    "internal_cast = {'Pyramus': 'Bottom',\n",
    "                'Thisbe': 'Flute',\n",
    "                'Wall': 'Snout',\n",
    "                'Moonshine': 'Starveling',\n",
    "                'Lion': 'Snug',\n",
    "                'Prologue': 'Quince'}"
   ]
  },
  {
   "cell_type": "code",
   "execution_count": 53,
   "metadata": {},
   "outputs": [
    {
     "name": "stdout",
     "output_type": "stream",
     "text": [
      "I.\n",
      "Enter Theseus, Hippolyta, Philostrate and Attendants.\n",
      "THESEUS.\n",
      "HIPPOLYTA.\n",
      "THESEUS.\n",
      "Exit Philostrate.\n",
      "Enter Egeus, Hermia, Lysander and Demetrius.\n",
      "EGEUS.\n",
      "THESEUS.\n",
      "EGEUS.\n",
      "THESEUS.\n",
      "HERMIA.\n",
      "THESEUS.\n",
      "HERMIA.\n",
      "THESEUS.\n",
      "HERMIA.\n",
      "THESEUS.\n",
      "HERMIA.\n",
      "THESEUS.\n",
      "DEMETRIUS.\n",
      "LYSANDER.\n",
      "EGEUS.\n",
      "LYSANDER.\n",
      "THESEUS.\n",
      "EGEUS.\n",
      "Exeunt all but Lysander and Hermia.\n",
      "LYSANDER.\n",
      "HERMIA.\n",
      "LYSANDER.\n",
      "HERMIA.\n",
      "LYSANDER.\n",
      "HERMIA.\n",
      "LYSANDER.\n",
      "HERMIA.\n",
      "LYSANDER.\n",
      "HERMIA.\n",
      "LYSANDER.\n",
      "HERMIA.\n",
      "LYSANDER.\n",
      "Enter Helena.\n",
      "HERMIA.\n",
      "HELENA.\n",
      "HERMIA.\n",
      "HELENA.\n",
      "HERMIA.\n",
      "HELENA.\n",
      "HERMIA.\n",
      "HELENA.\n",
      "HERMIA.\n",
      "HELENA.\n",
      "HERMIA.\n",
      "LYSANDER.\n",
      "HERMIA.\n",
      "LYSANDER.\n",
      "Exit Hermia.\n",
      "Exit Lysander.\n",
      "HELENA.\n",
      "Exit Helena.\n",
      "II.\n",
      "Enter Quince, Snug, Bottom, Flute, Snout  and Starveling.\n",
      "QUINCE.\n",
      "BOTTOM.\n",
      "QUINCE.\n",
      "BOTTOM.\n",
      "QUINCE.\n",
      "BOTTOM.\n",
      "QUINCE.\n",
      "BOTTOM.\n",
      "QUINCE.\n",
      "BOTTOM.\n",
      "QUINCE.\n",
      "BOTTOM.\n",
      "QUINCE.\n",
      "FLUTE.\n",
      "QUINCE.\n",
      "FLUTE.\n",
      "QUINCE.\n",
      "FLUTE.\n",
      "QUINCE.\n",
      "BOTTOM.\n",
      "QUINCE.\n",
      "BOTTOM.\n",
      "QUINCE.\n",
      "STARVELING.\n",
      "QUINCE.\n",
      "QUINCE.\n",
      "QUINCE.\n",
      "BOTTOM.\n",
      "QUINCE.\n",
      "BOTTOM.\n",
      "QUINCE.\n",
      "BOTTOM.\n",
      "QUINCE.\n",
      "BOTTOM.\n",
      "QUINCE.\n",
      "BOTTOM.\n",
      "QUINCE.\n",
      "BOTTOM.\n",
      "Exeunt.\n",
      "I.\n",
      "Enter a Fairy at one door, and Puck at another.\n",
      "PUCK.\n",
      "PUCK.\n",
      "PUCK.\n",
      "OBERON.\n",
      "TITANIA.\n",
      "OBERON.\n",
      "TITANIA.\n",
      "OBERON.\n",
      "TITANIA.\n",
      "OBERON.\n",
      "TITANIA.\n",
      "OBERON.\n",
      "TITANIA.\n",
      "OBERON.\n",
      "TITANIA.\n",
      "Exit Titania with her Train.\n",
      "OBERON.\n",
      "PUCK.\n",
      "OBERON.\n",
      "PUCK.\n",
      "Exit Puck.\n",
      "OBERON.\n",
      "Enter Demetrius, Helena following him.\n",
      "DEMETRIUS.\n",
      "HELENA.\n",
      "DEMETRIUS.\n",
      "HELENA.\n",
      "DEMETRIUS.\n",
      "HELENA.\n",
      "DEMETRIUS.\n",
      "HELENA.\n",
      "DEMETRIUS.\n",
      "HELENA.\n",
      "DEMETRIUS.\n",
      "HELENA.\n",
      "Exit Demetrius.\n",
      "Exit Helena.\n",
      "OBERON.\n",
      "Enter Puck.\n",
      "PUCK.\n",
      "OBERON.\n",
      "PUCK.\n",
      "Exeunt.\n",
      "II.\n",
      "Enter Titania with her Train.\n",
      "TITANIA.\n",
      "FAIRY.\n",
      "CHORUS.\n",
      "FAIRY.\n",
      "CHORUS.\n",
      "FAIRY.\n",
      "Exeunt Fairies. Titania sleeps.\n",
      "Enter Oberon.\n",
      "OBERON.\n",
      "Exit.\n",
      "Enter Lysander and Hermia.\n",
      "LYSANDER.\n",
      "HERMIA.\n",
      "LYSANDER.\n",
      "HERMIA.\n",
      "LYSANDER.\n",
      "HERMIA.\n",
      "LYSANDER.\n",
      "HERMIA.\n",
      "They sleep.\n",
      "Enter Puck.\n",
      "PUCK.\n",
      "Exit.\n",
      "Enter Demetrius and Helena, running.\n",
      "HELENA.\n",
      "DEMETRIUS.\n",
      "HELENA.\n",
      "DEMETRIUS.\n",
      "Exit Demetrius.\n",
      "HELENA.\n",
      "LYSANDER.\n",
      "HELENA.\n",
      "LYSANDER.\n",
      "HELENA.\n",
      "Exit.\n",
      "LYSANDER.\n",
      "Exit.\n",
      "HERMIA.\n",
      "Exit.\n",
      "I.\n",
      "Enter Bottom, Quince, Snout, Starveling, Snug and Flute.\n",
      "BOTTOM.\n",
      "QUINCE.\n",
      "BOTTOM.\n",
      "QUINCE.\n",
      "BOTTOM.\n",
      "STARVELING.\n",
      "BOTTOM.\n",
      "QUINCE.\n",
      "BOTTOM.\n",
      "STARVELING.\n",
      "BOTTOM.\n",
      "BOTTOM.\n",
      "QUINCE.\n",
      "BOTTOM.\n",
      "QUINCE.\n",
      "BOTTOM.\n",
      "QUINCE.\n",
      "BOTTOM.\n",
      "QUINCE.\n",
      "Enter Puck behind.\n",
      "PUCK.\n",
      "QUINCE.\n",
      "PYRAMUS.\n",
      "QUINCE.\n",
      "PYRAMUS.\n",
      "Exit.\n",
      "PUCK.\n",
      "Exit.\n",
      "THISBE.\n",
      "QUINCE.\n",
      "THISBE.\n",
      "QUINCE.\n",
      "THISBE.\n",
      "Enter Puck and Bottom with an ass’s head.\n",
      "PYRAMUS.\n",
      "QUINCE.\n",
      "Exeunt Clowns.\n",
      "PUCK.\n",
      "Exit.\n",
      "BOTTOM.\n",
      "Enter Snout.\n",
      "BOTTOM.\n",
      "Exit Snout.\n",
      "Enter Quince.\n",
      "QUINCE.\n",
      "Exit.\n",
      "BOTTOM.\n",
      "TITANIA.\n",
      "BOTTOM.\n",
      "TITANIA.\n",
      "BOTTOM.\n",
      "TITANIA.\n",
      "BOTTOM.\n",
      "TITANIA.\n",
      "Enter four Fairies.\n",
      "PEASEBLOSSOM.\n",
      "COBWEB.\n",
      "I.\n",
      "MOTH.\n",
      "I.\n",
      "MUSTARDSEED.\n",
      "I.\n",
      "ALL.\n",
      "TITANIA.\n",
      "PEASEBLOSSOM.\n",
      "COBWEB.\n",
      "MOTH.\n",
      "MUSTARDSEED.\n",
      "BOTTOM.\n",
      "COBWEB.\n",
      "BOTTOM.\n",
      "PEASEBLOSSOM.\n",
      "BOTTOM.\n",
      "MUSTARDSEED.\n",
      "BOTTOM.\n",
      "TITANIA.\n",
      "Exeunt.\n",
      "II.\n",
      "Enter Oberon.\n",
      "OBERON.\n",
      "Enter Puck.\n",
      "PUCK.\n",
      "OBERON.\n",
      "PUCK.\n",
      "Enter Demetrius and Hermia.\n",
      "OBERON.\n",
      "PUCK.\n",
      "DEMETRIUS.\n",
      "HERMIA.\n",
      "DEMETRIUS.\n",
      "HERMIA.\n",
      "DEMETRIUS.\n",
      "HERMIA.\n",
      "DEMETRIUS.\n",
      "HERMIA.\n",
      "DEMETRIUS.\n",
      "HERMIA.\n",
      "Exit.\n",
      "DEMETRIUS.\n",
      "OBERON.\n",
      "PUCK.\n",
      "OBERON.\n",
      "PUCK.\n",
      "Exit.\n",
      "OBERON.\n",
      "Enter Puck.\n",
      "PUCK.\n",
      "OBERON.\n",
      "PUCK.\n",
      "Enter Lysander and Helena.\n",
      "LYSANDER.\n",
      "HELENA.\n",
      "LYSANDER.\n",
      "HELENA.\n",
      "LYSANDER.\n",
      "DEMETRIUS.\n",
      "HELENA.\n",
      "LYSANDER.\n",
      "HELENA.\n",
      "DEMETRIUS.\n",
      "LYSANDER.\n",
      "DEMETRIUS.\n",
      "Enter Hermia.\n",
      "HERMIA.\n",
      "LYSANDER.\n",
      "HERMIA.\n",
      "LYSANDER.\n",
      "HERMIA.\n",
      "HELENA.\n",
      "HERMIA.\n",
      "HELENA.\n",
      "HERMIA.\n",
      "HELENA.\n",
      "LYSANDER.\n",
      "HELENA.\n",
      "HERMIA.\n",
      "DEMETRIUS.\n",
      "LYSANDER.\n",
      "DEMETRIUS.\n",
      "LYSANDER.\n",
      "DEMETRIUS.\n",
      "HERMIA.\n",
      "LYSANDER.\n",
      "DEMETRIUS.\n",
      "LYSANDER.\n",
      "HERMIA.\n",
      "LYSANDER.\n",
      "HERMIA.\n",
      "HELENA.\n",
      "LYSANDER.\n",
      "DEMETRIUS.\n",
      "LYSANDER.\n",
      "HERMIA.\n",
      "LYSANDER.\n",
      "HERMIA.\n",
      "HELENA.\n",
      "HERMIA.\n",
      "HELENA.\n",
      "HERMIA.\n",
      "HELENA.\n",
      "HERMIA.\n",
      "HELENA.\n",
      "HERMIA.\n",
      "HELENA.\n",
      "LYSANDER.\n",
      "DEMETRIUS.\n",
      "HELENA.\n",
      "HERMIA.\n",
      "LYSANDER.\n",
      "DEMETRIUS.\n",
      "LYSANDER.\n",
      "DEMETRIUS.\n",
      "Exeunt Lysander and Demetrius.\n",
      "HERMIA.\n",
      "HELENA.\n",
      "Exit.\n",
      "HERMIA.\n",
      "Exit,\n",
      "OBERON.\n",
      "PUCK.\n",
      "OBERON.\n",
      "PUCK.\n",
      "OBERON.\n",
      "Exit Oberon.\n",
      "PUCK.\n",
      "Enter Lysander.\n",
      "LYSANDER.\n",
      "PUCK.\n",
      "LYSANDER.\n",
      "PUCK.\n",
      "Exit Lysander as following the voice.\n",
      "Enter Demetrius.\n",
      "DEMETRIUS.\n",
      "PUCK.\n",
      "DEMETRIUS.\n",
      "PUCK.\n",
      "Exeunt.\n",
      "Enter Lysander.\n",
      "LYSANDER.\n",
      "Sleeps.\n",
      "Enter Puck and Demetrius.\n",
      "PUCK.\n",
      "DEMETRIUS.\n",
      "PUCK.\n",
      "DEMETRIUS.\n",
      "Lies down and sleeps.\n",
      "Enter Helena.\n",
      "HELENA.\n",
      "Sleeps.\n",
      "PUCK.\n",
      "Enter Hermia.\n",
      "HERMIA.\n",
      "PUCK.\n",
      "Exit Puck.\n",
      "I.\n",
      "TITANIA.\n",
      "BOTTOM.\n",
      "PEASEBLOSSOM.\n",
      "BOTTOM.\n",
      "COBWEB.\n",
      "BOTTOM.\n",
      "MUSTARDSEED.\n",
      "BOTTOM.\n",
      "MUSTARDSEED.\n",
      "BOTTOM.\n",
      "TITANIA.\n",
      "BOTTOM.\n",
      "TITANIA.\n",
      "BOTTOM.\n",
      "TITANIA.\n",
      "BOTTOM.\n",
      "TITANIA.\n",
      "They sleep.\n",
      "Enter Puck.\n",
      "OBERON.\n",
      "TITANIA.\n",
      "OBERON.\n",
      "TITANIA.\n",
      "OBERON.\n",
      "TITANIA.\n",
      "PUCK.\n",
      "OBERON.\n",
      "PUCK.\n",
      "OBERON.\n",
      "TITANIA.\n",
      "Exeunt.\n",
      "Enter Theseus, Hippolyta, Egeus and Train.\n",
      "THESEUS.\n",
      "Exit an Attendant.\n",
      "HIPPOLYTA.\n",
      "THESEUS.\n",
      "EGEUS.\n",
      "THESEUS.\n",
      "EGEUS.\n",
      "THESEUS.\n",
      "LYSANDER.\n",
      "THESEUS.\n",
      "LYSANDER.\n",
      "EGEUS.\n",
      "DEMETRIUS.\n",
      "THESEUS.\n",
      "Exeunt Theseus, Hippolyta, Egeus and Train.\n",
      "DEMETRIUS.\n",
      "HERMIA.\n",
      "HELENA.\n",
      "DEMETRIUS.\n",
      "HERMIA.\n",
      "HELENA.\n",
      "LYSANDER.\n",
      "DEMETRIUS.\n",
      "Exeunt.\n",
      "BOTTOM.\n",
      "Exit.\n",
      "WE HAVE A PROBLEM HERE.\n",
      "II.\n",
      "Enter Quince, Flute, Snout and Starveling.\n",
      "QUINCE.\n",
      "STARVELING.\n",
      "FLUTE.\n",
      "QUINCE.\n",
      "FLUTE.\n",
      "QUINCE.\n",
      "FLUTE.\n",
      "Enter Snug.\n",
      "FLUTE.\n",
      "Enter Bottom.\n",
      "BOTTOM.\n",
      "QUINCE.\n",
      "BOTTOM.\n",
      "QUINCE.\n",
      "BOTTOM.\n",
      "Exeunt.\n",
      "I.\n",
      "Enter Theseus, Hippolyta, Philostrate, Lords and Attendants.\n",
      "HIPPOLYTA.\n",
      "THESEUS.\n",
      "HIPPOLYTA.\n",
      "Enter lovers: Lysander, Demetrius, Hermia and Helena.\n",
      "THESEUS.\n",
      "LYSANDER.\n",
      "THESEUS.\n",
      "PHILOSTRATE.\n",
      "THESEUS.\n",
      "PHILOSTRATE.\n",
      "THESEUS.\n",
      "PHILOSTRATE.\n",
      "THESEUS.\n",
      "PHILOSTRATE.\n",
      "THESEUS.\n",
      "PHILOSTRATE.\n",
      "THESEUS.\n",
      "Exit Philostrate.\n",
      "HIPPOLYTA.\n",
      "THESEUS.\n",
      "HIPPOLYTA.\n",
      "THESEUS.\n",
      "Enter Philostrate.\n",
      "PHILOSTRATE.\n",
      "THESEUS.\n",
      "Enter the Prologue.\n",
      "THESEUS.\n",
      "LYSANDER.\n",
      "HIPPOLYTA.\n",
      "THESEUS.\n",
      "Enter Pyramus and Thisbe, Wall, Moonshine and Lion as in dumb show.\n",
      "Exeunt Prologue, Pyramus, Thisbe, Lion and Moonshine.\n",
      "THESEUS.\n",
      "DEMETRIUS.\n",
      "WALL.\n",
      "THESEUS.\n",
      "DEMETRIUS.\n",
      "THESEUS.\n",
      "Enter Pyramus.\n",
      "PYRAMUS.\n",
      "THESEUS.\n",
      "PYRAMUS.\n",
      "Enter Thisbe.\n",
      "THISBE.\n",
      "PYRAMUS.\n",
      "THISBE.\n",
      "PYRAMUS.\n",
      "THISBE.\n",
      "PYRAMUS.\n",
      "THISBE.\n",
      "PYRAMUS.\n",
      "THISBE.\n",
      "PYRAMUS.\n",
      "THISBE.\n",
      "WALL.\n",
      "Exeunt Wall, Pyramus and Thisbe.\n",
      "THESEUS.\n",
      "DEMETRIUS.\n",
      "HIPPOLYTA.\n",
      "THESEUS.\n",
      "HIPPOLYTA.\n",
      "THESEUS.\n",
      "Enter Lion and Moonshine.\n",
      "LION.\n",
      "THESEUS.\n",
      "DEMETRIUS.\n",
      "LYSANDER.\n",
      "THESEUS.\n",
      "DEMETRIUS.\n",
      "THESEUS.\n",
      "MOONSHINE.\n",
      "DEMETRIUS.\n",
      "THESEUS.\n",
      "MOONSHINE.\n",
      "THESEUS.\n",
      "DEMETRIUS.\n",
      "HIPPOLYTA.\n",
      "THESEUS.\n",
      "LYSANDER.\n",
      "DEMETRIUS.\n",
      "Enter Thisbe.\n",
      "THISBE.\n",
      "LION.\n",
      "DEMETRIUS.\n",
      "THESEUS.\n",
      "HIPPOLYTA.\n",
      "THESEUS.\n",
      "DEMETRIUS.\n",
      "LYSANDER.\n",
      "Enter Pyramus.\n",
      "PYRAMUS.\n",
      "THESEUS.\n",
      "HIPPOLYTA.\n",
      "PYRAMUS.\n",
      "Exit Moonshine.\n",
      "DEMETRIUS.\n",
      "LYSANDER.\n",
      "THESEUS.\n",
      "HIPPOLYTA.\n",
      "THESEUS.\n",
      "Enter Thisbe.\n",
      "HIPPOLYTA.\n",
      "DEMETRIUS.\n",
      "LYSANDER.\n",
      "DEMETRIUS.\n",
      "THISBE.\n",
      "THESEUS.\n",
      "DEMETRIUS.\n",
      "BOTTOM.\n",
      "THESEUS.\n",
      "Exeunt.\n",
      "Enter Puck.\n",
      "PUCK.\n",
      "Enter Oberon and Titania with their Train.\n",
      "OBERON.\n",
      "TITANIA.\n",
      "OBERON.\n",
      "Exeunt Oberon, Titania and Train.\n",
      "PUCK.\n",
      "Exit.\n"
     ]
    }
   ],
   "source": [
    "appearances_Ii = get_coappear(scenes[1], 'I', internal_cast, appearances)\n",
    "appearances_Iii = get_coappear(scenes[2], 'I', internal_cast, appearances_Ii)\n",
    "\n",
    "appearances_IIi = get_coappear(scenes[3], 'II', internal_cast, appearances_Iii)\n",
    "appearances_IIii = get_coappear(scenes[4], 'II', internal_cast, appearances_IIi)\n",
    "\n",
    "appearances_IIIi = get_coappear(scenes[5], 'III', internal_cast, appearances_IIii)\n",
    "appearances_IIIii = get_coappear(scenes[6], 'III', internal_cast, appearances_IIIi)\n",
    "\n",
    "appearances_IVi = get_coappear(scenes[7], 'IV', internal_cast, appearances_IIIii)\n",
    "appearances_IVii = get_coappear(scenes[8], 'IV', internal_cast, appearances_IVi)\n",
    "\n",
    "all_appearances = get_coappear(scenes[9], 'V', internal_cast, appearances_IVii)"
   ]
  },
  {
   "cell_type": "code",
   "execution_count": 54,
   "metadata": {},
   "outputs": [],
   "source": [
    "# Get co-appearance counts and scene counts\n",
    "appearance_counts = get_empty_appearances(characters, True)\n",
    "scene_counts = {}"
   ]
  },
  {
   "cell_type": "code",
   "execution_count": 55,
   "metadata": {},
   "outputs": [],
   "source": [
    "# For each character that appears, get how many scenes the character appears in and\n",
    "# how many times each pair of characters appears together\n",
    "for character in all_appearances:\n",
    "    scene_counts[character] = []\n",
    "    for co_char in all_appearances[character]:\n",
    "        appearance_counts[character][co_char] = len(all_appearances[character][co_char])\n",
    "        scene_counts[character].extend(all_appearances[character][co_char])\n",
    "        \n",
    "    scene_counts[character] = len(set(scene_counts[character]))"
   ]
  },
  {
   "cell_type": "code",
   "execution_count": 56,
   "metadata": {},
   "outputs": [
    {
     "data": {
      "text/plain": [
       "{'Theseus': {'Hippolyta': 3,\n",
       "  'Egeus': 2,\n",
       "  'Hermia': 3,\n",
       "  'Helena': 2,\n",
       "  'Lysander': 3,\n",
       "  'Demetrius': 3,\n",
       "  'Philostrate': 2,\n",
       "  'Quince': 1,\n",
       "  'Snug': 1,\n",
       "  'Bottom': 1,\n",
       "  'Flute': 1,\n",
       "  'Snout': 1,\n",
       "  'Starveling': 1,\n",
       "  'Oberon': 1,\n",
       "  'Titania': 1,\n",
       "  'Puck': 2,\n",
       "  'Peaseblossom': 0,\n",
       "  'Cobweb': 0,\n",
       "  'Moth': 0,\n",
       "  'Mustardseed': 0,\n",
       "  'Pyramus': 0,\n",
       "  'Thisbe': 0,\n",
       "  'Wall': 0,\n",
       "  'Moonshine': 0,\n",
       "  'Lion': 0,\n",
       "  'Fairies': 1,\n",
       "  'Attendants': 3},\n",
       " 'Hippolyta': {'Theseus': 3,\n",
       "  'Egeus': 2,\n",
       "  'Hermia': 3,\n",
       "  'Helena': 2,\n",
       "  'Lysander': 3,\n",
       "  'Demetrius': 3,\n",
       "  'Philostrate': 2,\n",
       "  'Quince': 1,\n",
       "  'Snug': 1,\n",
       "  'Bottom': 1,\n",
       "  'Flute': 1,\n",
       "  'Snout': 1,\n",
       "  'Starveling': 1,\n",
       "  'Oberon': 1,\n",
       "  'Titania': 1,\n",
       "  'Puck': 2,\n",
       "  'Peaseblossom': 0,\n",
       "  'Cobweb': 0,\n",
       "  'Moth': 0,\n",
       "  'Mustardseed': 0,\n",
       "  'Pyramus': 0,\n",
       "  'Thisbe': 0,\n",
       "  'Wall': 0,\n",
       "  'Moonshine': 0,\n",
       "  'Lion': 0,\n",
       "  'Fairies': 1,\n",
       "  'Attendants': 3},\n",
       " 'Egeus': {'Theseus': 2,\n",
       "  'Hippolyta': 2,\n",
       "  'Hermia': 2,\n",
       "  'Helena': 1,\n",
       "  'Lysander': 2,\n",
       "  'Demetrius': 2,\n",
       "  'Philostrate': 1,\n",
       "  'Quince': 0,\n",
       "  'Snug': 0,\n",
       "  'Bottom': 0,\n",
       "  'Flute': 0,\n",
       "  'Snout': 0,\n",
       "  'Starveling': 0,\n",
       "  'Oberon': 0,\n",
       "  'Titania': 0,\n",
       "  'Puck': 1,\n",
       "  'Peaseblossom': 0,\n",
       "  'Cobweb': 0,\n",
       "  'Moth': 0,\n",
       "  'Mustardseed': 0,\n",
       "  'Pyramus': 0,\n",
       "  'Thisbe': 0,\n",
       "  'Wall': 0,\n",
       "  'Moonshine': 0,\n",
       "  'Lion': 0,\n",
       "  'Fairies': 0,\n",
       "  'Attendants': 2},\n",
       " 'Hermia': {'Theseus': 3,\n",
       "  'Hippolyta': 3,\n",
       "  'Egeus': 2,\n",
       "  'Helena': 5,\n",
       "  'Lysander': 5,\n",
       "  'Demetrius': 5,\n",
       "  'Philostrate': 2,\n",
       "  'Quince': 1,\n",
       "  'Snug': 1,\n",
       "  'Bottom': 1,\n",
       "  'Flute': 1,\n",
       "  'Snout': 1,\n",
       "  'Starveling': 1,\n",
       "  'Oberon': 3,\n",
       "  'Titania': 2,\n",
       "  'Puck': 4,\n",
       "  'Peaseblossom': 0,\n",
       "  'Cobweb': 0,\n",
       "  'Moth': 0,\n",
       "  'Mustardseed': 0,\n",
       "  'Pyramus': 0,\n",
       "  'Thisbe': 0,\n",
       "  'Wall': 0,\n",
       "  'Moonshine': 0,\n",
       "  'Lion': 0,\n",
       "  'Fairies': 1,\n",
       "  'Attendants': 3},\n",
       " 'Helena': {'Theseus': 2,\n",
       "  'Hippolyta': 2,\n",
       "  'Egeus': 1,\n",
       "  'Hermia': 5,\n",
       "  'Lysander': 5,\n",
       "  'Demetrius': 5,\n",
       "  'Philostrate': 1,\n",
       "  'Quince': 1,\n",
       "  'Snug': 1,\n",
       "  'Bottom': 1,\n",
       "  'Flute': 1,\n",
       "  'Snout': 1,\n",
       "  'Starveling': 1,\n",
       "  'Oberon': 3,\n",
       "  'Titania': 2,\n",
       "  'Puck': 5,\n",
       "  'Peaseblossom': 0,\n",
       "  'Cobweb': 0,\n",
       "  'Moth': 0,\n",
       "  'Mustardseed': 0,\n",
       "  'Pyramus': 0,\n",
       "  'Thisbe': 0,\n",
       "  'Wall': 0,\n",
       "  'Moonshine': 0,\n",
       "  'Lion': 0,\n",
       "  'Fairies': 2,\n",
       "  'Attendants': 2},\n",
       " 'Lysander': {'Theseus': 3,\n",
       "  'Hippolyta': 3,\n",
       "  'Egeus': 2,\n",
       "  'Hermia': 5,\n",
       "  'Helena': 5,\n",
       "  'Demetrius': 5,\n",
       "  'Philostrate': 2,\n",
       "  'Quince': 1,\n",
       "  'Snug': 1,\n",
       "  'Bottom': 1,\n",
       "  'Flute': 1,\n",
       "  'Snout': 1,\n",
       "  'Starveling': 1,\n",
       "  'Oberon': 3,\n",
       "  'Titania': 2,\n",
       "  'Puck': 4,\n",
       "  'Peaseblossom': 0,\n",
       "  'Cobweb': 0,\n",
       "  'Moth': 0,\n",
       "  'Mustardseed': 0,\n",
       "  'Pyramus': 0,\n",
       "  'Thisbe': 0,\n",
       "  'Wall': 0,\n",
       "  'Moonshine': 0,\n",
       "  'Lion': 0,\n",
       "  'Fairies': 1,\n",
       "  'Attendants': 3},\n",
       " 'Demetrius': {'Theseus': 3,\n",
       "  'Hippolyta': 3,\n",
       "  'Egeus': 2,\n",
       "  'Hermia': 5,\n",
       "  'Helena': 5,\n",
       "  'Lysander': 5,\n",
       "  'Philostrate': 2,\n",
       "  'Quince': 1,\n",
       "  'Snug': 1,\n",
       "  'Bottom': 1,\n",
       "  'Flute': 1,\n",
       "  'Snout': 1,\n",
       "  'Starveling': 1,\n",
       "  'Oberon': 3,\n",
       "  'Titania': 2,\n",
       "  'Puck': 5,\n",
       "  'Peaseblossom': 0,\n",
       "  'Cobweb': 0,\n",
       "  'Moth': 0,\n",
       "  'Mustardseed': 0,\n",
       "  'Pyramus': 0,\n",
       "  'Thisbe': 0,\n",
       "  'Wall': 0,\n",
       "  'Moonshine': 0,\n",
       "  'Lion': 0,\n",
       "  'Fairies': 2,\n",
       "  'Attendants': 3},\n",
       " 'Philostrate': {'Theseus': 2,\n",
       "  'Hippolyta': 2,\n",
       "  'Egeus': 1,\n",
       "  'Hermia': 2,\n",
       "  'Helena': 1,\n",
       "  'Lysander': 2,\n",
       "  'Demetrius': 2,\n",
       "  'Quince': 1,\n",
       "  'Snug': 1,\n",
       "  'Bottom': 1,\n",
       "  'Flute': 1,\n",
       "  'Snout': 1,\n",
       "  'Starveling': 1,\n",
       "  'Oberon': 1,\n",
       "  'Titania': 1,\n",
       "  'Puck': 1,\n",
       "  'Peaseblossom': 0,\n",
       "  'Cobweb': 0,\n",
       "  'Moth': 0,\n",
       "  'Mustardseed': 0,\n",
       "  'Pyramus': 0,\n",
       "  'Thisbe': 0,\n",
       "  'Wall': 0,\n",
       "  'Moonshine': 0,\n",
       "  'Lion': 0,\n",
       "  'Fairies': 1,\n",
       "  'Attendants': 2},\n",
       " 'Quince': {'Theseus': 1,\n",
       "  'Hippolyta': 1,\n",
       "  'Egeus': 0,\n",
       "  'Hermia': 1,\n",
       "  'Helena': 1,\n",
       "  'Lysander': 1,\n",
       "  'Demetrius': 1,\n",
       "  'Philostrate': 1,\n",
       "  'Snug': 4,\n",
       "  'Bottom': 4,\n",
       "  'Flute': 4,\n",
       "  'Snout': 4,\n",
       "  'Starveling': 4,\n",
       "  'Oberon': 1,\n",
       "  'Titania': 2,\n",
       "  'Puck': 2,\n",
       "  'Peaseblossom': 1,\n",
       "  'Cobweb': 1,\n",
       "  'Moth': 1,\n",
       "  'Mustardseed': 1,\n",
       "  'Pyramus': 0,\n",
       "  'Thisbe': 0,\n",
       "  'Wall': 0,\n",
       "  'Moonshine': 0,\n",
       "  'Lion': 0,\n",
       "  'Fairies': 1,\n",
       "  'Attendants': 1},\n",
       " 'Snug': {'Theseus': 1,\n",
       "  'Hippolyta': 1,\n",
       "  'Egeus': 0,\n",
       "  'Hermia': 1,\n",
       "  'Helena': 1,\n",
       "  'Lysander': 1,\n",
       "  'Demetrius': 1,\n",
       "  'Philostrate': 1,\n",
       "  'Quince': 4,\n",
       "  'Bottom': 4,\n",
       "  'Flute': 4,\n",
       "  'Snout': 4,\n",
       "  'Starveling': 4,\n",
       "  'Oberon': 1,\n",
       "  'Titania': 2,\n",
       "  'Puck': 2,\n",
       "  'Peaseblossom': 0,\n",
       "  'Cobweb': 0,\n",
       "  'Moth': 0,\n",
       "  'Mustardseed': 0,\n",
       "  'Pyramus': 1,\n",
       "  'Thisbe': 1,\n",
       "  'Wall': 0,\n",
       "  'Moonshine': 0,\n",
       "  'Lion': 0,\n",
       "  'Fairies': 1,\n",
       "  'Attendants': 1},\n",
       " 'Bottom': {'Theseus': 1,\n",
       "  'Hippolyta': 1,\n",
       "  'Egeus': 0,\n",
       "  'Hermia': 1,\n",
       "  'Helena': 1,\n",
       "  'Lysander': 1,\n",
       "  'Demetrius': 1,\n",
       "  'Philostrate': 1,\n",
       "  'Quince': 4,\n",
       "  'Snug': 4,\n",
       "  'Flute': 4,\n",
       "  'Snout': 4,\n",
       "  'Starveling': 4,\n",
       "  'Oberon': 1,\n",
       "  'Titania': 2,\n",
       "  'Puck': 2,\n",
       "  'Peaseblossom': 1,\n",
       "  'Cobweb': 1,\n",
       "  'Moth': 1,\n",
       "  'Mustardseed': 1,\n",
       "  'Pyramus': 1,\n",
       "  'Thisbe': 1,\n",
       "  'Wall': 0,\n",
       "  'Moonshine': 1,\n",
       "  'Lion': 1,\n",
       "  'Fairies': 1,\n",
       "  'Attendants': 1},\n",
       " 'Flute': {'Theseus': 1,\n",
       "  'Hippolyta': 1,\n",
       "  'Egeus': 0,\n",
       "  'Hermia': 1,\n",
       "  'Helena': 1,\n",
       "  'Lysander': 1,\n",
       "  'Demetrius': 1,\n",
       "  'Philostrate': 1,\n",
       "  'Quince': 4,\n",
       "  'Snug': 4,\n",
       "  'Bottom': 4,\n",
       "  'Snout': 4,\n",
       "  'Starveling': 4,\n",
       "  'Oberon': 1,\n",
       "  'Titania': 2,\n",
       "  'Puck': 2,\n",
       "  'Peaseblossom': 0,\n",
       "  'Cobweb': 0,\n",
       "  'Moth': 0,\n",
       "  'Mustardseed': 0,\n",
       "  'Pyramus': 1,\n",
       "  'Thisbe': 1,\n",
       "  'Wall': 0,\n",
       "  'Moonshine': 1,\n",
       "  'Lion': 1,\n",
       "  'Fairies': 1,\n",
       "  'Attendants': 1},\n",
       " 'Snout': {'Theseus': 1,\n",
       "  'Hippolyta': 1,\n",
       "  'Egeus': 0,\n",
       "  'Hermia': 1,\n",
       "  'Helena': 1,\n",
       "  'Lysander': 1,\n",
       "  'Demetrius': 1,\n",
       "  'Philostrate': 1,\n",
       "  'Quince': 4,\n",
       "  'Snug': 4,\n",
       "  'Bottom': 4,\n",
       "  'Flute': 4,\n",
       "  'Starveling': 4,\n",
       "  'Oberon': 1,\n",
       "  'Titania': 2,\n",
       "  'Puck': 2,\n",
       "  'Peaseblossom': 1,\n",
       "  'Cobweb': 1,\n",
       "  'Moth': 1,\n",
       "  'Mustardseed': 1,\n",
       "  'Pyramus': 0,\n",
       "  'Thisbe': 0,\n",
       "  'Wall': 0,\n",
       "  'Moonshine': 0,\n",
       "  'Lion': 0,\n",
       "  'Fairies': 1,\n",
       "  'Attendants': 1},\n",
       " 'Starveling': {'Theseus': 1,\n",
       "  'Hippolyta': 1,\n",
       "  'Egeus': 0,\n",
       "  'Hermia': 1,\n",
       "  'Helena': 1,\n",
       "  'Lysander': 1,\n",
       "  'Demetrius': 1,\n",
       "  'Philostrate': 1,\n",
       "  'Quince': 4,\n",
       "  'Snug': 4,\n",
       "  'Bottom': 4,\n",
       "  'Flute': 4,\n",
       "  'Snout': 4,\n",
       "  'Oberon': 1,\n",
       "  'Titania': 2,\n",
       "  'Puck': 2,\n",
       "  'Peaseblossom': 0,\n",
       "  'Cobweb': 0,\n",
       "  'Moth': 0,\n",
       "  'Mustardseed': 0,\n",
       "  'Pyramus': 1,\n",
       "  'Thisbe': 1,\n",
       "  'Wall': 0,\n",
       "  'Moonshine': 0,\n",
       "  'Lion': 0,\n",
       "  'Fairies': 1,\n",
       "  'Attendants': 1},\n",
       " 'Oberon': {'Theseus': 1,\n",
       "  'Hippolyta': 1,\n",
       "  'Egeus': 0,\n",
       "  'Hermia': 3,\n",
       "  'Helena': 3,\n",
       "  'Lysander': 3,\n",
       "  'Demetrius': 3,\n",
       "  'Philostrate': 1,\n",
       "  'Quince': 1,\n",
       "  'Snug': 1,\n",
       "  'Bottom': 1,\n",
       "  'Flute': 1,\n",
       "  'Snout': 1,\n",
       "  'Starveling': 1,\n",
       "  'Titania': 2,\n",
       "  'Puck': 3,\n",
       "  'Peaseblossom': 0,\n",
       "  'Cobweb': 0,\n",
       "  'Moth': 0,\n",
       "  'Mustardseed': 0,\n",
       "  'Pyramus': 1,\n",
       "  'Thisbe': 1,\n",
       "  'Wall': 0,\n",
       "  'Moonshine': 1,\n",
       "  'Lion': 1,\n",
       "  'Fairies': 1,\n",
       "  'Attendants': 1},\n",
       " 'Titania': {'Theseus': 1,\n",
       "  'Hippolyta': 1,\n",
       "  'Egeus': 0,\n",
       "  'Hermia': 2,\n",
       "  'Helena': 2,\n",
       "  'Lysander': 2,\n",
       "  'Demetrius': 2,\n",
       "  'Philostrate': 1,\n",
       "  'Quince': 2,\n",
       "  'Snug': 2,\n",
       "  'Bottom': 2,\n",
       "  'Flute': 2,\n",
       "  'Snout': 2,\n",
       "  'Starveling': 2,\n",
       "  'Oberon': 2,\n",
       "  'Puck': 3,\n",
       "  'Peaseblossom': 1,\n",
       "  'Cobweb': 1,\n",
       "  'Moth': 1,\n",
       "  'Mustardseed': 1,\n",
       "  'Pyramus': 1,\n",
       "  'Thisbe': 1,\n",
       "  'Wall': 0,\n",
       "  'Moonshine': 1,\n",
       "  'Lion': 1,\n",
       "  'Fairies': 2,\n",
       "  'Attendants': 1},\n",
       " 'Puck': {'Theseus': 2,\n",
       "  'Hippolyta': 2,\n",
       "  'Egeus': 1,\n",
       "  'Hermia': 4,\n",
       "  'Helena': 5,\n",
       "  'Lysander': 4,\n",
       "  'Demetrius': 5,\n",
       "  'Philostrate': 1,\n",
       "  'Quince': 2,\n",
       "  'Snug': 2,\n",
       "  'Bottom': 2,\n",
       "  'Flute': 2,\n",
       "  'Snout': 2,\n",
       "  'Starveling': 2,\n",
       "  'Oberon': 3,\n",
       "  'Titania': 3,\n",
       "  'Peaseblossom': 1,\n",
       "  'Cobweb': 1,\n",
       "  'Moth': 1,\n",
       "  'Mustardseed': 1,\n",
       "  'Pyramus': 1,\n",
       "  'Thisbe': 1,\n",
       "  'Wall': 0,\n",
       "  'Moonshine': 1,\n",
       "  'Lion': 1,\n",
       "  'Fairies': 2,\n",
       "  'Attendants': 2},\n",
       " 'Peaseblossom': {'Theseus': 0,\n",
       "  'Hippolyta': 0,\n",
       "  'Egeus': 0,\n",
       "  'Hermia': 0,\n",
       "  'Helena': 0,\n",
       "  'Lysander': 0,\n",
       "  'Demetrius': 0,\n",
       "  'Philostrate': 0,\n",
       "  'Quince': 1,\n",
       "  'Snug': 0,\n",
       "  'Bottom': 1,\n",
       "  'Flute': 0,\n",
       "  'Snout': 1,\n",
       "  'Starveling': 0,\n",
       "  'Oberon': 0,\n",
       "  'Titania': 1,\n",
       "  'Puck': 1,\n",
       "  'Cobweb': 1,\n",
       "  'Moth': 1,\n",
       "  'Mustardseed': 1,\n",
       "  'Pyramus': 0,\n",
       "  'Thisbe': 0,\n",
       "  'Wall': 0,\n",
       "  'Moonshine': 0,\n",
       "  'Lion': 0,\n",
       "  'Fairies': 0,\n",
       "  'Attendants': 0},\n",
       " 'Cobweb': {'Theseus': 0,\n",
       "  'Hippolyta': 0,\n",
       "  'Egeus': 0,\n",
       "  'Hermia': 0,\n",
       "  'Helena': 0,\n",
       "  'Lysander': 0,\n",
       "  'Demetrius': 0,\n",
       "  'Philostrate': 0,\n",
       "  'Quince': 1,\n",
       "  'Snug': 0,\n",
       "  'Bottom': 1,\n",
       "  'Flute': 0,\n",
       "  'Snout': 1,\n",
       "  'Starveling': 0,\n",
       "  'Oberon': 0,\n",
       "  'Titania': 1,\n",
       "  'Puck': 1,\n",
       "  'Peaseblossom': 1,\n",
       "  'Moth': 1,\n",
       "  'Mustardseed': 1,\n",
       "  'Pyramus': 0,\n",
       "  'Thisbe': 0,\n",
       "  'Wall': 0,\n",
       "  'Moonshine': 0,\n",
       "  'Lion': 0,\n",
       "  'Fairies': 0,\n",
       "  'Attendants': 0},\n",
       " 'Moth': {'Theseus': 0,\n",
       "  'Hippolyta': 0,\n",
       "  'Egeus': 0,\n",
       "  'Hermia': 0,\n",
       "  'Helena': 0,\n",
       "  'Lysander': 0,\n",
       "  'Demetrius': 0,\n",
       "  'Philostrate': 0,\n",
       "  'Quince': 1,\n",
       "  'Snug': 0,\n",
       "  'Bottom': 1,\n",
       "  'Flute': 0,\n",
       "  'Snout': 1,\n",
       "  'Starveling': 0,\n",
       "  'Oberon': 0,\n",
       "  'Titania': 1,\n",
       "  'Puck': 1,\n",
       "  'Peaseblossom': 1,\n",
       "  'Cobweb': 1,\n",
       "  'Mustardseed': 1,\n",
       "  'Pyramus': 0,\n",
       "  'Thisbe': 0,\n",
       "  'Wall': 0,\n",
       "  'Moonshine': 0,\n",
       "  'Lion': 0,\n",
       "  'Fairies': 0,\n",
       "  'Attendants': 0},\n",
       " 'Mustardseed': {'Theseus': 0,\n",
       "  'Hippolyta': 0,\n",
       "  'Egeus': 0,\n",
       "  'Hermia': 0,\n",
       "  'Helena': 0,\n",
       "  'Lysander': 0,\n",
       "  'Demetrius': 0,\n",
       "  'Philostrate': 0,\n",
       "  'Quince': 1,\n",
       "  'Snug': 0,\n",
       "  'Bottom': 1,\n",
       "  'Flute': 0,\n",
       "  'Snout': 1,\n",
       "  'Starveling': 0,\n",
       "  'Oberon': 0,\n",
       "  'Titania': 1,\n",
       "  'Puck': 1,\n",
       "  'Peaseblossom': 1,\n",
       "  'Cobweb': 1,\n",
       "  'Moth': 1,\n",
       "  'Pyramus': 0,\n",
       "  'Thisbe': 0,\n",
       "  'Wall': 0,\n",
       "  'Moonshine': 0,\n",
       "  'Lion': 0,\n",
       "  'Fairies': 0,\n",
       "  'Attendants': 0},\n",
       " 'Pyramus': {'Theseus': 0,\n",
       "  'Hippolyta': 0,\n",
       "  'Egeus': 0,\n",
       "  'Hermia': 0,\n",
       "  'Helena': 0,\n",
       "  'Lysander': 0,\n",
       "  'Demetrius': 0,\n",
       "  'Philostrate': 0,\n",
       "  'Quince': 0,\n",
       "  'Snug': 1,\n",
       "  'Bottom': 1,\n",
       "  'Flute': 1,\n",
       "  'Snout': 0,\n",
       "  'Starveling': 1,\n",
       "  'Oberon': 1,\n",
       "  'Titania': 1,\n",
       "  'Puck': 1,\n",
       "  'Peaseblossom': 0,\n",
       "  'Cobweb': 0,\n",
       "  'Moth': 0,\n",
       "  'Mustardseed': 0,\n",
       "  'Thisbe': 0,\n",
       "  'Wall': 0,\n",
       "  'Moonshine': 0,\n",
       "  'Lion': 0,\n",
       "  'Fairies': 1,\n",
       "  'Attendants': 0},\n",
       " 'Thisbe': {'Theseus': 0,\n",
       "  'Hippolyta': 0,\n",
       "  'Egeus': 0,\n",
       "  'Hermia': 0,\n",
       "  'Helena': 0,\n",
       "  'Lysander': 0,\n",
       "  'Demetrius': 0,\n",
       "  'Philostrate': 0,\n",
       "  'Quince': 0,\n",
       "  'Snug': 1,\n",
       "  'Bottom': 1,\n",
       "  'Flute': 1,\n",
       "  'Snout': 0,\n",
       "  'Starveling': 1,\n",
       "  'Oberon': 1,\n",
       "  'Titania': 1,\n",
       "  'Puck': 1,\n",
       "  'Peaseblossom': 0,\n",
       "  'Cobweb': 0,\n",
       "  'Moth': 0,\n",
       "  'Mustardseed': 0,\n",
       "  'Pyramus': 0,\n",
       "  'Wall': 0,\n",
       "  'Moonshine': 0,\n",
       "  'Lion': 0,\n",
       "  'Fairies': 1,\n",
       "  'Attendants': 0},\n",
       " 'Wall': {'Theseus': 0,\n",
       "  'Hippolyta': 0,\n",
       "  'Egeus': 0,\n",
       "  'Hermia': 0,\n",
       "  'Helena': 0,\n",
       "  'Lysander': 0,\n",
       "  'Demetrius': 0,\n",
       "  'Philostrate': 0,\n",
       "  'Quince': 0,\n",
       "  'Snug': 0,\n",
       "  'Bottom': 0,\n",
       "  'Flute': 0,\n",
       "  'Snout': 0,\n",
       "  'Starveling': 0,\n",
       "  'Oberon': 0,\n",
       "  'Titania': 0,\n",
       "  'Puck': 0,\n",
       "  'Peaseblossom': 0,\n",
       "  'Cobweb': 0,\n",
       "  'Moth': 0,\n",
       "  'Mustardseed': 0,\n",
       "  'Pyramus': 0,\n",
       "  'Thisbe': 0,\n",
       "  'Moonshine': 0,\n",
       "  'Lion': 0,\n",
       "  'Fairies': 0,\n",
       "  'Attendants': 0},\n",
       " 'Moonshine': {'Theseus': 0,\n",
       "  'Hippolyta': 0,\n",
       "  'Egeus': 0,\n",
       "  'Hermia': 0,\n",
       "  'Helena': 0,\n",
       "  'Lysander': 0,\n",
       "  'Demetrius': 0,\n",
       "  'Philostrate': 0,\n",
       "  'Quince': 0,\n",
       "  'Snug': 0,\n",
       "  'Bottom': 1,\n",
       "  'Flute': 1,\n",
       "  'Snout': 0,\n",
       "  'Starveling': 0,\n",
       "  'Oberon': 1,\n",
       "  'Titania': 1,\n",
       "  'Puck': 1,\n",
       "  'Peaseblossom': 0,\n",
       "  'Cobweb': 0,\n",
       "  'Moth': 0,\n",
       "  'Mustardseed': 0,\n",
       "  'Pyramus': 0,\n",
       "  'Thisbe': 0,\n",
       "  'Wall': 0,\n",
       "  'Lion': 0,\n",
       "  'Fairies': 1,\n",
       "  'Attendants': 0},\n",
       " 'Lion': {'Theseus': 0,\n",
       "  'Hippolyta': 0,\n",
       "  'Egeus': 0,\n",
       "  'Hermia': 0,\n",
       "  'Helena': 0,\n",
       "  'Lysander': 0,\n",
       "  'Demetrius': 0,\n",
       "  'Philostrate': 0,\n",
       "  'Quince': 0,\n",
       "  'Snug': 0,\n",
       "  'Bottom': 1,\n",
       "  'Flute': 1,\n",
       "  'Snout': 0,\n",
       "  'Starveling': 0,\n",
       "  'Oberon': 1,\n",
       "  'Titania': 1,\n",
       "  'Puck': 1,\n",
       "  'Peaseblossom': 0,\n",
       "  'Cobweb': 0,\n",
       "  'Moth': 0,\n",
       "  'Mustardseed': 0,\n",
       "  'Pyramus': 0,\n",
       "  'Thisbe': 0,\n",
       "  'Wall': 0,\n",
       "  'Moonshine': 0,\n",
       "  'Fairies': 1,\n",
       "  'Attendants': 0},\n",
       " 'Fairies': {'Theseus': 1,\n",
       "  'Hippolyta': 1,\n",
       "  'Egeus': 0,\n",
       "  'Hermia': 1,\n",
       "  'Helena': 2,\n",
       "  'Lysander': 1,\n",
       "  'Demetrius': 2,\n",
       "  'Philostrate': 1,\n",
       "  'Quince': 1,\n",
       "  'Snug': 1,\n",
       "  'Bottom': 1,\n",
       "  'Flute': 1,\n",
       "  'Snout': 1,\n",
       "  'Starveling': 1,\n",
       "  'Oberon': 1,\n",
       "  'Titania': 2,\n",
       "  'Puck': 2,\n",
       "  'Peaseblossom': 0,\n",
       "  'Cobweb': 0,\n",
       "  'Moth': 0,\n",
       "  'Mustardseed': 0,\n",
       "  'Pyramus': 1,\n",
       "  'Thisbe': 1,\n",
       "  'Wall': 0,\n",
       "  'Moonshine': 1,\n",
       "  'Lion': 1,\n",
       "  'Attendants': 1},\n",
       " 'Attendants': {'Theseus': 3,\n",
       "  'Hippolyta': 3,\n",
       "  'Egeus': 2,\n",
       "  'Hermia': 3,\n",
       "  'Helena': 2,\n",
       "  'Lysander': 3,\n",
       "  'Demetrius': 3,\n",
       "  'Philostrate': 2,\n",
       "  'Quince': 1,\n",
       "  'Snug': 1,\n",
       "  'Bottom': 1,\n",
       "  'Flute': 1,\n",
       "  'Snout': 1,\n",
       "  'Starveling': 1,\n",
       "  'Oberon': 1,\n",
       "  'Titania': 1,\n",
       "  'Puck': 2,\n",
       "  'Peaseblossom': 0,\n",
       "  'Cobweb': 0,\n",
       "  'Moth': 0,\n",
       "  'Mustardseed': 0,\n",
       "  'Pyramus': 0,\n",
       "  'Thisbe': 0,\n",
       "  'Wall': 0,\n",
       "  'Moonshine': 0,\n",
       "  'Lion': 0,\n",
       "  'Fairies': 1}}"
      ]
     },
     "execution_count": 56,
     "metadata": {},
     "output_type": "execute_result"
    }
   ],
   "source": [
    "appearance_counts"
   ]
  },
  {
   "cell_type": "code",
   "execution_count": 57,
   "metadata": {},
   "outputs": [],
   "source": [
    "# graph the network of characters"
   ]
  },
  {
   "cell_type": "code",
   "execution_count": 58,
   "metadata": {},
   "outputs": [],
   "source": [
    "midsummer = nx.Graph()"
   ]
  },
  {
   "cell_type": "code",
   "execution_count": 59,
   "metadata": {},
   "outputs": [],
   "source": [
    "for char in scene_counts.keys():\n",
    "    if scene_counts[char] > 0:\n",
    "        midsummer.add_node(char, size = scene_counts[char])"
   ]
  },
  {
   "cell_type": "code",
   "execution_count": 60,
   "metadata": {},
   "outputs": [
    {
     "data": {
      "text/plain": [
       "NodeView(('Theseus', 'Hippolyta', 'Egeus', 'Hermia', 'Helena', 'Lysander', 'Demetrius', 'Philostrate', 'Quince', 'Snug', 'Bottom', 'Flute', 'Snout', 'Starveling', 'Oberon', 'Titania', 'Puck', 'Peaseblossom', 'Cobweb', 'Moth', 'Mustardseed', 'Pyramus', 'Thisbe', 'Moonshine', 'Lion', 'Fairies', 'Attendants'))"
      ]
     },
     "execution_count": 60,
     "metadata": {},
     "output_type": "execute_result"
    }
   ],
   "source": [
    "midsummer.nodes"
   ]
  },
  {
   "cell_type": "code",
   "execution_count": 61,
   "metadata": {},
   "outputs": [
    {
     "data": {
      "text/plain": [
       "EdgeView([('Theseus', 'Hippolyta'), ('Theseus', 'Egeus'), ('Theseus', 'Hermia'), ('Theseus', 'Helena'), ('Theseus', 'Lysander'), ('Theseus', 'Demetrius'), ('Theseus', 'Philostrate'), ('Theseus', 'Quince'), ('Theseus', 'Snug'), ('Theseus', 'Bottom'), ('Theseus', 'Flute'), ('Theseus', 'Snout'), ('Theseus', 'Starveling'), ('Theseus', 'Oberon'), ('Theseus', 'Titania'), ('Theseus', 'Puck'), ('Theseus', 'Fairies'), ('Theseus', 'Attendants'), ('Hippolyta', 'Egeus'), ('Hippolyta', 'Hermia'), ('Hippolyta', 'Helena'), ('Hippolyta', 'Lysander'), ('Hippolyta', 'Demetrius'), ('Hippolyta', 'Philostrate'), ('Hippolyta', 'Quince'), ('Hippolyta', 'Snug'), ('Hippolyta', 'Bottom'), ('Hippolyta', 'Flute'), ('Hippolyta', 'Snout'), ('Hippolyta', 'Starveling'), ('Hippolyta', 'Oberon'), ('Hippolyta', 'Titania'), ('Hippolyta', 'Puck'), ('Hippolyta', 'Fairies'), ('Hippolyta', 'Attendants'), ('Egeus', 'Hermia'), ('Egeus', 'Helena'), ('Egeus', 'Lysander'), ('Egeus', 'Demetrius'), ('Egeus', 'Philostrate'), ('Egeus', 'Puck'), ('Egeus', 'Attendants'), ('Hermia', 'Helena'), ('Hermia', 'Lysander'), ('Hermia', 'Demetrius'), ('Hermia', 'Philostrate'), ('Hermia', 'Quince'), ('Hermia', 'Snug'), ('Hermia', 'Bottom'), ('Hermia', 'Flute'), ('Hermia', 'Snout'), ('Hermia', 'Starveling'), ('Hermia', 'Oberon'), ('Hermia', 'Titania'), ('Hermia', 'Puck'), ('Hermia', 'Fairies'), ('Hermia', 'Attendants'), ('Helena', 'Lysander'), ('Helena', 'Demetrius'), ('Helena', 'Philostrate'), ('Helena', 'Quince'), ('Helena', 'Snug'), ('Helena', 'Bottom'), ('Helena', 'Flute'), ('Helena', 'Snout'), ('Helena', 'Starveling'), ('Helena', 'Oberon'), ('Helena', 'Titania'), ('Helena', 'Puck'), ('Helena', 'Fairies'), ('Helena', 'Attendants'), ('Lysander', 'Demetrius'), ('Lysander', 'Philostrate'), ('Lysander', 'Quince'), ('Lysander', 'Snug'), ('Lysander', 'Bottom'), ('Lysander', 'Flute'), ('Lysander', 'Snout'), ('Lysander', 'Starveling'), ('Lysander', 'Oberon'), ('Lysander', 'Titania'), ('Lysander', 'Puck'), ('Lysander', 'Fairies'), ('Lysander', 'Attendants'), ('Demetrius', 'Philostrate'), ('Demetrius', 'Quince'), ('Demetrius', 'Snug'), ('Demetrius', 'Bottom'), ('Demetrius', 'Flute'), ('Demetrius', 'Snout'), ('Demetrius', 'Starveling'), ('Demetrius', 'Oberon'), ('Demetrius', 'Titania'), ('Demetrius', 'Puck'), ('Demetrius', 'Fairies'), ('Demetrius', 'Attendants'), ('Philostrate', 'Quince'), ('Philostrate', 'Snug'), ('Philostrate', 'Bottom'), ('Philostrate', 'Flute'), ('Philostrate', 'Snout'), ('Philostrate', 'Starveling'), ('Philostrate', 'Oberon'), ('Philostrate', 'Titania'), ('Philostrate', 'Puck'), ('Philostrate', 'Fairies'), ('Philostrate', 'Attendants'), ('Quince', 'Snug'), ('Quince', 'Bottom'), ('Quince', 'Flute'), ('Quince', 'Snout'), ('Quince', 'Starveling'), ('Quince', 'Oberon'), ('Quince', 'Titania'), ('Quince', 'Puck'), ('Quince', 'Peaseblossom'), ('Quince', 'Cobweb'), ('Quince', 'Moth'), ('Quince', 'Mustardseed'), ('Quince', 'Fairies'), ('Quince', 'Attendants'), ('Snug', 'Bottom'), ('Snug', 'Flute'), ('Snug', 'Snout'), ('Snug', 'Starveling'), ('Snug', 'Oberon'), ('Snug', 'Titania'), ('Snug', 'Puck'), ('Snug', 'Pyramus'), ('Snug', 'Thisbe'), ('Snug', 'Fairies'), ('Snug', 'Attendants'), ('Bottom', 'Flute'), ('Bottom', 'Snout'), ('Bottom', 'Starveling'), ('Bottom', 'Oberon'), ('Bottom', 'Titania'), ('Bottom', 'Puck'), ('Bottom', 'Peaseblossom'), ('Bottom', 'Cobweb'), ('Bottom', 'Moth'), ('Bottom', 'Mustardseed'), ('Bottom', 'Pyramus'), ('Bottom', 'Thisbe'), ('Bottom', 'Moonshine'), ('Bottom', 'Lion'), ('Bottom', 'Fairies'), ('Bottom', 'Attendants'), ('Flute', 'Snout'), ('Flute', 'Starveling'), ('Flute', 'Oberon'), ('Flute', 'Titania'), ('Flute', 'Puck'), ('Flute', 'Pyramus'), ('Flute', 'Thisbe'), ('Flute', 'Moonshine'), ('Flute', 'Lion'), ('Flute', 'Fairies'), ('Flute', 'Attendants'), ('Snout', 'Starveling'), ('Snout', 'Oberon'), ('Snout', 'Titania'), ('Snout', 'Puck'), ('Snout', 'Peaseblossom'), ('Snout', 'Cobweb'), ('Snout', 'Moth'), ('Snout', 'Mustardseed'), ('Snout', 'Fairies'), ('Snout', 'Attendants'), ('Starveling', 'Oberon'), ('Starveling', 'Titania'), ('Starveling', 'Puck'), ('Starveling', 'Pyramus'), ('Starveling', 'Thisbe'), ('Starveling', 'Fairies'), ('Starveling', 'Attendants'), ('Oberon', 'Titania'), ('Oberon', 'Puck'), ('Oberon', 'Pyramus'), ('Oberon', 'Thisbe'), ('Oberon', 'Moonshine'), ('Oberon', 'Lion'), ('Oberon', 'Fairies'), ('Oberon', 'Attendants'), ('Titania', 'Puck'), ('Titania', 'Peaseblossom'), ('Titania', 'Cobweb'), ('Titania', 'Moth'), ('Titania', 'Mustardseed'), ('Titania', 'Pyramus'), ('Titania', 'Thisbe'), ('Titania', 'Moonshine'), ('Titania', 'Lion'), ('Titania', 'Fairies'), ('Titania', 'Attendants'), ('Puck', 'Peaseblossom'), ('Puck', 'Cobweb'), ('Puck', 'Moth'), ('Puck', 'Mustardseed'), ('Puck', 'Pyramus'), ('Puck', 'Thisbe'), ('Puck', 'Moonshine'), ('Puck', 'Lion'), ('Puck', 'Fairies'), ('Puck', 'Attendants'), ('Peaseblossom', 'Cobweb'), ('Peaseblossom', 'Moth'), ('Peaseblossom', 'Mustardseed'), ('Cobweb', 'Moth'), ('Cobweb', 'Mustardseed'), ('Moth', 'Mustardseed'), ('Pyramus', 'Fairies'), ('Thisbe', 'Fairies'), ('Moonshine', 'Fairies'), ('Lion', 'Fairies'), ('Fairies', 'Attendants')])"
      ]
     },
     "execution_count": 61,
     "metadata": {},
     "output_type": "execute_result"
    }
   ],
   "source": [
    "# For each co-appearance between two characters, add an edge\n",
    "for char in appearance_counts.keys():\n",
    "    for co_char in appearance_counts[char].keys():\n",
    "        \n",
    "        # Only add edge if the count is positive\n",
    "        if appearance_counts[char][co_char] > 0:\n",
    "            midsummer.add_edge(char, co_char, weight = appearance_counts[char][co_char])\n",
    "\n",
    "midsummer.edges()"
   ]
  },
  {
   "cell_type": "code",
   "execution_count": 62,
   "metadata": {},
   "outputs": [],
   "source": [
    "# get positions for the nodes\n",
    "pos_ = nx.spring_layout(midsummer)"
   ]
  },
  {
   "cell_type": "code",
   "execution_count": 63,
   "metadata": {},
   "outputs": [
    {
     "data": {
      "text/plain": [
       "{'Theseus': array([0.61902893, 0.01653318]),\n",
       " 'Hippolyta': array([0.47725621, 0.32688733]),\n",
       " 'Egeus': array([1.        , 0.03673934]),\n",
       " 'Hermia': array([0.3852449 , 0.04500407]),\n",
       " 'Helena': array([ 0.38737526, -0.26559633]),\n",
       " 'Lysander': array([ 0.39565441, -0.08926376]),\n",
       " 'Demetrius': array([ 0.52259165, -0.1512188 ]),\n",
       " 'Philostrate': array([0.62595144, 0.2343389 ]),\n",
       " 'Quince': array([-0.22615095,  0.19362017]),\n",
       " 'Snug': array([0.06900926, 0.18538912]),\n",
       " 'Bottom': array([-0.24710175,  0.01840408]),\n",
       " 'Flute': array([-0.05028463, -0.00376607]),\n",
       " 'Snout': array([-0.14895028,  0.31249439]),\n",
       " 'Starveling': array([0.08452323, 0.33012992]),\n",
       " 'Oberon': array([ 0.10822067, -0.27376675]),\n",
       " 'Titania': array([-0.15927071, -0.13886244]),\n",
       " 'Puck': array([ 0.07059506, -0.06661572]),\n",
       " 'Peaseblossom': array([-0.97141476,  0.16391558]),\n",
       " 'Cobweb': array([-0.91470582,  0.40322345]),\n",
       " 'Moth': array([-0.75371114,  0.59819853]),\n",
       " 'Mustardseed': array([-0.93881504, -0.08115205]),\n",
       " 'Pyramus': array([-0.10606196,  0.67955167]),\n",
       " 'Thisbe': array([-0.49503116, -0.47717263]),\n",
       " 'Moonshine': array([-0.36421207, -0.86331104]),\n",
       " 'Lion': array([ 0.02753658, -0.94307577]),\n",
       " 'Fairies': array([ 0.17165746, -0.39295504]),\n",
       " 'Attendants': array([0.43106522, 0.20232665])}"
      ]
     },
     "execution_count": 63,
     "metadata": {},
     "output_type": "execute_result"
    }
   ],
   "source": [
    "pos_"
   ]
  },
  {
   "cell_type": "code",
   "execution_count": 64,
   "metadata": {},
   "outputs": [
    {
     "data": {
      "text/plain": [
       "{'weight': 3}"
      ]
     },
     "execution_count": 64,
     "metadata": {},
     "output_type": "execute_result"
    }
   ],
   "source": [
    "midsummer.edges()[('Theseus', 'Hippolyta')]"
   ]
  },
  {
   "cell_type": "code",
   "execution_count": 65,
   "metadata": {},
   "outputs": [],
   "source": [
    "def make_edge(x, y, text, width):\n",
    "    \n",
    "    '''Creates a scatter trace for the edge between x's and y's with given width\n",
    "\n",
    "    Parameters\n",
    "    ----------\n",
    "    x    : a tuple of the endpoints' x-coordinates in the form, tuple([x0, x1, None])\n",
    "    \n",
    "    y    : a tuple of the endpoints' y-coordinates in the form, tuple([y0, y1, None])\n",
    "    \n",
    "    width: the width of the line\n",
    "\n",
    "    Returns\n",
    "    -------\n",
    "    An edge trace that goes between x0 and x1 with specified width.\n",
    "    '''\n",
    "    return  go.Scatter(x         = x,\n",
    "                       y         = y,\n",
    "                       line      = dict(width = width,\n",
    "                                   color = 'cornflowerblue'),\n",
    "                       hoverinfo = 'text',\n",
    "                       text      = ([text]),\n",
    "                       mode      = 'lines')"
   ]
  },
  {
   "cell_type": "code",
   "execution_count": 66,
   "metadata": {},
   "outputs": [],
   "source": [
    "# For each edge, make an edge_trace, append to list\n",
    "edge_trace = []\n",
    "for edge in midsummer.edges():\n",
    "    \n",
    "    if midsummer.edges()[edge]['weight'] > 0:\n",
    "        char_1 = edge[0]\n",
    "        char_2 = edge[1]\n",
    "\n",
    "        x0, y0 = pos_[char_1]\n",
    "        x1, y1 = pos_[char_2]\n",
    "\n",
    "        text   = char_1 + '--' + char_2 + ': ' + str(midsummer.edges()[edge]['weight'])\n",
    "        \n",
    "        trace  = make_edge([x0, x1, None], [y0, y1, None], text,\n",
    "                           0.3*midsummer.edges()[edge]['weight']**1.75)\n",
    "\n",
    "        edge_trace.append(trace)"
   ]
  },
  {
   "cell_type": "code",
   "execution_count": 67,
   "metadata": {},
   "outputs": [],
   "source": [
    "# Make a node trace\n",
    "node_trace = go.Scatter(x         = [],\n",
    "                        y         = [],\n",
    "                        text      = [],\n",
    "                        textposition = \"top center\",\n",
    "                        textfont_size = 10,\n",
    "                        mode      = 'markers+text',\n",
    "                        hoverinfo = 'none',\n",
    "                        marker    = dict(color = [],\n",
    "                                         size  = [],\n",
    "                                         line  = None))\n",
    "# For each node in midsummer, get the position and size and add to the node_trace\n",
    "for node in midsummer.nodes():\n",
    "    x, y = pos_[node]\n",
    "    node_trace['x'] += tuple([x])\n",
    "    node_trace['y'] += tuple([y])\n",
    "    node_trace['marker']['color'] += tuple(['cornflowerblue'])\n",
    "    node_trace['marker']['size'] += tuple([5*midsummer.nodes()[node]['size']])\n",
    "    node_trace['text'] += tuple(['<b>' + node + '</b>'])"
   ]
  },
  {
   "cell_type": "code",
   "execution_count": 68,
   "metadata": {},
   "outputs": [
    {
     "data": {
      "application/vnd.plotly.v1+json": {
       "config": {
        "plotlyServerURL": "https://plot.ly"
       },
       "data": [
        {
         "hoverinfo": "text",
         "line": {
          "color": "cornflowerblue",
          "width": 2.0515563512592996
         },
         "mode": "lines",
         "text": [
          "Theseus--Hippolyta: 3"
         ],
         "type": "scatter",
         "x": [
          0.6190289320997386,
          0.47725621366214216,
          null
         ],
         "y": [
          0.016533175174840712,
          0.3268873301366787,
          null
         ]
        },
        {
         "hoverinfo": "text",
         "line": {
          "color": "cornflowerblue",
          "width": 1.0090756983044573
         },
         "mode": "lines",
         "text": [
          "Theseus--Egeus: 2"
         ],
         "type": "scatter",
         "x": [
          0.6190289320997386,
          1,
          null
         ],
         "y": [
          0.016533175174840712,
          0.03673934469118579,
          null
         ]
        },
        {
         "hoverinfo": "text",
         "line": {
          "color": "cornflowerblue",
          "width": 2.0515563512592996
         },
         "mode": "lines",
         "text": [
          "Theseus--Hermia: 3"
         ],
         "type": "scatter",
         "x": [
          0.6190289320997386,
          0.3852448998383637,
          null
         ],
         "y": [
          0.016533175174840712,
          0.04500407450360561,
          null
         ]
        },
        {
         "hoverinfo": "text",
         "line": {
          "color": "cornflowerblue",
          "width": 1.0090756983044573
         },
         "mode": "lines",
         "text": [
          "Theseus--Helena: 2"
         ],
         "type": "scatter",
         "x": [
          0.6190289320997386,
          0.38737526362418345,
          null
         ],
         "y": [
          0.016533175174840712,
          -0.26559632549180684,
          null
         ]
        },
        {
         "hoverinfo": "text",
         "line": {
          "color": "cornflowerblue",
          "width": 2.0515563512592996
         },
         "mode": "lines",
         "text": [
          "Theseus--Lysander: 3"
         ],
         "type": "scatter",
         "x": [
          0.6190289320997386,
          0.3956544087949181,
          null
         ],
         "y": [
          0.016533175174840712,
          -0.08926375770366206,
          null
         ]
        },
        {
         "hoverinfo": "text",
         "line": {
          "color": "cornflowerblue",
          "width": 2.0515563512592996
         },
         "mode": "lines",
         "text": [
          "Theseus--Demetrius: 3"
         ],
         "type": "scatter",
         "x": [
          0.6190289320997386,
          0.5225916452627758,
          null
         ],
         "y": [
          0.016533175174840712,
          -0.15121880364713625,
          null
         ]
        },
        {
         "hoverinfo": "text",
         "line": {
          "color": "cornflowerblue",
          "width": 1.0090756983044573
         },
         "mode": "lines",
         "text": [
          "Theseus--Philostrate: 2"
         ],
         "type": "scatter",
         "x": [
          0.6190289320997386,
          0.6259514434301439,
          null
         ],
         "y": [
          0.016533175174840712,
          0.23433890123733436,
          null
         ]
        },
        {
         "hoverinfo": "text",
         "line": {
          "color": "cornflowerblue",
          "width": 0.3
         },
         "mode": "lines",
         "text": [
          "Theseus--Quince: 1"
         ],
         "type": "scatter",
         "x": [
          0.6190289320997386,
          -0.22615095170979718,
          null
         ],
         "y": [
          0.016533175174840712,
          0.19362017350200453,
          null
         ]
        },
        {
         "hoverinfo": "text",
         "line": {
          "color": "cornflowerblue",
          "width": 0.3
         },
         "mode": "lines",
         "text": [
          "Theseus--Snug: 1"
         ],
         "type": "scatter",
         "x": [
          0.6190289320997386,
          0.06900925637741061,
          null
         ],
         "y": [
          0.016533175174840712,
          0.18538911742647576,
          null
         ]
        },
        {
         "hoverinfo": "text",
         "line": {
          "color": "cornflowerblue",
          "width": 0.3
         },
         "mode": "lines",
         "text": [
          "Theseus--Bottom: 1"
         ],
         "type": "scatter",
         "x": [
          0.6190289320997386,
          -0.24710174509713229,
          null
         ],
         "y": [
          0.016533175174840712,
          0.018404076797855995,
          null
         ]
        },
        {
         "hoverinfo": "text",
         "line": {
          "color": "cornflowerblue",
          "width": 0.3
         },
         "mode": "lines",
         "text": [
          "Theseus--Flute: 1"
         ],
         "type": "scatter",
         "x": [
          0.6190289320997386,
          -0.05028463371276033,
          null
         ],
         "y": [
          0.016533175174840712,
          -0.0037660743791820593,
          null
         ]
        },
        {
         "hoverinfo": "text",
         "line": {
          "color": "cornflowerblue",
          "width": 0.3
         },
         "mode": "lines",
         "text": [
          "Theseus--Snout: 1"
         ],
         "type": "scatter",
         "x": [
          0.6190289320997386,
          -0.14895027834896346,
          null
         ],
         "y": [
          0.016533175174840712,
          0.31249439468677936,
          null
         ]
        },
        {
         "hoverinfo": "text",
         "line": {
          "color": "cornflowerblue",
          "width": 0.3
         },
         "mode": "lines",
         "text": [
          "Theseus--Starveling: 1"
         ],
         "type": "scatter",
         "x": [
          0.6190289320997386,
          0.0845232255942181,
          null
         ],
         "y": [
          0.016533175174840712,
          0.33012992045619755,
          null
         ]
        },
        {
         "hoverinfo": "text",
         "line": {
          "color": "cornflowerblue",
          "width": 0.3
         },
         "mode": "lines",
         "text": [
          "Theseus--Oberon: 1"
         ],
         "type": "scatter",
         "x": [
          0.6190289320997386,
          0.10822066593162673,
          null
         ],
         "y": [
          0.016533175174840712,
          -0.2737667475814357,
          null
         ]
        },
        {
         "hoverinfo": "text",
         "line": {
          "color": "cornflowerblue",
          "width": 0.3
         },
         "mode": "lines",
         "text": [
          "Theseus--Titania: 1"
         ],
         "type": "scatter",
         "x": [
          0.6190289320997386,
          -0.15927071325054273,
          null
         ],
         "y": [
          0.016533175174840712,
          -0.13886244497327638,
          null
         ]
        },
        {
         "hoverinfo": "text",
         "line": {
          "color": "cornflowerblue",
          "width": 1.0090756983044573
         },
         "mode": "lines",
         "text": [
          "Theseus--Puck: 2"
         ],
         "type": "scatter",
         "x": [
          0.6190289320997386,
          0.07059506173786403,
          null
         ],
         "y": [
          0.016533175174840712,
          -0.06661571994143042,
          null
         ]
        },
        {
         "hoverinfo": "text",
         "line": {
          "color": "cornflowerblue",
          "width": 0.3
         },
         "mode": "lines",
         "text": [
          "Theseus--Fairies: 1"
         ],
         "type": "scatter",
         "x": [
          0.6190289320997386,
          0.17165745788607173,
          null
         ],
         "y": [
          0.016533175174840712,
          -0.3929550352209284,
          null
         ]
        },
        {
         "hoverinfo": "text",
         "line": {
          "color": "cornflowerblue",
          "width": 2.0515563512592996
         },
         "mode": "lines",
         "text": [
          "Theseus--Attendants: 3"
         ],
         "type": "scatter",
         "x": [
          0.6190289320997386,
          0.43106521834255995,
          null
         ],
         "y": [
          0.016533175174840712,
          0.2023266549827444,
          null
         ]
        },
        {
         "hoverinfo": "text",
         "line": {
          "color": "cornflowerblue",
          "width": 1.0090756983044573
         },
         "mode": "lines",
         "text": [
          "Hippolyta--Egeus: 2"
         ],
         "type": "scatter",
         "x": [
          0.47725621366214216,
          1,
          null
         ],
         "y": [
          0.3268873301366787,
          0.03673934469118579,
          null
         ]
        },
        {
         "hoverinfo": "text",
         "line": {
          "color": "cornflowerblue",
          "width": 2.0515563512592996
         },
         "mode": "lines",
         "text": [
          "Hippolyta--Hermia: 3"
         ],
         "type": "scatter",
         "x": [
          0.47725621366214216,
          0.3852448998383637,
          null
         ],
         "y": [
          0.3268873301366787,
          0.04500407450360561,
          null
         ]
        },
        {
         "hoverinfo": "text",
         "line": {
          "color": "cornflowerblue",
          "width": 1.0090756983044573
         },
         "mode": "lines",
         "text": [
          "Hippolyta--Helena: 2"
         ],
         "type": "scatter",
         "x": [
          0.47725621366214216,
          0.38737526362418345,
          null
         ],
         "y": [
          0.3268873301366787,
          -0.26559632549180684,
          null
         ]
        },
        {
         "hoverinfo": "text",
         "line": {
          "color": "cornflowerblue",
          "width": 2.0515563512592996
         },
         "mode": "lines",
         "text": [
          "Hippolyta--Lysander: 3"
         ],
         "type": "scatter",
         "x": [
          0.47725621366214216,
          0.3956544087949181,
          null
         ],
         "y": [
          0.3268873301366787,
          -0.08926375770366206,
          null
         ]
        },
        {
         "hoverinfo": "text",
         "line": {
          "color": "cornflowerblue",
          "width": 2.0515563512592996
         },
         "mode": "lines",
         "text": [
          "Hippolyta--Demetrius: 3"
         ],
         "type": "scatter",
         "x": [
          0.47725621366214216,
          0.5225916452627758,
          null
         ],
         "y": [
          0.3268873301366787,
          -0.15121880364713625,
          null
         ]
        },
        {
         "hoverinfo": "text",
         "line": {
          "color": "cornflowerblue",
          "width": 1.0090756983044573
         },
         "mode": "lines",
         "text": [
          "Hippolyta--Philostrate: 2"
         ],
         "type": "scatter",
         "x": [
          0.47725621366214216,
          0.6259514434301439,
          null
         ],
         "y": [
          0.3268873301366787,
          0.23433890123733436,
          null
         ]
        },
        {
         "hoverinfo": "text",
         "line": {
          "color": "cornflowerblue",
          "width": 0.3
         },
         "mode": "lines",
         "text": [
          "Hippolyta--Quince: 1"
         ],
         "type": "scatter",
         "x": [
          0.47725621366214216,
          -0.22615095170979718,
          null
         ],
         "y": [
          0.3268873301366787,
          0.19362017350200453,
          null
         ]
        },
        {
         "hoverinfo": "text",
         "line": {
          "color": "cornflowerblue",
          "width": 0.3
         },
         "mode": "lines",
         "text": [
          "Hippolyta--Snug: 1"
         ],
         "type": "scatter",
         "x": [
          0.47725621366214216,
          0.06900925637741061,
          null
         ],
         "y": [
          0.3268873301366787,
          0.18538911742647576,
          null
         ]
        },
        {
         "hoverinfo": "text",
         "line": {
          "color": "cornflowerblue",
          "width": 0.3
         },
         "mode": "lines",
         "text": [
          "Hippolyta--Bottom: 1"
         ],
         "type": "scatter",
         "x": [
          0.47725621366214216,
          -0.24710174509713229,
          null
         ],
         "y": [
          0.3268873301366787,
          0.018404076797855995,
          null
         ]
        },
        {
         "hoverinfo": "text",
         "line": {
          "color": "cornflowerblue",
          "width": 0.3
         },
         "mode": "lines",
         "text": [
          "Hippolyta--Flute: 1"
         ],
         "type": "scatter",
         "x": [
          0.47725621366214216,
          -0.05028463371276033,
          null
         ],
         "y": [
          0.3268873301366787,
          -0.0037660743791820593,
          null
         ]
        },
        {
         "hoverinfo": "text",
         "line": {
          "color": "cornflowerblue",
          "width": 0.3
         },
         "mode": "lines",
         "text": [
          "Hippolyta--Snout: 1"
         ],
         "type": "scatter",
         "x": [
          0.47725621366214216,
          -0.14895027834896346,
          null
         ],
         "y": [
          0.3268873301366787,
          0.31249439468677936,
          null
         ]
        },
        {
         "hoverinfo": "text",
         "line": {
          "color": "cornflowerblue",
          "width": 0.3
         },
         "mode": "lines",
         "text": [
          "Hippolyta--Starveling: 1"
         ],
         "type": "scatter",
         "x": [
          0.47725621366214216,
          0.0845232255942181,
          null
         ],
         "y": [
          0.3268873301366787,
          0.33012992045619755,
          null
         ]
        },
        {
         "hoverinfo": "text",
         "line": {
          "color": "cornflowerblue",
          "width": 0.3
         },
         "mode": "lines",
         "text": [
          "Hippolyta--Oberon: 1"
         ],
         "type": "scatter",
         "x": [
          0.47725621366214216,
          0.10822066593162673,
          null
         ],
         "y": [
          0.3268873301366787,
          -0.2737667475814357,
          null
         ]
        },
        {
         "hoverinfo": "text",
         "line": {
          "color": "cornflowerblue",
          "width": 0.3
         },
         "mode": "lines",
         "text": [
          "Hippolyta--Titania: 1"
         ],
         "type": "scatter",
         "x": [
          0.47725621366214216,
          -0.15927071325054273,
          null
         ],
         "y": [
          0.3268873301366787,
          -0.13886244497327638,
          null
         ]
        },
        {
         "hoverinfo": "text",
         "line": {
          "color": "cornflowerblue",
          "width": 1.0090756983044573
         },
         "mode": "lines",
         "text": [
          "Hippolyta--Puck: 2"
         ],
         "type": "scatter",
         "x": [
          0.47725621366214216,
          0.07059506173786403,
          null
         ],
         "y": [
          0.3268873301366787,
          -0.06661571994143042,
          null
         ]
        },
        {
         "hoverinfo": "text",
         "line": {
          "color": "cornflowerblue",
          "width": 0.3
         },
         "mode": "lines",
         "text": [
          "Hippolyta--Fairies: 1"
         ],
         "type": "scatter",
         "x": [
          0.47725621366214216,
          0.17165745788607173,
          null
         ],
         "y": [
          0.3268873301366787,
          -0.3929550352209284,
          null
         ]
        },
        {
         "hoverinfo": "text",
         "line": {
          "color": "cornflowerblue",
          "width": 2.0515563512592996
         },
         "mode": "lines",
         "text": [
          "Hippolyta--Attendants: 3"
         ],
         "type": "scatter",
         "x": [
          0.47725621366214216,
          0.43106521834255995,
          null
         ],
         "y": [
          0.3268873301366787,
          0.2023266549827444,
          null
         ]
        },
        {
         "hoverinfo": "text",
         "line": {
          "color": "cornflowerblue",
          "width": 1.0090756983044573
         },
         "mode": "lines",
         "text": [
          "Egeus--Hermia: 2"
         ],
         "type": "scatter",
         "x": [
          1,
          0.3852448998383637,
          null
         ],
         "y": [
          0.03673934469118579,
          0.04500407450360561,
          null
         ]
        },
        {
         "hoverinfo": "text",
         "line": {
          "color": "cornflowerblue",
          "width": 0.3
         },
         "mode": "lines",
         "text": [
          "Egeus--Helena: 1"
         ],
         "type": "scatter",
         "x": [
          1,
          0.38737526362418345,
          null
         ],
         "y": [
          0.03673934469118579,
          -0.26559632549180684,
          null
         ]
        },
        {
         "hoverinfo": "text",
         "line": {
          "color": "cornflowerblue",
          "width": 1.0090756983044573
         },
         "mode": "lines",
         "text": [
          "Egeus--Lysander: 2"
         ],
         "type": "scatter",
         "x": [
          1,
          0.3956544087949181,
          null
         ],
         "y": [
          0.03673934469118579,
          -0.08926375770366206,
          null
         ]
        },
        {
         "hoverinfo": "text",
         "line": {
          "color": "cornflowerblue",
          "width": 1.0090756983044573
         },
         "mode": "lines",
         "text": [
          "Egeus--Demetrius: 2"
         ],
         "type": "scatter",
         "x": [
          1,
          0.5225916452627758,
          null
         ],
         "y": [
          0.03673934469118579,
          -0.15121880364713625,
          null
         ]
        },
        {
         "hoverinfo": "text",
         "line": {
          "color": "cornflowerblue",
          "width": 0.3
         },
         "mode": "lines",
         "text": [
          "Egeus--Philostrate: 1"
         ],
         "type": "scatter",
         "x": [
          1,
          0.6259514434301439,
          null
         ],
         "y": [
          0.03673934469118579,
          0.23433890123733436,
          null
         ]
        },
        {
         "hoverinfo": "text",
         "line": {
          "color": "cornflowerblue",
          "width": 0.3
         },
         "mode": "lines",
         "text": [
          "Egeus--Puck: 1"
         ],
         "type": "scatter",
         "x": [
          1,
          0.07059506173786403,
          null
         ],
         "y": [
          0.03673934469118579,
          -0.06661571994143042,
          null
         ]
        },
        {
         "hoverinfo": "text",
         "line": {
          "color": "cornflowerblue",
          "width": 1.0090756983044573
         },
         "mode": "lines",
         "text": [
          "Egeus--Attendants: 2"
         ],
         "type": "scatter",
         "x": [
          1,
          0.43106521834255995,
          null
         ],
         "y": [
          0.03673934469118579,
          0.2023266549827444,
          null
         ]
        },
        {
         "hoverinfo": "text",
         "line": {
          "color": "cornflowerblue",
          "width": 5.015552287323165
         },
         "mode": "lines",
         "text": [
          "Hermia--Helena: 5"
         ],
         "type": "scatter",
         "x": [
          0.3852448998383637,
          0.38737526362418345,
          null
         ],
         "y": [
          0.04500407450360561,
          -0.26559632549180684,
          null
         ]
        },
        {
         "hoverinfo": "text",
         "line": {
          "color": "cornflowerblue",
          "width": 5.015552287323165
         },
         "mode": "lines",
         "text": [
          "Hermia--Lysander: 5"
         ],
         "type": "scatter",
         "x": [
          0.3852448998383637,
          0.3956544087949181,
          null
         ],
         "y": [
          0.04500407450360561,
          -0.08926375770366206,
          null
         ]
        },
        {
         "hoverinfo": "text",
         "line": {
          "color": "cornflowerblue",
          "width": 5.015552287323165
         },
         "mode": "lines",
         "text": [
          "Hermia--Demetrius: 5"
         ],
         "type": "scatter",
         "x": [
          0.3852448998383637,
          0.5225916452627758,
          null
         ],
         "y": [
          0.04500407450360561,
          -0.15121880364713625,
          null
         ]
        },
        {
         "hoverinfo": "text",
         "line": {
          "color": "cornflowerblue",
          "width": 1.0090756983044573
         },
         "mode": "lines",
         "text": [
          "Hermia--Philostrate: 2"
         ],
         "type": "scatter",
         "x": [
          0.3852448998383637,
          0.6259514434301439,
          null
         ],
         "y": [
          0.04500407450360561,
          0.23433890123733436,
          null
         ]
        },
        {
         "hoverinfo": "text",
         "line": {
          "color": "cornflowerblue",
          "width": 0.3
         },
         "mode": "lines",
         "text": [
          "Hermia--Quince: 1"
         ],
         "type": "scatter",
         "x": [
          0.3852448998383637,
          -0.22615095170979718,
          null
         ],
         "y": [
          0.04500407450360561,
          0.19362017350200453,
          null
         ]
        },
        {
         "hoverinfo": "text",
         "line": {
          "color": "cornflowerblue",
          "width": 0.3
         },
         "mode": "lines",
         "text": [
          "Hermia--Snug: 1"
         ],
         "type": "scatter",
         "x": [
          0.3852448998383637,
          0.06900925637741061,
          null
         ],
         "y": [
          0.04500407450360561,
          0.18538911742647576,
          null
         ]
        },
        {
         "hoverinfo": "text",
         "line": {
          "color": "cornflowerblue",
          "width": 0.3
         },
         "mode": "lines",
         "text": [
          "Hermia--Bottom: 1"
         ],
         "type": "scatter",
         "x": [
          0.3852448998383637,
          -0.24710174509713229,
          null
         ],
         "y": [
          0.04500407450360561,
          0.018404076797855995,
          null
         ]
        },
        {
         "hoverinfo": "text",
         "line": {
          "color": "cornflowerblue",
          "width": 0.3
         },
         "mode": "lines",
         "text": [
          "Hermia--Flute: 1"
         ],
         "type": "scatter",
         "x": [
          0.3852448998383637,
          -0.05028463371276033,
          null
         ],
         "y": [
          0.04500407450360561,
          -0.0037660743791820593,
          null
         ]
        },
        {
         "hoverinfo": "text",
         "line": {
          "color": "cornflowerblue",
          "width": 0.3
         },
         "mode": "lines",
         "text": [
          "Hermia--Snout: 1"
         ],
         "type": "scatter",
         "x": [
          0.3852448998383637,
          -0.14895027834896346,
          null
         ],
         "y": [
          0.04500407450360561,
          0.31249439468677936,
          null
         ]
        },
        {
         "hoverinfo": "text",
         "line": {
          "color": "cornflowerblue",
          "width": 0.3
         },
         "mode": "lines",
         "text": [
          "Hermia--Starveling: 1"
         ],
         "type": "scatter",
         "x": [
          0.3852448998383637,
          0.0845232255942181,
          null
         ],
         "y": [
          0.04500407450360561,
          0.33012992045619755,
          null
         ]
        },
        {
         "hoverinfo": "text",
         "line": {
          "color": "cornflowerblue",
          "width": 2.0515563512592996
         },
         "mode": "lines",
         "text": [
          "Hermia--Oberon: 3"
         ],
         "type": "scatter",
         "x": [
          0.3852448998383637,
          0.10822066593162673,
          null
         ],
         "y": [
          0.04500407450360561,
          -0.2737667475814357,
          null
         ]
        },
        {
         "hoverinfo": "text",
         "line": {
          "color": "cornflowerblue",
          "width": 1.0090756983044573
         },
         "mode": "lines",
         "text": [
          "Hermia--Titania: 2"
         ],
         "type": "scatter",
         "x": [
          0.3852448998383637,
          -0.15927071325054273,
          null
         ],
         "y": [
          0.04500407450360561,
          -0.13886244497327638,
          null
         ]
        },
        {
         "hoverinfo": "text",
         "line": {
          "color": "cornflowerblue",
          "width": 3.394112549695428
         },
         "mode": "lines",
         "text": [
          "Hermia--Puck: 4"
         ],
         "type": "scatter",
         "x": [
          0.3852448998383637,
          0.07059506173786403,
          null
         ],
         "y": [
          0.04500407450360561,
          -0.06661571994143042,
          null
         ]
        },
        {
         "hoverinfo": "text",
         "line": {
          "color": "cornflowerblue",
          "width": 0.3
         },
         "mode": "lines",
         "text": [
          "Hermia--Fairies: 1"
         ],
         "type": "scatter",
         "x": [
          0.3852448998383637,
          0.17165745788607173,
          null
         ],
         "y": [
          0.04500407450360561,
          -0.3929550352209284,
          null
         ]
        },
        {
         "hoverinfo": "text",
         "line": {
          "color": "cornflowerblue",
          "width": 2.0515563512592996
         },
         "mode": "lines",
         "text": [
          "Hermia--Attendants: 3"
         ],
         "type": "scatter",
         "x": [
          0.3852448998383637,
          0.43106521834255995,
          null
         ],
         "y": [
          0.04500407450360561,
          0.2023266549827444,
          null
         ]
        },
        {
         "hoverinfo": "text",
         "line": {
          "color": "cornflowerblue",
          "width": 5.015552287323165
         },
         "mode": "lines",
         "text": [
          "Helena--Lysander: 5"
         ],
         "type": "scatter",
         "x": [
          0.38737526362418345,
          0.3956544087949181,
          null
         ],
         "y": [
          -0.26559632549180684,
          -0.08926375770366206,
          null
         ]
        },
        {
         "hoverinfo": "text",
         "line": {
          "color": "cornflowerblue",
          "width": 5.015552287323165
         },
         "mode": "lines",
         "text": [
          "Helena--Demetrius: 5"
         ],
         "type": "scatter",
         "x": [
          0.38737526362418345,
          0.5225916452627758,
          null
         ],
         "y": [
          -0.26559632549180684,
          -0.15121880364713625,
          null
         ]
        },
        {
         "hoverinfo": "text",
         "line": {
          "color": "cornflowerblue",
          "width": 0.3
         },
         "mode": "lines",
         "text": [
          "Helena--Philostrate: 1"
         ],
         "type": "scatter",
         "x": [
          0.38737526362418345,
          0.6259514434301439,
          null
         ],
         "y": [
          -0.26559632549180684,
          0.23433890123733436,
          null
         ]
        },
        {
         "hoverinfo": "text",
         "line": {
          "color": "cornflowerblue",
          "width": 0.3
         },
         "mode": "lines",
         "text": [
          "Helena--Quince: 1"
         ],
         "type": "scatter",
         "x": [
          0.38737526362418345,
          -0.22615095170979718,
          null
         ],
         "y": [
          -0.26559632549180684,
          0.19362017350200453,
          null
         ]
        },
        {
         "hoverinfo": "text",
         "line": {
          "color": "cornflowerblue",
          "width": 0.3
         },
         "mode": "lines",
         "text": [
          "Helena--Snug: 1"
         ],
         "type": "scatter",
         "x": [
          0.38737526362418345,
          0.06900925637741061,
          null
         ],
         "y": [
          -0.26559632549180684,
          0.18538911742647576,
          null
         ]
        },
        {
         "hoverinfo": "text",
         "line": {
          "color": "cornflowerblue",
          "width": 0.3
         },
         "mode": "lines",
         "text": [
          "Helena--Bottom: 1"
         ],
         "type": "scatter",
         "x": [
          0.38737526362418345,
          -0.24710174509713229,
          null
         ],
         "y": [
          -0.26559632549180684,
          0.018404076797855995,
          null
         ]
        },
        {
         "hoverinfo": "text",
         "line": {
          "color": "cornflowerblue",
          "width": 0.3
         },
         "mode": "lines",
         "text": [
          "Helena--Flute: 1"
         ],
         "type": "scatter",
         "x": [
          0.38737526362418345,
          -0.05028463371276033,
          null
         ],
         "y": [
          -0.26559632549180684,
          -0.0037660743791820593,
          null
         ]
        },
        {
         "hoverinfo": "text",
         "line": {
          "color": "cornflowerblue",
          "width": 0.3
         },
         "mode": "lines",
         "text": [
          "Helena--Snout: 1"
         ],
         "type": "scatter",
         "x": [
          0.38737526362418345,
          -0.14895027834896346,
          null
         ],
         "y": [
          -0.26559632549180684,
          0.31249439468677936,
          null
         ]
        },
        {
         "hoverinfo": "text",
         "line": {
          "color": "cornflowerblue",
          "width": 0.3
         },
         "mode": "lines",
         "text": [
          "Helena--Starveling: 1"
         ],
         "type": "scatter",
         "x": [
          0.38737526362418345,
          0.0845232255942181,
          null
         ],
         "y": [
          -0.26559632549180684,
          0.33012992045619755,
          null
         ]
        },
        {
         "hoverinfo": "text",
         "line": {
          "color": "cornflowerblue",
          "width": 2.0515563512592996
         },
         "mode": "lines",
         "text": [
          "Helena--Oberon: 3"
         ],
         "type": "scatter",
         "x": [
          0.38737526362418345,
          0.10822066593162673,
          null
         ],
         "y": [
          -0.26559632549180684,
          -0.2737667475814357,
          null
         ]
        },
        {
         "hoverinfo": "text",
         "line": {
          "color": "cornflowerblue",
          "width": 1.0090756983044573
         },
         "mode": "lines",
         "text": [
          "Helena--Titania: 2"
         ],
         "type": "scatter",
         "x": [
          0.38737526362418345,
          -0.15927071325054273,
          null
         ],
         "y": [
          -0.26559632549180684,
          -0.13886244497327638,
          null
         ]
        },
        {
         "hoverinfo": "text",
         "line": {
          "color": "cornflowerblue",
          "width": 5.015552287323165
         },
         "mode": "lines",
         "text": [
          "Helena--Puck: 5"
         ],
         "type": "scatter",
         "x": [
          0.38737526362418345,
          0.07059506173786403,
          null
         ],
         "y": [
          -0.26559632549180684,
          -0.06661571994143042,
          null
         ]
        },
        {
         "hoverinfo": "text",
         "line": {
          "color": "cornflowerblue",
          "width": 1.0090756983044573
         },
         "mode": "lines",
         "text": [
          "Helena--Fairies: 2"
         ],
         "type": "scatter",
         "x": [
          0.38737526362418345,
          0.17165745788607173,
          null
         ],
         "y": [
          -0.26559632549180684,
          -0.3929550352209284,
          null
         ]
        },
        {
         "hoverinfo": "text",
         "line": {
          "color": "cornflowerblue",
          "width": 1.0090756983044573
         },
         "mode": "lines",
         "text": [
          "Helena--Attendants: 2"
         ],
         "type": "scatter",
         "x": [
          0.38737526362418345,
          0.43106521834255995,
          null
         ],
         "y": [
          -0.26559632549180684,
          0.2023266549827444,
          null
         ]
        },
        {
         "hoverinfo": "text",
         "line": {
          "color": "cornflowerblue",
          "width": 5.015552287323165
         },
         "mode": "lines",
         "text": [
          "Lysander--Demetrius: 5"
         ],
         "type": "scatter",
         "x": [
          0.3956544087949181,
          0.5225916452627758,
          null
         ],
         "y": [
          -0.08926375770366206,
          -0.15121880364713625,
          null
         ]
        },
        {
         "hoverinfo": "text",
         "line": {
          "color": "cornflowerblue",
          "width": 1.0090756983044573
         },
         "mode": "lines",
         "text": [
          "Lysander--Philostrate: 2"
         ],
         "type": "scatter",
         "x": [
          0.3956544087949181,
          0.6259514434301439,
          null
         ],
         "y": [
          -0.08926375770366206,
          0.23433890123733436,
          null
         ]
        },
        {
         "hoverinfo": "text",
         "line": {
          "color": "cornflowerblue",
          "width": 0.3
         },
         "mode": "lines",
         "text": [
          "Lysander--Quince: 1"
         ],
         "type": "scatter",
         "x": [
          0.3956544087949181,
          -0.22615095170979718,
          null
         ],
         "y": [
          -0.08926375770366206,
          0.19362017350200453,
          null
         ]
        },
        {
         "hoverinfo": "text",
         "line": {
          "color": "cornflowerblue",
          "width": 0.3
         },
         "mode": "lines",
         "text": [
          "Lysander--Snug: 1"
         ],
         "type": "scatter",
         "x": [
          0.3956544087949181,
          0.06900925637741061,
          null
         ],
         "y": [
          -0.08926375770366206,
          0.18538911742647576,
          null
         ]
        },
        {
         "hoverinfo": "text",
         "line": {
          "color": "cornflowerblue",
          "width": 0.3
         },
         "mode": "lines",
         "text": [
          "Lysander--Bottom: 1"
         ],
         "type": "scatter",
         "x": [
          0.3956544087949181,
          -0.24710174509713229,
          null
         ],
         "y": [
          -0.08926375770366206,
          0.018404076797855995,
          null
         ]
        },
        {
         "hoverinfo": "text",
         "line": {
          "color": "cornflowerblue",
          "width": 0.3
         },
         "mode": "lines",
         "text": [
          "Lysander--Flute: 1"
         ],
         "type": "scatter",
         "x": [
          0.3956544087949181,
          -0.05028463371276033,
          null
         ],
         "y": [
          -0.08926375770366206,
          -0.0037660743791820593,
          null
         ]
        },
        {
         "hoverinfo": "text",
         "line": {
          "color": "cornflowerblue",
          "width": 0.3
         },
         "mode": "lines",
         "text": [
          "Lysander--Snout: 1"
         ],
         "type": "scatter",
         "x": [
          0.3956544087949181,
          -0.14895027834896346,
          null
         ],
         "y": [
          -0.08926375770366206,
          0.31249439468677936,
          null
         ]
        },
        {
         "hoverinfo": "text",
         "line": {
          "color": "cornflowerblue",
          "width": 0.3
         },
         "mode": "lines",
         "text": [
          "Lysander--Starveling: 1"
         ],
         "type": "scatter",
         "x": [
          0.3956544087949181,
          0.0845232255942181,
          null
         ],
         "y": [
          -0.08926375770366206,
          0.33012992045619755,
          null
         ]
        },
        {
         "hoverinfo": "text",
         "line": {
          "color": "cornflowerblue",
          "width": 2.0515563512592996
         },
         "mode": "lines",
         "text": [
          "Lysander--Oberon: 3"
         ],
         "type": "scatter",
         "x": [
          0.3956544087949181,
          0.10822066593162673,
          null
         ],
         "y": [
          -0.08926375770366206,
          -0.2737667475814357,
          null
         ]
        },
        {
         "hoverinfo": "text",
         "line": {
          "color": "cornflowerblue",
          "width": 1.0090756983044573
         },
         "mode": "lines",
         "text": [
          "Lysander--Titania: 2"
         ],
         "type": "scatter",
         "x": [
          0.3956544087949181,
          -0.15927071325054273,
          null
         ],
         "y": [
          -0.08926375770366206,
          -0.13886244497327638,
          null
         ]
        },
        {
         "hoverinfo": "text",
         "line": {
          "color": "cornflowerblue",
          "width": 3.394112549695428
         },
         "mode": "lines",
         "text": [
          "Lysander--Puck: 4"
         ],
         "type": "scatter",
         "x": [
          0.3956544087949181,
          0.07059506173786403,
          null
         ],
         "y": [
          -0.08926375770366206,
          -0.06661571994143042,
          null
         ]
        },
        {
         "hoverinfo": "text",
         "line": {
          "color": "cornflowerblue",
          "width": 0.3
         },
         "mode": "lines",
         "text": [
          "Lysander--Fairies: 1"
         ],
         "type": "scatter",
         "x": [
          0.3956544087949181,
          0.17165745788607173,
          null
         ],
         "y": [
          -0.08926375770366206,
          -0.3929550352209284,
          null
         ]
        },
        {
         "hoverinfo": "text",
         "line": {
          "color": "cornflowerblue",
          "width": 2.0515563512592996
         },
         "mode": "lines",
         "text": [
          "Lysander--Attendants: 3"
         ],
         "type": "scatter",
         "x": [
          0.3956544087949181,
          0.43106521834255995,
          null
         ],
         "y": [
          -0.08926375770366206,
          0.2023266549827444,
          null
         ]
        },
        {
         "hoverinfo": "text",
         "line": {
          "color": "cornflowerblue",
          "width": 1.0090756983044573
         },
         "mode": "lines",
         "text": [
          "Demetrius--Philostrate: 2"
         ],
         "type": "scatter",
         "x": [
          0.5225916452627758,
          0.6259514434301439,
          null
         ],
         "y": [
          -0.15121880364713625,
          0.23433890123733436,
          null
         ]
        },
        {
         "hoverinfo": "text",
         "line": {
          "color": "cornflowerblue",
          "width": 0.3
         },
         "mode": "lines",
         "text": [
          "Demetrius--Quince: 1"
         ],
         "type": "scatter",
         "x": [
          0.5225916452627758,
          -0.22615095170979718,
          null
         ],
         "y": [
          -0.15121880364713625,
          0.19362017350200453,
          null
         ]
        },
        {
         "hoverinfo": "text",
         "line": {
          "color": "cornflowerblue",
          "width": 0.3
         },
         "mode": "lines",
         "text": [
          "Demetrius--Snug: 1"
         ],
         "type": "scatter",
         "x": [
          0.5225916452627758,
          0.06900925637741061,
          null
         ],
         "y": [
          -0.15121880364713625,
          0.18538911742647576,
          null
         ]
        },
        {
         "hoverinfo": "text",
         "line": {
          "color": "cornflowerblue",
          "width": 0.3
         },
         "mode": "lines",
         "text": [
          "Demetrius--Bottom: 1"
         ],
         "type": "scatter",
         "x": [
          0.5225916452627758,
          -0.24710174509713229,
          null
         ],
         "y": [
          -0.15121880364713625,
          0.018404076797855995,
          null
         ]
        },
        {
         "hoverinfo": "text",
         "line": {
          "color": "cornflowerblue",
          "width": 0.3
         },
         "mode": "lines",
         "text": [
          "Demetrius--Flute: 1"
         ],
         "type": "scatter",
         "x": [
          0.5225916452627758,
          -0.05028463371276033,
          null
         ],
         "y": [
          -0.15121880364713625,
          -0.0037660743791820593,
          null
         ]
        },
        {
         "hoverinfo": "text",
         "line": {
          "color": "cornflowerblue",
          "width": 0.3
         },
         "mode": "lines",
         "text": [
          "Demetrius--Snout: 1"
         ],
         "type": "scatter",
         "x": [
          0.5225916452627758,
          -0.14895027834896346,
          null
         ],
         "y": [
          -0.15121880364713625,
          0.31249439468677936,
          null
         ]
        },
        {
         "hoverinfo": "text",
         "line": {
          "color": "cornflowerblue",
          "width": 0.3
         },
         "mode": "lines",
         "text": [
          "Demetrius--Starveling: 1"
         ],
         "type": "scatter",
         "x": [
          0.5225916452627758,
          0.0845232255942181,
          null
         ],
         "y": [
          -0.15121880364713625,
          0.33012992045619755,
          null
         ]
        },
        {
         "hoverinfo": "text",
         "line": {
          "color": "cornflowerblue",
          "width": 2.0515563512592996
         },
         "mode": "lines",
         "text": [
          "Demetrius--Oberon: 3"
         ],
         "type": "scatter",
         "x": [
          0.5225916452627758,
          0.10822066593162673,
          null
         ],
         "y": [
          -0.15121880364713625,
          -0.2737667475814357,
          null
         ]
        },
        {
         "hoverinfo": "text",
         "line": {
          "color": "cornflowerblue",
          "width": 1.0090756983044573
         },
         "mode": "lines",
         "text": [
          "Demetrius--Titania: 2"
         ],
         "type": "scatter",
         "x": [
          0.5225916452627758,
          -0.15927071325054273,
          null
         ],
         "y": [
          -0.15121880364713625,
          -0.13886244497327638,
          null
         ]
        },
        {
         "hoverinfo": "text",
         "line": {
          "color": "cornflowerblue",
          "width": 5.015552287323165
         },
         "mode": "lines",
         "text": [
          "Demetrius--Puck: 5"
         ],
         "type": "scatter",
         "x": [
          0.5225916452627758,
          0.07059506173786403,
          null
         ],
         "y": [
          -0.15121880364713625,
          -0.06661571994143042,
          null
         ]
        },
        {
         "hoverinfo": "text",
         "line": {
          "color": "cornflowerblue",
          "width": 1.0090756983044573
         },
         "mode": "lines",
         "text": [
          "Demetrius--Fairies: 2"
         ],
         "type": "scatter",
         "x": [
          0.5225916452627758,
          0.17165745788607173,
          null
         ],
         "y": [
          -0.15121880364713625,
          -0.3929550352209284,
          null
         ]
        },
        {
         "hoverinfo": "text",
         "line": {
          "color": "cornflowerblue",
          "width": 2.0515563512592996
         },
         "mode": "lines",
         "text": [
          "Demetrius--Attendants: 3"
         ],
         "type": "scatter",
         "x": [
          0.5225916452627758,
          0.43106521834255995,
          null
         ],
         "y": [
          -0.15121880364713625,
          0.2023266549827444,
          null
         ]
        },
        {
         "hoverinfo": "text",
         "line": {
          "color": "cornflowerblue",
          "width": 0.3
         },
         "mode": "lines",
         "text": [
          "Philostrate--Quince: 1"
         ],
         "type": "scatter",
         "x": [
          0.6259514434301439,
          -0.22615095170979718,
          null
         ],
         "y": [
          0.23433890123733436,
          0.19362017350200453,
          null
         ]
        },
        {
         "hoverinfo": "text",
         "line": {
          "color": "cornflowerblue",
          "width": 0.3
         },
         "mode": "lines",
         "text": [
          "Philostrate--Snug: 1"
         ],
         "type": "scatter",
         "x": [
          0.6259514434301439,
          0.06900925637741061,
          null
         ],
         "y": [
          0.23433890123733436,
          0.18538911742647576,
          null
         ]
        },
        {
         "hoverinfo": "text",
         "line": {
          "color": "cornflowerblue",
          "width": 0.3
         },
         "mode": "lines",
         "text": [
          "Philostrate--Bottom: 1"
         ],
         "type": "scatter",
         "x": [
          0.6259514434301439,
          -0.24710174509713229,
          null
         ],
         "y": [
          0.23433890123733436,
          0.018404076797855995,
          null
         ]
        },
        {
         "hoverinfo": "text",
         "line": {
          "color": "cornflowerblue",
          "width": 0.3
         },
         "mode": "lines",
         "text": [
          "Philostrate--Flute: 1"
         ],
         "type": "scatter",
         "x": [
          0.6259514434301439,
          -0.05028463371276033,
          null
         ],
         "y": [
          0.23433890123733436,
          -0.0037660743791820593,
          null
         ]
        },
        {
         "hoverinfo": "text",
         "line": {
          "color": "cornflowerblue",
          "width": 0.3
         },
         "mode": "lines",
         "text": [
          "Philostrate--Snout: 1"
         ],
         "type": "scatter",
         "x": [
          0.6259514434301439,
          -0.14895027834896346,
          null
         ],
         "y": [
          0.23433890123733436,
          0.31249439468677936,
          null
         ]
        },
        {
         "hoverinfo": "text",
         "line": {
          "color": "cornflowerblue",
          "width": 0.3
         },
         "mode": "lines",
         "text": [
          "Philostrate--Starveling: 1"
         ],
         "type": "scatter",
         "x": [
          0.6259514434301439,
          0.0845232255942181,
          null
         ],
         "y": [
          0.23433890123733436,
          0.33012992045619755,
          null
         ]
        },
        {
         "hoverinfo": "text",
         "line": {
          "color": "cornflowerblue",
          "width": 0.3
         },
         "mode": "lines",
         "text": [
          "Philostrate--Oberon: 1"
         ],
         "type": "scatter",
         "x": [
          0.6259514434301439,
          0.10822066593162673,
          null
         ],
         "y": [
          0.23433890123733436,
          -0.2737667475814357,
          null
         ]
        },
        {
         "hoverinfo": "text",
         "line": {
          "color": "cornflowerblue",
          "width": 0.3
         },
         "mode": "lines",
         "text": [
          "Philostrate--Titania: 1"
         ],
         "type": "scatter",
         "x": [
          0.6259514434301439,
          -0.15927071325054273,
          null
         ],
         "y": [
          0.23433890123733436,
          -0.13886244497327638,
          null
         ]
        },
        {
         "hoverinfo": "text",
         "line": {
          "color": "cornflowerblue",
          "width": 0.3
         },
         "mode": "lines",
         "text": [
          "Philostrate--Puck: 1"
         ],
         "type": "scatter",
         "x": [
          0.6259514434301439,
          0.07059506173786403,
          null
         ],
         "y": [
          0.23433890123733436,
          -0.06661571994143042,
          null
         ]
        },
        {
         "hoverinfo": "text",
         "line": {
          "color": "cornflowerblue",
          "width": 0.3
         },
         "mode": "lines",
         "text": [
          "Philostrate--Fairies: 1"
         ],
         "type": "scatter",
         "x": [
          0.6259514434301439,
          0.17165745788607173,
          null
         ],
         "y": [
          0.23433890123733436,
          -0.3929550352209284,
          null
         ]
        },
        {
         "hoverinfo": "text",
         "line": {
          "color": "cornflowerblue",
          "width": 1.0090756983044573
         },
         "mode": "lines",
         "text": [
          "Philostrate--Attendants: 2"
         ],
         "type": "scatter",
         "x": [
          0.6259514434301439,
          0.43106521834255995,
          null
         ],
         "y": [
          0.23433890123733436,
          0.2023266549827444,
          null
         ]
        },
        {
         "hoverinfo": "text",
         "line": {
          "color": "cornflowerblue",
          "width": 3.394112549695428
         },
         "mode": "lines",
         "text": [
          "Quince--Snug: 4"
         ],
         "type": "scatter",
         "x": [
          -0.22615095170979718,
          0.06900925637741061,
          null
         ],
         "y": [
          0.19362017350200453,
          0.18538911742647576,
          null
         ]
        },
        {
         "hoverinfo": "text",
         "line": {
          "color": "cornflowerblue",
          "width": 3.394112549695428
         },
         "mode": "lines",
         "text": [
          "Quince--Bottom: 4"
         ],
         "type": "scatter",
         "x": [
          -0.22615095170979718,
          -0.24710174509713229,
          null
         ],
         "y": [
          0.19362017350200453,
          0.018404076797855995,
          null
         ]
        },
        {
         "hoverinfo": "text",
         "line": {
          "color": "cornflowerblue",
          "width": 3.394112549695428
         },
         "mode": "lines",
         "text": [
          "Quince--Flute: 4"
         ],
         "type": "scatter",
         "x": [
          -0.22615095170979718,
          -0.05028463371276033,
          null
         ],
         "y": [
          0.19362017350200453,
          -0.0037660743791820593,
          null
         ]
        },
        {
         "hoverinfo": "text",
         "line": {
          "color": "cornflowerblue",
          "width": 3.394112549695428
         },
         "mode": "lines",
         "text": [
          "Quince--Snout: 4"
         ],
         "type": "scatter",
         "x": [
          -0.22615095170979718,
          -0.14895027834896346,
          null
         ],
         "y": [
          0.19362017350200453,
          0.31249439468677936,
          null
         ]
        },
        {
         "hoverinfo": "text",
         "line": {
          "color": "cornflowerblue",
          "width": 3.394112549695428
         },
         "mode": "lines",
         "text": [
          "Quince--Starveling: 4"
         ],
         "type": "scatter",
         "x": [
          -0.22615095170979718,
          0.0845232255942181,
          null
         ],
         "y": [
          0.19362017350200453,
          0.33012992045619755,
          null
         ]
        },
        {
         "hoverinfo": "text",
         "line": {
          "color": "cornflowerblue",
          "width": 0.3
         },
         "mode": "lines",
         "text": [
          "Quince--Oberon: 1"
         ],
         "type": "scatter",
         "x": [
          -0.22615095170979718,
          0.10822066593162673,
          null
         ],
         "y": [
          0.19362017350200453,
          -0.2737667475814357,
          null
         ]
        },
        {
         "hoverinfo": "text",
         "line": {
          "color": "cornflowerblue",
          "width": 1.0090756983044573
         },
         "mode": "lines",
         "text": [
          "Quince--Titania: 2"
         ],
         "type": "scatter",
         "x": [
          -0.22615095170979718,
          -0.15927071325054273,
          null
         ],
         "y": [
          0.19362017350200453,
          -0.13886244497327638,
          null
         ]
        },
        {
         "hoverinfo": "text",
         "line": {
          "color": "cornflowerblue",
          "width": 1.0090756983044573
         },
         "mode": "lines",
         "text": [
          "Quince--Puck: 2"
         ],
         "type": "scatter",
         "x": [
          -0.22615095170979718,
          0.07059506173786403,
          null
         ],
         "y": [
          0.19362017350200453,
          -0.06661571994143042,
          null
         ]
        },
        {
         "hoverinfo": "text",
         "line": {
          "color": "cornflowerblue",
          "width": 0.3
         },
         "mode": "lines",
         "text": [
          "Quince--Peaseblossom: 1"
         ],
         "type": "scatter",
         "x": [
          -0.22615095170979718,
          -0.971414761071418,
          null
         ],
         "y": [
          0.19362017350200453,
          0.16391558486553984,
          null
         ]
        },
        {
         "hoverinfo": "text",
         "line": {
          "color": "cornflowerblue",
          "width": 0.3
         },
         "mode": "lines",
         "text": [
          "Quince--Cobweb: 1"
         ],
         "type": "scatter",
         "x": [
          -0.22615095170979718,
          -0.914705816818175,
          null
         ],
         "y": [
          0.19362017350200453,
          0.4032234491850033,
          null
         ]
        },
        {
         "hoverinfo": "text",
         "line": {
          "color": "cornflowerblue",
          "width": 0.3
         },
         "mode": "lines",
         "text": [
          "Quince--Moth: 1"
         ],
         "type": "scatter",
         "x": [
          -0.22615095170979718,
          -0.7537111377564879,
          null
         ],
         "y": [
          0.19362017350200453,
          0.5981985335183796,
          null
         ]
        },
        {
         "hoverinfo": "text",
         "line": {
          "color": "cornflowerblue",
          "width": 0.3
         },
         "mode": "lines",
         "text": [
          "Quince--Mustardseed: 1"
         ],
         "type": "scatter",
         "x": [
          -0.22615095170979718,
          -0.9388150386135996,
          null
         ],
         "y": [
          0.19362017350200453,
          -0.08115204563748338,
          null
         ]
        },
        {
         "hoverinfo": "text",
         "line": {
          "color": "cornflowerblue",
          "width": 0.3
         },
         "mode": "lines",
         "text": [
          "Quince--Fairies: 1"
         ],
         "type": "scatter",
         "x": [
          -0.22615095170979718,
          0.17165745788607173,
          null
         ],
         "y": [
          0.19362017350200453,
          -0.3929550352209284,
          null
         ]
        },
        {
         "hoverinfo": "text",
         "line": {
          "color": "cornflowerblue",
          "width": 0.3
         },
         "mode": "lines",
         "text": [
          "Quince--Attendants: 1"
         ],
         "type": "scatter",
         "x": [
          -0.22615095170979718,
          0.43106521834255995,
          null
         ],
         "y": [
          0.19362017350200453,
          0.2023266549827444,
          null
         ]
        },
        {
         "hoverinfo": "text",
         "line": {
          "color": "cornflowerblue",
          "width": 3.394112549695428
         },
         "mode": "lines",
         "text": [
          "Snug--Bottom: 4"
         ],
         "type": "scatter",
         "x": [
          0.06900925637741061,
          -0.24710174509713229,
          null
         ],
         "y": [
          0.18538911742647576,
          0.018404076797855995,
          null
         ]
        },
        {
         "hoverinfo": "text",
         "line": {
          "color": "cornflowerblue",
          "width": 3.394112549695428
         },
         "mode": "lines",
         "text": [
          "Snug--Flute: 4"
         ],
         "type": "scatter",
         "x": [
          0.06900925637741061,
          -0.05028463371276033,
          null
         ],
         "y": [
          0.18538911742647576,
          -0.0037660743791820593,
          null
         ]
        },
        {
         "hoverinfo": "text",
         "line": {
          "color": "cornflowerblue",
          "width": 3.394112549695428
         },
         "mode": "lines",
         "text": [
          "Snug--Snout: 4"
         ],
         "type": "scatter",
         "x": [
          0.06900925637741061,
          -0.14895027834896346,
          null
         ],
         "y": [
          0.18538911742647576,
          0.31249439468677936,
          null
         ]
        },
        {
         "hoverinfo": "text",
         "line": {
          "color": "cornflowerblue",
          "width": 3.394112549695428
         },
         "mode": "lines",
         "text": [
          "Snug--Starveling: 4"
         ],
         "type": "scatter",
         "x": [
          0.06900925637741061,
          0.0845232255942181,
          null
         ],
         "y": [
          0.18538911742647576,
          0.33012992045619755,
          null
         ]
        },
        {
         "hoverinfo": "text",
         "line": {
          "color": "cornflowerblue",
          "width": 0.3
         },
         "mode": "lines",
         "text": [
          "Snug--Oberon: 1"
         ],
         "type": "scatter",
         "x": [
          0.06900925637741061,
          0.10822066593162673,
          null
         ],
         "y": [
          0.18538911742647576,
          -0.2737667475814357,
          null
         ]
        },
        {
         "hoverinfo": "text",
         "line": {
          "color": "cornflowerblue",
          "width": 1.0090756983044573
         },
         "mode": "lines",
         "text": [
          "Snug--Titania: 2"
         ],
         "type": "scatter",
         "x": [
          0.06900925637741061,
          -0.15927071325054273,
          null
         ],
         "y": [
          0.18538911742647576,
          -0.13886244497327638,
          null
         ]
        },
        {
         "hoverinfo": "text",
         "line": {
          "color": "cornflowerblue",
          "width": 1.0090756983044573
         },
         "mode": "lines",
         "text": [
          "Snug--Puck: 2"
         ],
         "type": "scatter",
         "x": [
          0.06900925637741061,
          0.07059506173786403,
          null
         ],
         "y": [
          0.18538911742647576,
          -0.06661571994143042,
          null
         ]
        },
        {
         "hoverinfo": "text",
         "line": {
          "color": "cornflowerblue",
          "width": 0.3
         },
         "mode": "lines",
         "text": [
          "Snug--Pyramus: 1"
         ],
         "type": "scatter",
         "x": [
          0.06900925637741061,
          -0.1060619629920166,
          null
         ],
         "y": [
          0.18538911742647576,
          0.679551667154969,
          null
         ]
        },
        {
         "hoverinfo": "text",
         "line": {
          "color": "cornflowerblue",
          "width": 0.3
         },
         "mode": "lines",
         "text": [
          "Snug--Thisbe: 1"
         ],
         "type": "scatter",
         "x": [
          0.06900925637741061,
          -0.4950311637701783,
          null
         ],
         "y": [
          0.18538911742647576,
          -0.47717262755482975,
          null
         ]
        },
        {
         "hoverinfo": "text",
         "line": {
          "color": "cornflowerblue",
          "width": 0.3
         },
         "mode": "lines",
         "text": [
          "Snug--Fairies: 1"
         ],
         "type": "scatter",
         "x": [
          0.06900925637741061,
          0.17165745788607173,
          null
         ],
         "y": [
          0.18538911742647576,
          -0.3929550352209284,
          null
         ]
        },
        {
         "hoverinfo": "text",
         "line": {
          "color": "cornflowerblue",
          "width": 0.3
         },
         "mode": "lines",
         "text": [
          "Snug--Attendants: 1"
         ],
         "type": "scatter",
         "x": [
          0.06900925637741061,
          0.43106521834255995,
          null
         ],
         "y": [
          0.18538911742647576,
          0.2023266549827444,
          null
         ]
        },
        {
         "hoverinfo": "text",
         "line": {
          "color": "cornflowerblue",
          "width": 3.394112549695428
         },
         "mode": "lines",
         "text": [
          "Bottom--Flute: 4"
         ],
         "type": "scatter",
         "x": [
          -0.24710174509713229,
          -0.05028463371276033,
          null
         ],
         "y": [
          0.018404076797855995,
          -0.0037660743791820593,
          null
         ]
        },
        {
         "hoverinfo": "text",
         "line": {
          "color": "cornflowerblue",
          "width": 3.394112549695428
         },
         "mode": "lines",
         "text": [
          "Bottom--Snout: 4"
         ],
         "type": "scatter",
         "x": [
          -0.24710174509713229,
          -0.14895027834896346,
          null
         ],
         "y": [
          0.018404076797855995,
          0.31249439468677936,
          null
         ]
        },
        {
         "hoverinfo": "text",
         "line": {
          "color": "cornflowerblue",
          "width": 3.394112549695428
         },
         "mode": "lines",
         "text": [
          "Bottom--Starveling: 4"
         ],
         "type": "scatter",
         "x": [
          -0.24710174509713229,
          0.0845232255942181,
          null
         ],
         "y": [
          0.018404076797855995,
          0.33012992045619755,
          null
         ]
        },
        {
         "hoverinfo": "text",
         "line": {
          "color": "cornflowerblue",
          "width": 0.3
         },
         "mode": "lines",
         "text": [
          "Bottom--Oberon: 1"
         ],
         "type": "scatter",
         "x": [
          -0.24710174509713229,
          0.10822066593162673,
          null
         ],
         "y": [
          0.018404076797855995,
          -0.2737667475814357,
          null
         ]
        },
        {
         "hoverinfo": "text",
         "line": {
          "color": "cornflowerblue",
          "width": 1.0090756983044573
         },
         "mode": "lines",
         "text": [
          "Bottom--Titania: 2"
         ],
         "type": "scatter",
         "x": [
          -0.24710174509713229,
          -0.15927071325054273,
          null
         ],
         "y": [
          0.018404076797855995,
          -0.13886244497327638,
          null
         ]
        },
        {
         "hoverinfo": "text",
         "line": {
          "color": "cornflowerblue",
          "width": 1.0090756983044573
         },
         "mode": "lines",
         "text": [
          "Bottom--Puck: 2"
         ],
         "type": "scatter",
         "x": [
          -0.24710174509713229,
          0.07059506173786403,
          null
         ],
         "y": [
          0.018404076797855995,
          -0.06661571994143042,
          null
         ]
        },
        {
         "hoverinfo": "text",
         "line": {
          "color": "cornflowerblue",
          "width": 0.3
         },
         "mode": "lines",
         "text": [
          "Bottom--Peaseblossom: 1"
         ],
         "type": "scatter",
         "x": [
          -0.24710174509713229,
          -0.971414761071418,
          null
         ],
         "y": [
          0.018404076797855995,
          0.16391558486553984,
          null
         ]
        },
        {
         "hoverinfo": "text",
         "line": {
          "color": "cornflowerblue",
          "width": 0.3
         },
         "mode": "lines",
         "text": [
          "Bottom--Cobweb: 1"
         ],
         "type": "scatter",
         "x": [
          -0.24710174509713229,
          -0.914705816818175,
          null
         ],
         "y": [
          0.018404076797855995,
          0.4032234491850033,
          null
         ]
        },
        {
         "hoverinfo": "text",
         "line": {
          "color": "cornflowerblue",
          "width": 0.3
         },
         "mode": "lines",
         "text": [
          "Bottom--Moth: 1"
         ],
         "type": "scatter",
         "x": [
          -0.24710174509713229,
          -0.7537111377564879,
          null
         ],
         "y": [
          0.018404076797855995,
          0.5981985335183796,
          null
         ]
        },
        {
         "hoverinfo": "text",
         "line": {
          "color": "cornflowerblue",
          "width": 0.3
         },
         "mode": "lines",
         "text": [
          "Bottom--Mustardseed: 1"
         ],
         "type": "scatter",
         "x": [
          -0.24710174509713229,
          -0.9388150386135996,
          null
         ],
         "y": [
          0.018404076797855995,
          -0.08115204563748338,
          null
         ]
        },
        {
         "hoverinfo": "text",
         "line": {
          "color": "cornflowerblue",
          "width": 0.3
         },
         "mode": "lines",
         "text": [
          "Bottom--Pyramus: 1"
         ],
         "type": "scatter",
         "x": [
          -0.24710174509713229,
          -0.1060619629920166,
          null
         ],
         "y": [
          0.018404076797855995,
          0.679551667154969,
          null
         ]
        },
        {
         "hoverinfo": "text",
         "line": {
          "color": "cornflowerblue",
          "width": 0.3
         },
         "mode": "lines",
         "text": [
          "Bottom--Thisbe: 1"
         ],
         "type": "scatter",
         "x": [
          -0.24710174509713229,
          -0.4950311637701783,
          null
         ],
         "y": [
          0.018404076797855995,
          -0.47717262755482975,
          null
         ]
        },
        {
         "hoverinfo": "text",
         "line": {
          "color": "cornflowerblue",
          "width": 0.3
         },
         "mode": "lines",
         "text": [
          "Bottom--Moonshine: 1"
         ],
         "type": "scatter",
         "x": [
          -0.24710174509713229,
          -0.3642120711191797,
          null
         ],
         "y": [
          0.018404076797855995,
          -0.8633110444082471,
          null
         ]
        },
        {
         "hoverinfo": "text",
         "line": {
          "color": "cornflowerblue",
          "width": 0.3
         },
         "mode": "lines",
         "text": [
          "Bottom--Lion: 1"
         ],
         "type": "scatter",
         "x": [
          -0.24710174509713229,
          0.02753658167824062,
          null
         ],
         "y": [
          0.018404076797855995,
          -0.9430757717801774,
          null
         ]
        },
        {
         "hoverinfo": "text",
         "line": {
          "color": "cornflowerblue",
          "width": 0.3
         },
         "mode": "lines",
         "text": [
          "Bottom--Fairies: 1"
         ],
         "type": "scatter",
         "x": [
          -0.24710174509713229,
          0.17165745788607173,
          null
         ],
         "y": [
          0.018404076797855995,
          -0.3929550352209284,
          null
         ]
        },
        {
         "hoverinfo": "text",
         "line": {
          "color": "cornflowerblue",
          "width": 0.3
         },
         "mode": "lines",
         "text": [
          "Bottom--Attendants: 1"
         ],
         "type": "scatter",
         "x": [
          -0.24710174509713229,
          0.43106521834255995,
          null
         ],
         "y": [
          0.018404076797855995,
          0.2023266549827444,
          null
         ]
        },
        {
         "hoverinfo": "text",
         "line": {
          "color": "cornflowerblue",
          "width": 3.394112549695428
         },
         "mode": "lines",
         "text": [
          "Flute--Snout: 4"
         ],
         "type": "scatter",
         "x": [
          -0.05028463371276033,
          -0.14895027834896346,
          null
         ],
         "y": [
          -0.0037660743791820593,
          0.31249439468677936,
          null
         ]
        },
        {
         "hoverinfo": "text",
         "line": {
          "color": "cornflowerblue",
          "width": 3.394112549695428
         },
         "mode": "lines",
         "text": [
          "Flute--Starveling: 4"
         ],
         "type": "scatter",
         "x": [
          -0.05028463371276033,
          0.0845232255942181,
          null
         ],
         "y": [
          -0.0037660743791820593,
          0.33012992045619755,
          null
         ]
        },
        {
         "hoverinfo": "text",
         "line": {
          "color": "cornflowerblue",
          "width": 0.3
         },
         "mode": "lines",
         "text": [
          "Flute--Oberon: 1"
         ],
         "type": "scatter",
         "x": [
          -0.05028463371276033,
          0.10822066593162673,
          null
         ],
         "y": [
          -0.0037660743791820593,
          -0.2737667475814357,
          null
         ]
        },
        {
         "hoverinfo": "text",
         "line": {
          "color": "cornflowerblue",
          "width": 1.0090756983044573
         },
         "mode": "lines",
         "text": [
          "Flute--Titania: 2"
         ],
         "type": "scatter",
         "x": [
          -0.05028463371276033,
          -0.15927071325054273,
          null
         ],
         "y": [
          -0.0037660743791820593,
          -0.13886244497327638,
          null
         ]
        },
        {
         "hoverinfo": "text",
         "line": {
          "color": "cornflowerblue",
          "width": 1.0090756983044573
         },
         "mode": "lines",
         "text": [
          "Flute--Puck: 2"
         ],
         "type": "scatter",
         "x": [
          -0.05028463371276033,
          0.07059506173786403,
          null
         ],
         "y": [
          -0.0037660743791820593,
          -0.06661571994143042,
          null
         ]
        },
        {
         "hoverinfo": "text",
         "line": {
          "color": "cornflowerblue",
          "width": 0.3
         },
         "mode": "lines",
         "text": [
          "Flute--Pyramus: 1"
         ],
         "type": "scatter",
         "x": [
          -0.05028463371276033,
          -0.1060619629920166,
          null
         ],
         "y": [
          -0.0037660743791820593,
          0.679551667154969,
          null
         ]
        },
        {
         "hoverinfo": "text",
         "line": {
          "color": "cornflowerblue",
          "width": 0.3
         },
         "mode": "lines",
         "text": [
          "Flute--Thisbe: 1"
         ],
         "type": "scatter",
         "x": [
          -0.05028463371276033,
          -0.4950311637701783,
          null
         ],
         "y": [
          -0.0037660743791820593,
          -0.47717262755482975,
          null
         ]
        },
        {
         "hoverinfo": "text",
         "line": {
          "color": "cornflowerblue",
          "width": 0.3
         },
         "mode": "lines",
         "text": [
          "Flute--Moonshine: 1"
         ],
         "type": "scatter",
         "x": [
          -0.05028463371276033,
          -0.3642120711191797,
          null
         ],
         "y": [
          -0.0037660743791820593,
          -0.8633110444082471,
          null
         ]
        },
        {
         "hoverinfo": "text",
         "line": {
          "color": "cornflowerblue",
          "width": 0.3
         },
         "mode": "lines",
         "text": [
          "Flute--Lion: 1"
         ],
         "type": "scatter",
         "x": [
          -0.05028463371276033,
          0.02753658167824062,
          null
         ],
         "y": [
          -0.0037660743791820593,
          -0.9430757717801774,
          null
         ]
        },
        {
         "hoverinfo": "text",
         "line": {
          "color": "cornflowerblue",
          "width": 0.3
         },
         "mode": "lines",
         "text": [
          "Flute--Fairies: 1"
         ],
         "type": "scatter",
         "x": [
          -0.05028463371276033,
          0.17165745788607173,
          null
         ],
         "y": [
          -0.0037660743791820593,
          -0.3929550352209284,
          null
         ]
        },
        {
         "hoverinfo": "text",
         "line": {
          "color": "cornflowerblue",
          "width": 0.3
         },
         "mode": "lines",
         "text": [
          "Flute--Attendants: 1"
         ],
         "type": "scatter",
         "x": [
          -0.05028463371276033,
          0.43106521834255995,
          null
         ],
         "y": [
          -0.0037660743791820593,
          0.2023266549827444,
          null
         ]
        },
        {
         "hoverinfo": "text",
         "line": {
          "color": "cornflowerblue",
          "width": 3.394112549695428
         },
         "mode": "lines",
         "text": [
          "Snout--Starveling: 4"
         ],
         "type": "scatter",
         "x": [
          -0.14895027834896346,
          0.0845232255942181,
          null
         ],
         "y": [
          0.31249439468677936,
          0.33012992045619755,
          null
         ]
        },
        {
         "hoverinfo": "text",
         "line": {
          "color": "cornflowerblue",
          "width": 0.3
         },
         "mode": "lines",
         "text": [
          "Snout--Oberon: 1"
         ],
         "type": "scatter",
         "x": [
          -0.14895027834896346,
          0.10822066593162673,
          null
         ],
         "y": [
          0.31249439468677936,
          -0.2737667475814357,
          null
         ]
        },
        {
         "hoverinfo": "text",
         "line": {
          "color": "cornflowerblue",
          "width": 1.0090756983044573
         },
         "mode": "lines",
         "text": [
          "Snout--Titania: 2"
         ],
         "type": "scatter",
         "x": [
          -0.14895027834896346,
          -0.15927071325054273,
          null
         ],
         "y": [
          0.31249439468677936,
          -0.13886244497327638,
          null
         ]
        },
        {
         "hoverinfo": "text",
         "line": {
          "color": "cornflowerblue",
          "width": 1.0090756983044573
         },
         "mode": "lines",
         "text": [
          "Snout--Puck: 2"
         ],
         "type": "scatter",
         "x": [
          -0.14895027834896346,
          0.07059506173786403,
          null
         ],
         "y": [
          0.31249439468677936,
          -0.06661571994143042,
          null
         ]
        },
        {
         "hoverinfo": "text",
         "line": {
          "color": "cornflowerblue",
          "width": 0.3
         },
         "mode": "lines",
         "text": [
          "Snout--Peaseblossom: 1"
         ],
         "type": "scatter",
         "x": [
          -0.14895027834896346,
          -0.971414761071418,
          null
         ],
         "y": [
          0.31249439468677936,
          0.16391558486553984,
          null
         ]
        },
        {
         "hoverinfo": "text",
         "line": {
          "color": "cornflowerblue",
          "width": 0.3
         },
         "mode": "lines",
         "text": [
          "Snout--Cobweb: 1"
         ],
         "type": "scatter",
         "x": [
          -0.14895027834896346,
          -0.914705816818175,
          null
         ],
         "y": [
          0.31249439468677936,
          0.4032234491850033,
          null
         ]
        },
        {
         "hoverinfo": "text",
         "line": {
          "color": "cornflowerblue",
          "width": 0.3
         },
         "mode": "lines",
         "text": [
          "Snout--Moth: 1"
         ],
         "type": "scatter",
         "x": [
          -0.14895027834896346,
          -0.7537111377564879,
          null
         ],
         "y": [
          0.31249439468677936,
          0.5981985335183796,
          null
         ]
        },
        {
         "hoverinfo": "text",
         "line": {
          "color": "cornflowerblue",
          "width": 0.3
         },
         "mode": "lines",
         "text": [
          "Snout--Mustardseed: 1"
         ],
         "type": "scatter",
         "x": [
          -0.14895027834896346,
          -0.9388150386135996,
          null
         ],
         "y": [
          0.31249439468677936,
          -0.08115204563748338,
          null
         ]
        },
        {
         "hoverinfo": "text",
         "line": {
          "color": "cornflowerblue",
          "width": 0.3
         },
         "mode": "lines",
         "text": [
          "Snout--Fairies: 1"
         ],
         "type": "scatter",
         "x": [
          -0.14895027834896346,
          0.17165745788607173,
          null
         ],
         "y": [
          0.31249439468677936,
          -0.3929550352209284,
          null
         ]
        },
        {
         "hoverinfo": "text",
         "line": {
          "color": "cornflowerblue",
          "width": 0.3
         },
         "mode": "lines",
         "text": [
          "Snout--Attendants: 1"
         ],
         "type": "scatter",
         "x": [
          -0.14895027834896346,
          0.43106521834255995,
          null
         ],
         "y": [
          0.31249439468677936,
          0.2023266549827444,
          null
         ]
        },
        {
         "hoverinfo": "text",
         "line": {
          "color": "cornflowerblue",
          "width": 0.3
         },
         "mode": "lines",
         "text": [
          "Starveling--Oberon: 1"
         ],
         "type": "scatter",
         "x": [
          0.0845232255942181,
          0.10822066593162673,
          null
         ],
         "y": [
          0.33012992045619755,
          -0.2737667475814357,
          null
         ]
        },
        {
         "hoverinfo": "text",
         "line": {
          "color": "cornflowerblue",
          "width": 1.0090756983044573
         },
         "mode": "lines",
         "text": [
          "Starveling--Titania: 2"
         ],
         "type": "scatter",
         "x": [
          0.0845232255942181,
          -0.15927071325054273,
          null
         ],
         "y": [
          0.33012992045619755,
          -0.13886244497327638,
          null
         ]
        },
        {
         "hoverinfo": "text",
         "line": {
          "color": "cornflowerblue",
          "width": 1.0090756983044573
         },
         "mode": "lines",
         "text": [
          "Starveling--Puck: 2"
         ],
         "type": "scatter",
         "x": [
          0.0845232255942181,
          0.07059506173786403,
          null
         ],
         "y": [
          0.33012992045619755,
          -0.06661571994143042,
          null
         ]
        },
        {
         "hoverinfo": "text",
         "line": {
          "color": "cornflowerblue",
          "width": 0.3
         },
         "mode": "lines",
         "text": [
          "Starveling--Pyramus: 1"
         ],
         "type": "scatter",
         "x": [
          0.0845232255942181,
          -0.1060619629920166,
          null
         ],
         "y": [
          0.33012992045619755,
          0.679551667154969,
          null
         ]
        },
        {
         "hoverinfo": "text",
         "line": {
          "color": "cornflowerblue",
          "width": 0.3
         },
         "mode": "lines",
         "text": [
          "Starveling--Thisbe: 1"
         ],
         "type": "scatter",
         "x": [
          0.0845232255942181,
          -0.4950311637701783,
          null
         ],
         "y": [
          0.33012992045619755,
          -0.47717262755482975,
          null
         ]
        },
        {
         "hoverinfo": "text",
         "line": {
          "color": "cornflowerblue",
          "width": 0.3
         },
         "mode": "lines",
         "text": [
          "Starveling--Fairies: 1"
         ],
         "type": "scatter",
         "x": [
          0.0845232255942181,
          0.17165745788607173,
          null
         ],
         "y": [
          0.33012992045619755,
          -0.3929550352209284,
          null
         ]
        },
        {
         "hoverinfo": "text",
         "line": {
          "color": "cornflowerblue",
          "width": 0.3
         },
         "mode": "lines",
         "text": [
          "Starveling--Attendants: 1"
         ],
         "type": "scatter",
         "x": [
          0.0845232255942181,
          0.43106521834255995,
          null
         ],
         "y": [
          0.33012992045619755,
          0.2023266549827444,
          null
         ]
        },
        {
         "hoverinfo": "text",
         "line": {
          "color": "cornflowerblue",
          "width": 1.0090756983044573
         },
         "mode": "lines",
         "text": [
          "Oberon--Titania: 2"
         ],
         "type": "scatter",
         "x": [
          0.10822066593162673,
          -0.15927071325054273,
          null
         ],
         "y": [
          -0.2737667475814357,
          -0.13886244497327638,
          null
         ]
        },
        {
         "hoverinfo": "text",
         "line": {
          "color": "cornflowerblue",
          "width": 2.0515563512592996
         },
         "mode": "lines",
         "text": [
          "Oberon--Puck: 3"
         ],
         "type": "scatter",
         "x": [
          0.10822066593162673,
          0.07059506173786403,
          null
         ],
         "y": [
          -0.2737667475814357,
          -0.06661571994143042,
          null
         ]
        },
        {
         "hoverinfo": "text",
         "line": {
          "color": "cornflowerblue",
          "width": 0.3
         },
         "mode": "lines",
         "text": [
          "Oberon--Pyramus: 1"
         ],
         "type": "scatter",
         "x": [
          0.10822066593162673,
          -0.1060619629920166,
          null
         ],
         "y": [
          -0.2737667475814357,
          0.679551667154969,
          null
         ]
        },
        {
         "hoverinfo": "text",
         "line": {
          "color": "cornflowerblue",
          "width": 0.3
         },
         "mode": "lines",
         "text": [
          "Oberon--Thisbe: 1"
         ],
         "type": "scatter",
         "x": [
          0.10822066593162673,
          -0.4950311637701783,
          null
         ],
         "y": [
          -0.2737667475814357,
          -0.47717262755482975,
          null
         ]
        },
        {
         "hoverinfo": "text",
         "line": {
          "color": "cornflowerblue",
          "width": 0.3
         },
         "mode": "lines",
         "text": [
          "Oberon--Moonshine: 1"
         ],
         "type": "scatter",
         "x": [
          0.10822066593162673,
          -0.3642120711191797,
          null
         ],
         "y": [
          -0.2737667475814357,
          -0.8633110444082471,
          null
         ]
        },
        {
         "hoverinfo": "text",
         "line": {
          "color": "cornflowerblue",
          "width": 0.3
         },
         "mode": "lines",
         "text": [
          "Oberon--Lion: 1"
         ],
         "type": "scatter",
         "x": [
          0.10822066593162673,
          0.02753658167824062,
          null
         ],
         "y": [
          -0.2737667475814357,
          -0.9430757717801774,
          null
         ]
        },
        {
         "hoverinfo": "text",
         "line": {
          "color": "cornflowerblue",
          "width": 0.3
         },
         "mode": "lines",
         "text": [
          "Oberon--Fairies: 1"
         ],
         "type": "scatter",
         "x": [
          0.10822066593162673,
          0.17165745788607173,
          null
         ],
         "y": [
          -0.2737667475814357,
          -0.3929550352209284,
          null
         ]
        },
        {
         "hoverinfo": "text",
         "line": {
          "color": "cornflowerblue",
          "width": 0.3
         },
         "mode": "lines",
         "text": [
          "Oberon--Attendants: 1"
         ],
         "type": "scatter",
         "x": [
          0.10822066593162673,
          0.43106521834255995,
          null
         ],
         "y": [
          -0.2737667475814357,
          0.2023266549827444,
          null
         ]
        },
        {
         "hoverinfo": "text",
         "line": {
          "color": "cornflowerblue",
          "width": 2.0515563512592996
         },
         "mode": "lines",
         "text": [
          "Titania--Puck: 3"
         ],
         "type": "scatter",
         "x": [
          -0.15927071325054273,
          0.07059506173786403,
          null
         ],
         "y": [
          -0.13886244497327638,
          -0.06661571994143042,
          null
         ]
        },
        {
         "hoverinfo": "text",
         "line": {
          "color": "cornflowerblue",
          "width": 0.3
         },
         "mode": "lines",
         "text": [
          "Titania--Peaseblossom: 1"
         ],
         "type": "scatter",
         "x": [
          -0.15927071325054273,
          -0.971414761071418,
          null
         ],
         "y": [
          -0.13886244497327638,
          0.16391558486553984,
          null
         ]
        },
        {
         "hoverinfo": "text",
         "line": {
          "color": "cornflowerblue",
          "width": 0.3
         },
         "mode": "lines",
         "text": [
          "Titania--Cobweb: 1"
         ],
         "type": "scatter",
         "x": [
          -0.15927071325054273,
          -0.914705816818175,
          null
         ],
         "y": [
          -0.13886244497327638,
          0.4032234491850033,
          null
         ]
        },
        {
         "hoverinfo": "text",
         "line": {
          "color": "cornflowerblue",
          "width": 0.3
         },
         "mode": "lines",
         "text": [
          "Titania--Moth: 1"
         ],
         "type": "scatter",
         "x": [
          -0.15927071325054273,
          -0.7537111377564879,
          null
         ],
         "y": [
          -0.13886244497327638,
          0.5981985335183796,
          null
         ]
        },
        {
         "hoverinfo": "text",
         "line": {
          "color": "cornflowerblue",
          "width": 0.3
         },
         "mode": "lines",
         "text": [
          "Titania--Mustardseed: 1"
         ],
         "type": "scatter",
         "x": [
          -0.15927071325054273,
          -0.9388150386135996,
          null
         ],
         "y": [
          -0.13886244497327638,
          -0.08115204563748338,
          null
         ]
        },
        {
         "hoverinfo": "text",
         "line": {
          "color": "cornflowerblue",
          "width": 0.3
         },
         "mode": "lines",
         "text": [
          "Titania--Pyramus: 1"
         ],
         "type": "scatter",
         "x": [
          -0.15927071325054273,
          -0.1060619629920166,
          null
         ],
         "y": [
          -0.13886244497327638,
          0.679551667154969,
          null
         ]
        },
        {
         "hoverinfo": "text",
         "line": {
          "color": "cornflowerblue",
          "width": 0.3
         },
         "mode": "lines",
         "text": [
          "Titania--Thisbe: 1"
         ],
         "type": "scatter",
         "x": [
          -0.15927071325054273,
          -0.4950311637701783,
          null
         ],
         "y": [
          -0.13886244497327638,
          -0.47717262755482975,
          null
         ]
        },
        {
         "hoverinfo": "text",
         "line": {
          "color": "cornflowerblue",
          "width": 0.3
         },
         "mode": "lines",
         "text": [
          "Titania--Moonshine: 1"
         ],
         "type": "scatter",
         "x": [
          -0.15927071325054273,
          -0.3642120711191797,
          null
         ],
         "y": [
          -0.13886244497327638,
          -0.8633110444082471,
          null
         ]
        },
        {
         "hoverinfo": "text",
         "line": {
          "color": "cornflowerblue",
          "width": 0.3
         },
         "mode": "lines",
         "text": [
          "Titania--Lion: 1"
         ],
         "type": "scatter",
         "x": [
          -0.15927071325054273,
          0.02753658167824062,
          null
         ],
         "y": [
          -0.13886244497327638,
          -0.9430757717801774,
          null
         ]
        },
        {
         "hoverinfo": "text",
         "line": {
          "color": "cornflowerblue",
          "width": 1.0090756983044573
         },
         "mode": "lines",
         "text": [
          "Titania--Fairies: 2"
         ],
         "type": "scatter",
         "x": [
          -0.15927071325054273,
          0.17165745788607173,
          null
         ],
         "y": [
          -0.13886244497327638,
          -0.3929550352209284,
          null
         ]
        },
        {
         "hoverinfo": "text",
         "line": {
          "color": "cornflowerblue",
          "width": 0.3
         },
         "mode": "lines",
         "text": [
          "Titania--Attendants: 1"
         ],
         "type": "scatter",
         "x": [
          -0.15927071325054273,
          0.43106521834255995,
          null
         ],
         "y": [
          -0.13886244497327638,
          0.2023266549827444,
          null
         ]
        },
        {
         "hoverinfo": "text",
         "line": {
          "color": "cornflowerblue",
          "width": 0.3
         },
         "mode": "lines",
         "text": [
          "Puck--Peaseblossom: 1"
         ],
         "type": "scatter",
         "x": [
          0.07059506173786403,
          -0.971414761071418,
          null
         ],
         "y": [
          -0.06661571994143042,
          0.16391558486553984,
          null
         ]
        },
        {
         "hoverinfo": "text",
         "line": {
          "color": "cornflowerblue",
          "width": 0.3
         },
         "mode": "lines",
         "text": [
          "Puck--Cobweb: 1"
         ],
         "type": "scatter",
         "x": [
          0.07059506173786403,
          -0.914705816818175,
          null
         ],
         "y": [
          -0.06661571994143042,
          0.4032234491850033,
          null
         ]
        },
        {
         "hoverinfo": "text",
         "line": {
          "color": "cornflowerblue",
          "width": 0.3
         },
         "mode": "lines",
         "text": [
          "Puck--Moth: 1"
         ],
         "type": "scatter",
         "x": [
          0.07059506173786403,
          -0.7537111377564879,
          null
         ],
         "y": [
          -0.06661571994143042,
          0.5981985335183796,
          null
         ]
        },
        {
         "hoverinfo": "text",
         "line": {
          "color": "cornflowerblue",
          "width": 0.3
         },
         "mode": "lines",
         "text": [
          "Puck--Mustardseed: 1"
         ],
         "type": "scatter",
         "x": [
          0.07059506173786403,
          -0.9388150386135996,
          null
         ],
         "y": [
          -0.06661571994143042,
          -0.08115204563748338,
          null
         ]
        },
        {
         "hoverinfo": "text",
         "line": {
          "color": "cornflowerblue",
          "width": 0.3
         },
         "mode": "lines",
         "text": [
          "Puck--Pyramus: 1"
         ],
         "type": "scatter",
         "x": [
          0.07059506173786403,
          -0.1060619629920166,
          null
         ],
         "y": [
          -0.06661571994143042,
          0.679551667154969,
          null
         ]
        },
        {
         "hoverinfo": "text",
         "line": {
          "color": "cornflowerblue",
          "width": 0.3
         },
         "mode": "lines",
         "text": [
          "Puck--Thisbe: 1"
         ],
         "type": "scatter",
         "x": [
          0.07059506173786403,
          -0.4950311637701783,
          null
         ],
         "y": [
          -0.06661571994143042,
          -0.47717262755482975,
          null
         ]
        },
        {
         "hoverinfo": "text",
         "line": {
          "color": "cornflowerblue",
          "width": 0.3
         },
         "mode": "lines",
         "text": [
          "Puck--Moonshine: 1"
         ],
         "type": "scatter",
         "x": [
          0.07059506173786403,
          -0.3642120711191797,
          null
         ],
         "y": [
          -0.06661571994143042,
          -0.8633110444082471,
          null
         ]
        },
        {
         "hoverinfo": "text",
         "line": {
          "color": "cornflowerblue",
          "width": 0.3
         },
         "mode": "lines",
         "text": [
          "Puck--Lion: 1"
         ],
         "type": "scatter",
         "x": [
          0.07059506173786403,
          0.02753658167824062,
          null
         ],
         "y": [
          -0.06661571994143042,
          -0.9430757717801774,
          null
         ]
        },
        {
         "hoverinfo": "text",
         "line": {
          "color": "cornflowerblue",
          "width": 1.0090756983044573
         },
         "mode": "lines",
         "text": [
          "Puck--Fairies: 2"
         ],
         "type": "scatter",
         "x": [
          0.07059506173786403,
          0.17165745788607173,
          null
         ],
         "y": [
          -0.06661571994143042,
          -0.3929550352209284,
          null
         ]
        },
        {
         "hoverinfo": "text",
         "line": {
          "color": "cornflowerblue",
          "width": 1.0090756983044573
         },
         "mode": "lines",
         "text": [
          "Puck--Attendants: 2"
         ],
         "type": "scatter",
         "x": [
          0.07059506173786403,
          0.43106521834255995,
          null
         ],
         "y": [
          -0.06661571994143042,
          0.2023266549827444,
          null
         ]
        },
        {
         "hoverinfo": "text",
         "line": {
          "color": "cornflowerblue",
          "width": 0.3
         },
         "mode": "lines",
         "text": [
          "Peaseblossom--Cobweb: 1"
         ],
         "type": "scatter",
         "x": [
          -0.971414761071418,
          -0.914705816818175,
          null
         ],
         "y": [
          0.16391558486553984,
          0.4032234491850033,
          null
         ]
        },
        {
         "hoverinfo": "text",
         "line": {
          "color": "cornflowerblue",
          "width": 0.3
         },
         "mode": "lines",
         "text": [
          "Peaseblossom--Moth: 1"
         ],
         "type": "scatter",
         "x": [
          -0.971414761071418,
          -0.7537111377564879,
          null
         ],
         "y": [
          0.16391558486553984,
          0.5981985335183796,
          null
         ]
        },
        {
         "hoverinfo": "text",
         "line": {
          "color": "cornflowerblue",
          "width": 0.3
         },
         "mode": "lines",
         "text": [
          "Peaseblossom--Mustardseed: 1"
         ],
         "type": "scatter",
         "x": [
          -0.971414761071418,
          -0.9388150386135996,
          null
         ],
         "y": [
          0.16391558486553984,
          -0.08115204563748338,
          null
         ]
        },
        {
         "hoverinfo": "text",
         "line": {
          "color": "cornflowerblue",
          "width": 0.3
         },
         "mode": "lines",
         "text": [
          "Cobweb--Moth: 1"
         ],
         "type": "scatter",
         "x": [
          -0.914705816818175,
          -0.7537111377564879,
          null
         ],
         "y": [
          0.4032234491850033,
          0.5981985335183796,
          null
         ]
        },
        {
         "hoverinfo": "text",
         "line": {
          "color": "cornflowerblue",
          "width": 0.3
         },
         "mode": "lines",
         "text": [
          "Cobweb--Mustardseed: 1"
         ],
         "type": "scatter",
         "x": [
          -0.914705816818175,
          -0.9388150386135996,
          null
         ],
         "y": [
          0.4032234491850033,
          -0.08115204563748338,
          null
         ]
        },
        {
         "hoverinfo": "text",
         "line": {
          "color": "cornflowerblue",
          "width": 0.3
         },
         "mode": "lines",
         "text": [
          "Moth--Mustardseed: 1"
         ],
         "type": "scatter",
         "x": [
          -0.7537111377564879,
          -0.9388150386135996,
          null
         ],
         "y": [
          0.5981985335183796,
          -0.08115204563748338,
          null
         ]
        },
        {
         "hoverinfo": "text",
         "line": {
          "color": "cornflowerblue",
          "width": 0.3
         },
         "mode": "lines",
         "text": [
          "Pyramus--Fairies: 1"
         ],
         "type": "scatter",
         "x": [
          -0.1060619629920166,
          0.17165745788607173,
          null
         ],
         "y": [
          0.679551667154969,
          -0.3929550352209284,
          null
         ]
        },
        {
         "hoverinfo": "text",
         "line": {
          "color": "cornflowerblue",
          "width": 0.3
         },
         "mode": "lines",
         "text": [
          "Thisbe--Fairies: 1"
         ],
         "type": "scatter",
         "x": [
          -0.4950311637701783,
          0.17165745788607173,
          null
         ],
         "y": [
          -0.47717262755482975,
          -0.3929550352209284,
          null
         ]
        },
        {
         "hoverinfo": "text",
         "line": {
          "color": "cornflowerblue",
          "width": 0.3
         },
         "mode": "lines",
         "text": [
          "Moonshine--Fairies: 1"
         ],
         "type": "scatter",
         "x": [
          -0.3642120711191797,
          0.17165745788607173,
          null
         ],
         "y": [
          -0.8633110444082471,
          -0.3929550352209284,
          null
         ]
        },
        {
         "hoverinfo": "text",
         "line": {
          "color": "cornflowerblue",
          "width": 0.3
         },
         "mode": "lines",
         "text": [
          "Lion--Fairies: 1"
         ],
         "type": "scatter",
         "x": [
          0.02753658167824062,
          0.17165745788607173,
          null
         ],
         "y": [
          -0.9430757717801774,
          -0.3929550352209284,
          null
         ]
        },
        {
         "hoverinfo": "text",
         "line": {
          "color": "cornflowerblue",
          "width": 0.3
         },
         "mode": "lines",
         "text": [
          "Fairies--Attendants: 1"
         ],
         "type": "scatter",
         "x": [
          0.17165745788607173,
          0.43106521834255995,
          null
         ],
         "y": [
          -0.3929550352209284,
          0.2023266549827444,
          null
         ]
        },
        {
         "hoverinfo": "none",
         "marker": {
          "color": [
           "cornflowerblue",
           "cornflowerblue",
           "cornflowerblue",
           "cornflowerblue",
           "cornflowerblue",
           "cornflowerblue",
           "cornflowerblue",
           "cornflowerblue",
           "cornflowerblue",
           "cornflowerblue",
           "cornflowerblue",
           "cornflowerblue",
           "cornflowerblue",
           "cornflowerblue",
           "cornflowerblue",
           "cornflowerblue",
           "cornflowerblue",
           "cornflowerblue",
           "cornflowerblue",
           "cornflowerblue",
           "cornflowerblue",
           "cornflowerblue",
           "cornflowerblue",
           "cornflowerblue",
           "cornflowerblue",
           "cornflowerblue",
           "cornflowerblue"
          ],
          "size": [
           15,
           15,
           10,
           25,
           30,
           25,
           30,
           10,
           20,
           20,
           20,
           20,
           20,
           20,
           15,
           15,
           30,
           5,
           5,
           5,
           5,
           5,
           5,
           5,
           5,
           15,
           15
          ]
         },
         "mode": "markers+text",
         "text": [
          "<b>Theseus</b>",
          "<b>Hippolyta</b>",
          "<b>Egeus</b>",
          "<b>Hermia</b>",
          "<b>Helena</b>",
          "<b>Lysander</b>",
          "<b>Demetrius</b>",
          "<b>Philostrate</b>",
          "<b>Quince</b>",
          "<b>Snug</b>",
          "<b>Bottom</b>",
          "<b>Flute</b>",
          "<b>Snout</b>",
          "<b>Starveling</b>",
          "<b>Oberon</b>",
          "<b>Titania</b>",
          "<b>Puck</b>",
          "<b>Peaseblossom</b>",
          "<b>Cobweb</b>",
          "<b>Moth</b>",
          "<b>Mustardseed</b>",
          "<b>Pyramus</b>",
          "<b>Thisbe</b>",
          "<b>Moonshine</b>",
          "<b>Lion</b>",
          "<b>Fairies</b>",
          "<b>Attendants</b>"
         ],
         "textfont": {
          "size": 10
         },
         "textposition": "top center",
         "type": "scatter",
         "x": [
          0.6190289320997386,
          0.47725621366214216,
          1,
          0.3852448998383637,
          0.38737526362418345,
          0.3956544087949181,
          0.5225916452627758,
          0.6259514434301439,
          -0.22615095170979718,
          0.06900925637741061,
          -0.24710174509713229,
          -0.05028463371276033,
          -0.14895027834896346,
          0.0845232255942181,
          0.10822066593162673,
          -0.15927071325054273,
          0.07059506173786403,
          -0.971414761071418,
          -0.914705816818175,
          -0.7537111377564879,
          -0.9388150386135996,
          -0.1060619629920166,
          -0.4950311637701783,
          -0.3642120711191797,
          0.02753658167824062,
          0.17165745788607173,
          0.43106521834255995
         ],
         "y": [
          0.016533175174840712,
          0.3268873301366787,
          0.03673934469118579,
          0.04500407450360561,
          -0.26559632549180684,
          -0.08926375770366206,
          -0.15121880364713625,
          0.23433890123733436,
          0.19362017350200453,
          0.18538911742647576,
          0.018404076797855995,
          -0.0037660743791820593,
          0.31249439468677936,
          0.33012992045619755,
          -0.2737667475814357,
          -0.13886244497327638,
          -0.06661571994143042,
          0.16391558486553984,
          0.4032234491850033,
          0.5981985335183796,
          -0.08115204563748338,
          0.679551667154969,
          -0.47717262755482975,
          -0.8633110444082471,
          -0.9430757717801774,
          -0.3929550352209284,
          0.2023266549827444
         ]
        }
       ],
       "layout": {
        "paper_bgcolor": "rgba(0,0,0,0)",
        "plot_bgcolor": "rgba(0,0,0,0)",
        "showlegend": false,
        "template": {
         "data": {
          "bar": [
           {
            "error_x": {
             "color": "#2a3f5f"
            },
            "error_y": {
             "color": "#2a3f5f"
            },
            "marker": {
             "line": {
              "color": "#E5ECF6",
              "width": 0.5
             },
             "pattern": {
              "fillmode": "overlay",
              "size": 10,
              "solidity": 0.2
             }
            },
            "type": "bar"
           }
          ],
          "barpolar": [
           {
            "marker": {
             "line": {
              "color": "#E5ECF6",
              "width": 0.5
             },
             "pattern": {
              "fillmode": "overlay",
              "size": 10,
              "solidity": 0.2
             }
            },
            "type": "barpolar"
           }
          ],
          "carpet": [
           {
            "aaxis": {
             "endlinecolor": "#2a3f5f",
             "gridcolor": "white",
             "linecolor": "white",
             "minorgridcolor": "white",
             "startlinecolor": "#2a3f5f"
            },
            "baxis": {
             "endlinecolor": "#2a3f5f",
             "gridcolor": "white",
             "linecolor": "white",
             "minorgridcolor": "white",
             "startlinecolor": "#2a3f5f"
            },
            "type": "carpet"
           }
          ],
          "choropleth": [
           {
            "colorbar": {
             "outlinewidth": 0,
             "ticks": ""
            },
            "type": "choropleth"
           }
          ],
          "contour": [
           {
            "colorbar": {
             "outlinewidth": 0,
             "ticks": ""
            },
            "colorscale": [
             [
              0,
              "#0d0887"
             ],
             [
              0.1111111111111111,
              "#46039f"
             ],
             [
              0.2222222222222222,
              "#7201a8"
             ],
             [
              0.3333333333333333,
              "#9c179e"
             ],
             [
              0.4444444444444444,
              "#bd3786"
             ],
             [
              0.5555555555555556,
              "#d8576b"
             ],
             [
              0.6666666666666666,
              "#ed7953"
             ],
             [
              0.7777777777777778,
              "#fb9f3a"
             ],
             [
              0.8888888888888888,
              "#fdca26"
             ],
             [
              1,
              "#f0f921"
             ]
            ],
            "type": "contour"
           }
          ],
          "contourcarpet": [
           {
            "colorbar": {
             "outlinewidth": 0,
             "ticks": ""
            },
            "type": "contourcarpet"
           }
          ],
          "heatmap": [
           {
            "colorbar": {
             "outlinewidth": 0,
             "ticks": ""
            },
            "colorscale": [
             [
              0,
              "#0d0887"
             ],
             [
              0.1111111111111111,
              "#46039f"
             ],
             [
              0.2222222222222222,
              "#7201a8"
             ],
             [
              0.3333333333333333,
              "#9c179e"
             ],
             [
              0.4444444444444444,
              "#bd3786"
             ],
             [
              0.5555555555555556,
              "#d8576b"
             ],
             [
              0.6666666666666666,
              "#ed7953"
             ],
             [
              0.7777777777777778,
              "#fb9f3a"
             ],
             [
              0.8888888888888888,
              "#fdca26"
             ],
             [
              1,
              "#f0f921"
             ]
            ],
            "type": "heatmap"
           }
          ],
          "heatmapgl": [
           {
            "colorbar": {
             "outlinewidth": 0,
             "ticks": ""
            },
            "colorscale": [
             [
              0,
              "#0d0887"
             ],
             [
              0.1111111111111111,
              "#46039f"
             ],
             [
              0.2222222222222222,
              "#7201a8"
             ],
             [
              0.3333333333333333,
              "#9c179e"
             ],
             [
              0.4444444444444444,
              "#bd3786"
             ],
             [
              0.5555555555555556,
              "#d8576b"
             ],
             [
              0.6666666666666666,
              "#ed7953"
             ],
             [
              0.7777777777777778,
              "#fb9f3a"
             ],
             [
              0.8888888888888888,
              "#fdca26"
             ],
             [
              1,
              "#f0f921"
             ]
            ],
            "type": "heatmapgl"
           }
          ],
          "histogram": [
           {
            "marker": {
             "pattern": {
              "fillmode": "overlay",
              "size": 10,
              "solidity": 0.2
             }
            },
            "type": "histogram"
           }
          ],
          "histogram2d": [
           {
            "colorbar": {
             "outlinewidth": 0,
             "ticks": ""
            },
            "colorscale": [
             [
              0,
              "#0d0887"
             ],
             [
              0.1111111111111111,
              "#46039f"
             ],
             [
              0.2222222222222222,
              "#7201a8"
             ],
             [
              0.3333333333333333,
              "#9c179e"
             ],
             [
              0.4444444444444444,
              "#bd3786"
             ],
             [
              0.5555555555555556,
              "#d8576b"
             ],
             [
              0.6666666666666666,
              "#ed7953"
             ],
             [
              0.7777777777777778,
              "#fb9f3a"
             ],
             [
              0.8888888888888888,
              "#fdca26"
             ],
             [
              1,
              "#f0f921"
             ]
            ],
            "type": "histogram2d"
           }
          ],
          "histogram2dcontour": [
           {
            "colorbar": {
             "outlinewidth": 0,
             "ticks": ""
            },
            "colorscale": [
             [
              0,
              "#0d0887"
             ],
             [
              0.1111111111111111,
              "#46039f"
             ],
             [
              0.2222222222222222,
              "#7201a8"
             ],
             [
              0.3333333333333333,
              "#9c179e"
             ],
             [
              0.4444444444444444,
              "#bd3786"
             ],
             [
              0.5555555555555556,
              "#d8576b"
             ],
             [
              0.6666666666666666,
              "#ed7953"
             ],
             [
              0.7777777777777778,
              "#fb9f3a"
             ],
             [
              0.8888888888888888,
              "#fdca26"
             ],
             [
              1,
              "#f0f921"
             ]
            ],
            "type": "histogram2dcontour"
           }
          ],
          "mesh3d": [
           {
            "colorbar": {
             "outlinewidth": 0,
             "ticks": ""
            },
            "type": "mesh3d"
           }
          ],
          "parcoords": [
           {
            "line": {
             "colorbar": {
              "outlinewidth": 0,
              "ticks": ""
             }
            },
            "type": "parcoords"
           }
          ],
          "pie": [
           {
            "automargin": true,
            "type": "pie"
           }
          ],
          "scatter": [
           {
            "marker": {
             "colorbar": {
              "outlinewidth": 0,
              "ticks": ""
             }
            },
            "type": "scatter"
           }
          ],
          "scatter3d": [
           {
            "line": {
             "colorbar": {
              "outlinewidth": 0,
              "ticks": ""
             }
            },
            "marker": {
             "colorbar": {
              "outlinewidth": 0,
              "ticks": ""
             }
            },
            "type": "scatter3d"
           }
          ],
          "scattercarpet": [
           {
            "marker": {
             "colorbar": {
              "outlinewidth": 0,
              "ticks": ""
             }
            },
            "type": "scattercarpet"
           }
          ],
          "scattergeo": [
           {
            "marker": {
             "colorbar": {
              "outlinewidth": 0,
              "ticks": ""
             }
            },
            "type": "scattergeo"
           }
          ],
          "scattergl": [
           {
            "marker": {
             "colorbar": {
              "outlinewidth": 0,
              "ticks": ""
             }
            },
            "type": "scattergl"
           }
          ],
          "scattermapbox": [
           {
            "marker": {
             "colorbar": {
              "outlinewidth": 0,
              "ticks": ""
             }
            },
            "type": "scattermapbox"
           }
          ],
          "scatterpolar": [
           {
            "marker": {
             "colorbar": {
              "outlinewidth": 0,
              "ticks": ""
             }
            },
            "type": "scatterpolar"
           }
          ],
          "scatterpolargl": [
           {
            "marker": {
             "colorbar": {
              "outlinewidth": 0,
              "ticks": ""
             }
            },
            "type": "scatterpolargl"
           }
          ],
          "scatterternary": [
           {
            "marker": {
             "colorbar": {
              "outlinewidth": 0,
              "ticks": ""
             }
            },
            "type": "scatterternary"
           }
          ],
          "surface": [
           {
            "colorbar": {
             "outlinewidth": 0,
             "ticks": ""
            },
            "colorscale": [
             [
              0,
              "#0d0887"
             ],
             [
              0.1111111111111111,
              "#46039f"
             ],
             [
              0.2222222222222222,
              "#7201a8"
             ],
             [
              0.3333333333333333,
              "#9c179e"
             ],
             [
              0.4444444444444444,
              "#bd3786"
             ],
             [
              0.5555555555555556,
              "#d8576b"
             ],
             [
              0.6666666666666666,
              "#ed7953"
             ],
             [
              0.7777777777777778,
              "#fb9f3a"
             ],
             [
              0.8888888888888888,
              "#fdca26"
             ],
             [
              1,
              "#f0f921"
             ]
            ],
            "type": "surface"
           }
          ],
          "table": [
           {
            "cells": {
             "fill": {
              "color": "#EBF0F8"
             },
             "line": {
              "color": "white"
             }
            },
            "header": {
             "fill": {
              "color": "#C8D4E3"
             },
             "line": {
              "color": "white"
             }
            },
            "type": "table"
           }
          ]
         },
         "layout": {
          "annotationdefaults": {
           "arrowcolor": "#2a3f5f",
           "arrowhead": 0,
           "arrowwidth": 1
          },
          "autotypenumbers": "strict",
          "coloraxis": {
           "colorbar": {
            "outlinewidth": 0,
            "ticks": ""
           }
          },
          "colorscale": {
           "diverging": [
            [
             0,
             "#8e0152"
            ],
            [
             0.1,
             "#c51b7d"
            ],
            [
             0.2,
             "#de77ae"
            ],
            [
             0.3,
             "#f1b6da"
            ],
            [
             0.4,
             "#fde0ef"
            ],
            [
             0.5,
             "#f7f7f7"
            ],
            [
             0.6,
             "#e6f5d0"
            ],
            [
             0.7,
             "#b8e186"
            ],
            [
             0.8,
             "#7fbc41"
            ],
            [
             0.9,
             "#4d9221"
            ],
            [
             1,
             "#276419"
            ]
           ],
           "sequential": [
            [
             0,
             "#0d0887"
            ],
            [
             0.1111111111111111,
             "#46039f"
            ],
            [
             0.2222222222222222,
             "#7201a8"
            ],
            [
             0.3333333333333333,
             "#9c179e"
            ],
            [
             0.4444444444444444,
             "#bd3786"
            ],
            [
             0.5555555555555556,
             "#d8576b"
            ],
            [
             0.6666666666666666,
             "#ed7953"
            ],
            [
             0.7777777777777778,
             "#fb9f3a"
            ],
            [
             0.8888888888888888,
             "#fdca26"
            ],
            [
             1,
             "#f0f921"
            ]
           ],
           "sequentialminus": [
            [
             0,
             "#0d0887"
            ],
            [
             0.1111111111111111,
             "#46039f"
            ],
            [
             0.2222222222222222,
             "#7201a8"
            ],
            [
             0.3333333333333333,
             "#9c179e"
            ],
            [
             0.4444444444444444,
             "#bd3786"
            ],
            [
             0.5555555555555556,
             "#d8576b"
            ],
            [
             0.6666666666666666,
             "#ed7953"
            ],
            [
             0.7777777777777778,
             "#fb9f3a"
            ],
            [
             0.8888888888888888,
             "#fdca26"
            ],
            [
             1,
             "#f0f921"
            ]
           ]
          },
          "colorway": [
           "#636efa",
           "#EF553B",
           "#00cc96",
           "#ab63fa",
           "#FFA15A",
           "#19d3f3",
           "#FF6692",
           "#B6E880",
           "#FF97FF",
           "#FECB52"
          ],
          "font": {
           "color": "#2a3f5f"
          },
          "geo": {
           "bgcolor": "white",
           "lakecolor": "white",
           "landcolor": "#E5ECF6",
           "showlakes": true,
           "showland": true,
           "subunitcolor": "white"
          },
          "hoverlabel": {
           "align": "left"
          },
          "hovermode": "closest",
          "mapbox": {
           "style": "light"
          },
          "paper_bgcolor": "white",
          "plot_bgcolor": "#E5ECF6",
          "polar": {
           "angularaxis": {
            "gridcolor": "white",
            "linecolor": "white",
            "ticks": ""
           },
           "bgcolor": "#E5ECF6",
           "radialaxis": {
            "gridcolor": "white",
            "linecolor": "white",
            "ticks": ""
           }
          },
          "scene": {
           "xaxis": {
            "backgroundcolor": "#E5ECF6",
            "gridcolor": "white",
            "gridwidth": 2,
            "linecolor": "white",
            "showbackground": true,
            "ticks": "",
            "zerolinecolor": "white"
           },
           "yaxis": {
            "backgroundcolor": "#E5ECF6",
            "gridcolor": "white",
            "gridwidth": 2,
            "linecolor": "white",
            "showbackground": true,
            "ticks": "",
            "zerolinecolor": "white"
           },
           "zaxis": {
            "backgroundcolor": "#E5ECF6",
            "gridcolor": "white",
            "gridwidth": 2,
            "linecolor": "white",
            "showbackground": true,
            "ticks": "",
            "zerolinecolor": "white"
           }
          },
          "shapedefaults": {
           "line": {
            "color": "#2a3f5f"
           }
          },
          "ternary": {
           "aaxis": {
            "gridcolor": "white",
            "linecolor": "white",
            "ticks": ""
           },
           "baxis": {
            "gridcolor": "white",
            "linecolor": "white",
            "ticks": ""
           },
           "bgcolor": "#E5ECF6",
           "caxis": {
            "gridcolor": "white",
            "linecolor": "white",
            "ticks": ""
           }
          },
          "title": {
           "x": 0.05
          },
          "xaxis": {
           "automargin": true,
           "gridcolor": "white",
           "linecolor": "white",
           "ticks": "",
           "title": {
            "standoff": 15
           },
           "zerolinecolor": "white",
           "zerolinewidth": 2
          },
          "yaxis": {
           "automargin": true,
           "gridcolor": "white",
           "linecolor": "white",
           "ticks": "",
           "title": {
            "standoff": 15
           },
           "zerolinecolor": "white",
           "zerolinewidth": 2
          }
         }
        },
        "xaxis": {
         "showticklabels": false
        },
        "yaxis": {
         "showticklabels": false
        }
       }
      },
      "text/html": [
       "<div>                            <div id=\"421bb1b3-3b03-41c8-8534-5b1deac986f3\" class=\"plotly-graph-div\" style=\"height:525px; width:100%;\"></div>            <script type=\"text/javascript\">                require([\"plotly\"], function(Plotly) {                    window.PLOTLYENV=window.PLOTLYENV || {};                                    if (document.getElementById(\"421bb1b3-3b03-41c8-8534-5b1deac986f3\")) {                    Plotly.newPlot(                        \"421bb1b3-3b03-41c8-8534-5b1deac986f3\",                        [{\"hoverinfo\":\"text\",\"line\":{\"color\":\"cornflowerblue\",\"width\":2.0515563512592996},\"mode\":\"lines\",\"text\":[\"Theseus--Hippolyta: 3\"],\"x\":[0.6190289320997386,0.47725621366214216,null],\"y\":[0.016533175174840712,0.3268873301366787,null],\"type\":\"scatter\"},{\"hoverinfo\":\"text\",\"line\":{\"color\":\"cornflowerblue\",\"width\":1.0090756983044573},\"mode\":\"lines\",\"text\":[\"Theseus--Egeus: 2\"],\"x\":[0.6190289320997386,1.0,null],\"y\":[0.016533175174840712,0.03673934469118579,null],\"type\":\"scatter\"},{\"hoverinfo\":\"text\",\"line\":{\"color\":\"cornflowerblue\",\"width\":2.0515563512592996},\"mode\":\"lines\",\"text\":[\"Theseus--Hermia: 3\"],\"x\":[0.6190289320997386,0.3852448998383637,null],\"y\":[0.016533175174840712,0.04500407450360561,null],\"type\":\"scatter\"},{\"hoverinfo\":\"text\",\"line\":{\"color\":\"cornflowerblue\",\"width\":1.0090756983044573},\"mode\":\"lines\",\"text\":[\"Theseus--Helena: 2\"],\"x\":[0.6190289320997386,0.38737526362418345,null],\"y\":[0.016533175174840712,-0.26559632549180684,null],\"type\":\"scatter\"},{\"hoverinfo\":\"text\",\"line\":{\"color\":\"cornflowerblue\",\"width\":2.0515563512592996},\"mode\":\"lines\",\"text\":[\"Theseus--Lysander: 3\"],\"x\":[0.6190289320997386,0.3956544087949181,null],\"y\":[0.016533175174840712,-0.08926375770366206,null],\"type\":\"scatter\"},{\"hoverinfo\":\"text\",\"line\":{\"color\":\"cornflowerblue\",\"width\":2.0515563512592996},\"mode\":\"lines\",\"text\":[\"Theseus--Demetrius: 3\"],\"x\":[0.6190289320997386,0.5225916452627758,null],\"y\":[0.016533175174840712,-0.15121880364713625,null],\"type\":\"scatter\"},{\"hoverinfo\":\"text\",\"line\":{\"color\":\"cornflowerblue\",\"width\":1.0090756983044573},\"mode\":\"lines\",\"text\":[\"Theseus--Philostrate: 2\"],\"x\":[0.6190289320997386,0.6259514434301439,null],\"y\":[0.016533175174840712,0.23433890123733436,null],\"type\":\"scatter\"},{\"hoverinfo\":\"text\",\"line\":{\"color\":\"cornflowerblue\",\"width\":0.3},\"mode\":\"lines\",\"text\":[\"Theseus--Quince: 1\"],\"x\":[0.6190289320997386,-0.22615095170979718,null],\"y\":[0.016533175174840712,0.19362017350200453,null],\"type\":\"scatter\"},{\"hoverinfo\":\"text\",\"line\":{\"color\":\"cornflowerblue\",\"width\":0.3},\"mode\":\"lines\",\"text\":[\"Theseus--Snug: 1\"],\"x\":[0.6190289320997386,0.06900925637741061,null],\"y\":[0.016533175174840712,0.18538911742647576,null],\"type\":\"scatter\"},{\"hoverinfo\":\"text\",\"line\":{\"color\":\"cornflowerblue\",\"width\":0.3},\"mode\":\"lines\",\"text\":[\"Theseus--Bottom: 1\"],\"x\":[0.6190289320997386,-0.24710174509713229,null],\"y\":[0.016533175174840712,0.018404076797855995,null],\"type\":\"scatter\"},{\"hoverinfo\":\"text\",\"line\":{\"color\":\"cornflowerblue\",\"width\":0.3},\"mode\":\"lines\",\"text\":[\"Theseus--Flute: 1\"],\"x\":[0.6190289320997386,-0.05028463371276033,null],\"y\":[0.016533175174840712,-0.0037660743791820593,null],\"type\":\"scatter\"},{\"hoverinfo\":\"text\",\"line\":{\"color\":\"cornflowerblue\",\"width\":0.3},\"mode\":\"lines\",\"text\":[\"Theseus--Snout: 1\"],\"x\":[0.6190289320997386,-0.14895027834896346,null],\"y\":[0.016533175174840712,0.31249439468677936,null],\"type\":\"scatter\"},{\"hoverinfo\":\"text\",\"line\":{\"color\":\"cornflowerblue\",\"width\":0.3},\"mode\":\"lines\",\"text\":[\"Theseus--Starveling: 1\"],\"x\":[0.6190289320997386,0.0845232255942181,null],\"y\":[0.016533175174840712,0.33012992045619755,null],\"type\":\"scatter\"},{\"hoverinfo\":\"text\",\"line\":{\"color\":\"cornflowerblue\",\"width\":0.3},\"mode\":\"lines\",\"text\":[\"Theseus--Oberon: 1\"],\"x\":[0.6190289320997386,0.10822066593162673,null],\"y\":[0.016533175174840712,-0.2737667475814357,null],\"type\":\"scatter\"},{\"hoverinfo\":\"text\",\"line\":{\"color\":\"cornflowerblue\",\"width\":0.3},\"mode\":\"lines\",\"text\":[\"Theseus--Titania: 1\"],\"x\":[0.6190289320997386,-0.15927071325054273,null],\"y\":[0.016533175174840712,-0.13886244497327638,null],\"type\":\"scatter\"},{\"hoverinfo\":\"text\",\"line\":{\"color\":\"cornflowerblue\",\"width\":1.0090756983044573},\"mode\":\"lines\",\"text\":[\"Theseus--Puck: 2\"],\"x\":[0.6190289320997386,0.07059506173786403,null],\"y\":[0.016533175174840712,-0.06661571994143042,null],\"type\":\"scatter\"},{\"hoverinfo\":\"text\",\"line\":{\"color\":\"cornflowerblue\",\"width\":0.3},\"mode\":\"lines\",\"text\":[\"Theseus--Fairies: 1\"],\"x\":[0.6190289320997386,0.17165745788607173,null],\"y\":[0.016533175174840712,-0.3929550352209284,null],\"type\":\"scatter\"},{\"hoverinfo\":\"text\",\"line\":{\"color\":\"cornflowerblue\",\"width\":2.0515563512592996},\"mode\":\"lines\",\"text\":[\"Theseus--Attendants: 3\"],\"x\":[0.6190289320997386,0.43106521834255995,null],\"y\":[0.016533175174840712,0.2023266549827444,null],\"type\":\"scatter\"},{\"hoverinfo\":\"text\",\"line\":{\"color\":\"cornflowerblue\",\"width\":1.0090756983044573},\"mode\":\"lines\",\"text\":[\"Hippolyta--Egeus: 2\"],\"x\":[0.47725621366214216,1.0,null],\"y\":[0.3268873301366787,0.03673934469118579,null],\"type\":\"scatter\"},{\"hoverinfo\":\"text\",\"line\":{\"color\":\"cornflowerblue\",\"width\":2.0515563512592996},\"mode\":\"lines\",\"text\":[\"Hippolyta--Hermia: 3\"],\"x\":[0.47725621366214216,0.3852448998383637,null],\"y\":[0.3268873301366787,0.04500407450360561,null],\"type\":\"scatter\"},{\"hoverinfo\":\"text\",\"line\":{\"color\":\"cornflowerblue\",\"width\":1.0090756983044573},\"mode\":\"lines\",\"text\":[\"Hippolyta--Helena: 2\"],\"x\":[0.47725621366214216,0.38737526362418345,null],\"y\":[0.3268873301366787,-0.26559632549180684,null],\"type\":\"scatter\"},{\"hoverinfo\":\"text\",\"line\":{\"color\":\"cornflowerblue\",\"width\":2.0515563512592996},\"mode\":\"lines\",\"text\":[\"Hippolyta--Lysander: 3\"],\"x\":[0.47725621366214216,0.3956544087949181,null],\"y\":[0.3268873301366787,-0.08926375770366206,null],\"type\":\"scatter\"},{\"hoverinfo\":\"text\",\"line\":{\"color\":\"cornflowerblue\",\"width\":2.0515563512592996},\"mode\":\"lines\",\"text\":[\"Hippolyta--Demetrius: 3\"],\"x\":[0.47725621366214216,0.5225916452627758,null],\"y\":[0.3268873301366787,-0.15121880364713625,null],\"type\":\"scatter\"},{\"hoverinfo\":\"text\",\"line\":{\"color\":\"cornflowerblue\",\"width\":1.0090756983044573},\"mode\":\"lines\",\"text\":[\"Hippolyta--Philostrate: 2\"],\"x\":[0.47725621366214216,0.6259514434301439,null],\"y\":[0.3268873301366787,0.23433890123733436,null],\"type\":\"scatter\"},{\"hoverinfo\":\"text\",\"line\":{\"color\":\"cornflowerblue\",\"width\":0.3},\"mode\":\"lines\",\"text\":[\"Hippolyta--Quince: 1\"],\"x\":[0.47725621366214216,-0.22615095170979718,null],\"y\":[0.3268873301366787,0.19362017350200453,null],\"type\":\"scatter\"},{\"hoverinfo\":\"text\",\"line\":{\"color\":\"cornflowerblue\",\"width\":0.3},\"mode\":\"lines\",\"text\":[\"Hippolyta--Snug: 1\"],\"x\":[0.47725621366214216,0.06900925637741061,null],\"y\":[0.3268873301366787,0.18538911742647576,null],\"type\":\"scatter\"},{\"hoverinfo\":\"text\",\"line\":{\"color\":\"cornflowerblue\",\"width\":0.3},\"mode\":\"lines\",\"text\":[\"Hippolyta--Bottom: 1\"],\"x\":[0.47725621366214216,-0.24710174509713229,null],\"y\":[0.3268873301366787,0.018404076797855995,null],\"type\":\"scatter\"},{\"hoverinfo\":\"text\",\"line\":{\"color\":\"cornflowerblue\",\"width\":0.3},\"mode\":\"lines\",\"text\":[\"Hippolyta--Flute: 1\"],\"x\":[0.47725621366214216,-0.05028463371276033,null],\"y\":[0.3268873301366787,-0.0037660743791820593,null],\"type\":\"scatter\"},{\"hoverinfo\":\"text\",\"line\":{\"color\":\"cornflowerblue\",\"width\":0.3},\"mode\":\"lines\",\"text\":[\"Hippolyta--Snout: 1\"],\"x\":[0.47725621366214216,-0.14895027834896346,null],\"y\":[0.3268873301366787,0.31249439468677936,null],\"type\":\"scatter\"},{\"hoverinfo\":\"text\",\"line\":{\"color\":\"cornflowerblue\",\"width\":0.3},\"mode\":\"lines\",\"text\":[\"Hippolyta--Starveling: 1\"],\"x\":[0.47725621366214216,0.0845232255942181,null],\"y\":[0.3268873301366787,0.33012992045619755,null],\"type\":\"scatter\"},{\"hoverinfo\":\"text\",\"line\":{\"color\":\"cornflowerblue\",\"width\":0.3},\"mode\":\"lines\",\"text\":[\"Hippolyta--Oberon: 1\"],\"x\":[0.47725621366214216,0.10822066593162673,null],\"y\":[0.3268873301366787,-0.2737667475814357,null],\"type\":\"scatter\"},{\"hoverinfo\":\"text\",\"line\":{\"color\":\"cornflowerblue\",\"width\":0.3},\"mode\":\"lines\",\"text\":[\"Hippolyta--Titania: 1\"],\"x\":[0.47725621366214216,-0.15927071325054273,null],\"y\":[0.3268873301366787,-0.13886244497327638,null],\"type\":\"scatter\"},{\"hoverinfo\":\"text\",\"line\":{\"color\":\"cornflowerblue\",\"width\":1.0090756983044573},\"mode\":\"lines\",\"text\":[\"Hippolyta--Puck: 2\"],\"x\":[0.47725621366214216,0.07059506173786403,null],\"y\":[0.3268873301366787,-0.06661571994143042,null],\"type\":\"scatter\"},{\"hoverinfo\":\"text\",\"line\":{\"color\":\"cornflowerblue\",\"width\":0.3},\"mode\":\"lines\",\"text\":[\"Hippolyta--Fairies: 1\"],\"x\":[0.47725621366214216,0.17165745788607173,null],\"y\":[0.3268873301366787,-0.3929550352209284,null],\"type\":\"scatter\"},{\"hoverinfo\":\"text\",\"line\":{\"color\":\"cornflowerblue\",\"width\":2.0515563512592996},\"mode\":\"lines\",\"text\":[\"Hippolyta--Attendants: 3\"],\"x\":[0.47725621366214216,0.43106521834255995,null],\"y\":[0.3268873301366787,0.2023266549827444,null],\"type\":\"scatter\"},{\"hoverinfo\":\"text\",\"line\":{\"color\":\"cornflowerblue\",\"width\":1.0090756983044573},\"mode\":\"lines\",\"text\":[\"Egeus--Hermia: 2\"],\"x\":[1.0,0.3852448998383637,null],\"y\":[0.03673934469118579,0.04500407450360561,null],\"type\":\"scatter\"},{\"hoverinfo\":\"text\",\"line\":{\"color\":\"cornflowerblue\",\"width\":0.3},\"mode\":\"lines\",\"text\":[\"Egeus--Helena: 1\"],\"x\":[1.0,0.38737526362418345,null],\"y\":[0.03673934469118579,-0.26559632549180684,null],\"type\":\"scatter\"},{\"hoverinfo\":\"text\",\"line\":{\"color\":\"cornflowerblue\",\"width\":1.0090756983044573},\"mode\":\"lines\",\"text\":[\"Egeus--Lysander: 2\"],\"x\":[1.0,0.3956544087949181,null],\"y\":[0.03673934469118579,-0.08926375770366206,null],\"type\":\"scatter\"},{\"hoverinfo\":\"text\",\"line\":{\"color\":\"cornflowerblue\",\"width\":1.0090756983044573},\"mode\":\"lines\",\"text\":[\"Egeus--Demetrius: 2\"],\"x\":[1.0,0.5225916452627758,null],\"y\":[0.03673934469118579,-0.15121880364713625,null],\"type\":\"scatter\"},{\"hoverinfo\":\"text\",\"line\":{\"color\":\"cornflowerblue\",\"width\":0.3},\"mode\":\"lines\",\"text\":[\"Egeus--Philostrate: 1\"],\"x\":[1.0,0.6259514434301439,null],\"y\":[0.03673934469118579,0.23433890123733436,null],\"type\":\"scatter\"},{\"hoverinfo\":\"text\",\"line\":{\"color\":\"cornflowerblue\",\"width\":0.3},\"mode\":\"lines\",\"text\":[\"Egeus--Puck: 1\"],\"x\":[1.0,0.07059506173786403,null],\"y\":[0.03673934469118579,-0.06661571994143042,null],\"type\":\"scatter\"},{\"hoverinfo\":\"text\",\"line\":{\"color\":\"cornflowerblue\",\"width\":1.0090756983044573},\"mode\":\"lines\",\"text\":[\"Egeus--Attendants: 2\"],\"x\":[1.0,0.43106521834255995,null],\"y\":[0.03673934469118579,0.2023266549827444,null],\"type\":\"scatter\"},{\"hoverinfo\":\"text\",\"line\":{\"color\":\"cornflowerblue\",\"width\":5.015552287323165},\"mode\":\"lines\",\"text\":[\"Hermia--Helena: 5\"],\"x\":[0.3852448998383637,0.38737526362418345,null],\"y\":[0.04500407450360561,-0.26559632549180684,null],\"type\":\"scatter\"},{\"hoverinfo\":\"text\",\"line\":{\"color\":\"cornflowerblue\",\"width\":5.015552287323165},\"mode\":\"lines\",\"text\":[\"Hermia--Lysander: 5\"],\"x\":[0.3852448998383637,0.3956544087949181,null],\"y\":[0.04500407450360561,-0.08926375770366206,null],\"type\":\"scatter\"},{\"hoverinfo\":\"text\",\"line\":{\"color\":\"cornflowerblue\",\"width\":5.015552287323165},\"mode\":\"lines\",\"text\":[\"Hermia--Demetrius: 5\"],\"x\":[0.3852448998383637,0.5225916452627758,null],\"y\":[0.04500407450360561,-0.15121880364713625,null],\"type\":\"scatter\"},{\"hoverinfo\":\"text\",\"line\":{\"color\":\"cornflowerblue\",\"width\":1.0090756983044573},\"mode\":\"lines\",\"text\":[\"Hermia--Philostrate: 2\"],\"x\":[0.3852448998383637,0.6259514434301439,null],\"y\":[0.04500407450360561,0.23433890123733436,null],\"type\":\"scatter\"},{\"hoverinfo\":\"text\",\"line\":{\"color\":\"cornflowerblue\",\"width\":0.3},\"mode\":\"lines\",\"text\":[\"Hermia--Quince: 1\"],\"x\":[0.3852448998383637,-0.22615095170979718,null],\"y\":[0.04500407450360561,0.19362017350200453,null],\"type\":\"scatter\"},{\"hoverinfo\":\"text\",\"line\":{\"color\":\"cornflowerblue\",\"width\":0.3},\"mode\":\"lines\",\"text\":[\"Hermia--Snug: 1\"],\"x\":[0.3852448998383637,0.06900925637741061,null],\"y\":[0.04500407450360561,0.18538911742647576,null],\"type\":\"scatter\"},{\"hoverinfo\":\"text\",\"line\":{\"color\":\"cornflowerblue\",\"width\":0.3},\"mode\":\"lines\",\"text\":[\"Hermia--Bottom: 1\"],\"x\":[0.3852448998383637,-0.24710174509713229,null],\"y\":[0.04500407450360561,0.018404076797855995,null],\"type\":\"scatter\"},{\"hoverinfo\":\"text\",\"line\":{\"color\":\"cornflowerblue\",\"width\":0.3},\"mode\":\"lines\",\"text\":[\"Hermia--Flute: 1\"],\"x\":[0.3852448998383637,-0.05028463371276033,null],\"y\":[0.04500407450360561,-0.0037660743791820593,null],\"type\":\"scatter\"},{\"hoverinfo\":\"text\",\"line\":{\"color\":\"cornflowerblue\",\"width\":0.3},\"mode\":\"lines\",\"text\":[\"Hermia--Snout: 1\"],\"x\":[0.3852448998383637,-0.14895027834896346,null],\"y\":[0.04500407450360561,0.31249439468677936,null],\"type\":\"scatter\"},{\"hoverinfo\":\"text\",\"line\":{\"color\":\"cornflowerblue\",\"width\":0.3},\"mode\":\"lines\",\"text\":[\"Hermia--Starveling: 1\"],\"x\":[0.3852448998383637,0.0845232255942181,null],\"y\":[0.04500407450360561,0.33012992045619755,null],\"type\":\"scatter\"},{\"hoverinfo\":\"text\",\"line\":{\"color\":\"cornflowerblue\",\"width\":2.0515563512592996},\"mode\":\"lines\",\"text\":[\"Hermia--Oberon: 3\"],\"x\":[0.3852448998383637,0.10822066593162673,null],\"y\":[0.04500407450360561,-0.2737667475814357,null],\"type\":\"scatter\"},{\"hoverinfo\":\"text\",\"line\":{\"color\":\"cornflowerblue\",\"width\":1.0090756983044573},\"mode\":\"lines\",\"text\":[\"Hermia--Titania: 2\"],\"x\":[0.3852448998383637,-0.15927071325054273,null],\"y\":[0.04500407450360561,-0.13886244497327638,null],\"type\":\"scatter\"},{\"hoverinfo\":\"text\",\"line\":{\"color\":\"cornflowerblue\",\"width\":3.394112549695428},\"mode\":\"lines\",\"text\":[\"Hermia--Puck: 4\"],\"x\":[0.3852448998383637,0.07059506173786403,null],\"y\":[0.04500407450360561,-0.06661571994143042,null],\"type\":\"scatter\"},{\"hoverinfo\":\"text\",\"line\":{\"color\":\"cornflowerblue\",\"width\":0.3},\"mode\":\"lines\",\"text\":[\"Hermia--Fairies: 1\"],\"x\":[0.3852448998383637,0.17165745788607173,null],\"y\":[0.04500407450360561,-0.3929550352209284,null],\"type\":\"scatter\"},{\"hoverinfo\":\"text\",\"line\":{\"color\":\"cornflowerblue\",\"width\":2.0515563512592996},\"mode\":\"lines\",\"text\":[\"Hermia--Attendants: 3\"],\"x\":[0.3852448998383637,0.43106521834255995,null],\"y\":[0.04500407450360561,0.2023266549827444,null],\"type\":\"scatter\"},{\"hoverinfo\":\"text\",\"line\":{\"color\":\"cornflowerblue\",\"width\":5.015552287323165},\"mode\":\"lines\",\"text\":[\"Helena--Lysander: 5\"],\"x\":[0.38737526362418345,0.3956544087949181,null],\"y\":[-0.26559632549180684,-0.08926375770366206,null],\"type\":\"scatter\"},{\"hoverinfo\":\"text\",\"line\":{\"color\":\"cornflowerblue\",\"width\":5.015552287323165},\"mode\":\"lines\",\"text\":[\"Helena--Demetrius: 5\"],\"x\":[0.38737526362418345,0.5225916452627758,null],\"y\":[-0.26559632549180684,-0.15121880364713625,null],\"type\":\"scatter\"},{\"hoverinfo\":\"text\",\"line\":{\"color\":\"cornflowerblue\",\"width\":0.3},\"mode\":\"lines\",\"text\":[\"Helena--Philostrate: 1\"],\"x\":[0.38737526362418345,0.6259514434301439,null],\"y\":[-0.26559632549180684,0.23433890123733436,null],\"type\":\"scatter\"},{\"hoverinfo\":\"text\",\"line\":{\"color\":\"cornflowerblue\",\"width\":0.3},\"mode\":\"lines\",\"text\":[\"Helena--Quince: 1\"],\"x\":[0.38737526362418345,-0.22615095170979718,null],\"y\":[-0.26559632549180684,0.19362017350200453,null],\"type\":\"scatter\"},{\"hoverinfo\":\"text\",\"line\":{\"color\":\"cornflowerblue\",\"width\":0.3},\"mode\":\"lines\",\"text\":[\"Helena--Snug: 1\"],\"x\":[0.38737526362418345,0.06900925637741061,null],\"y\":[-0.26559632549180684,0.18538911742647576,null],\"type\":\"scatter\"},{\"hoverinfo\":\"text\",\"line\":{\"color\":\"cornflowerblue\",\"width\":0.3},\"mode\":\"lines\",\"text\":[\"Helena--Bottom: 1\"],\"x\":[0.38737526362418345,-0.24710174509713229,null],\"y\":[-0.26559632549180684,0.018404076797855995,null],\"type\":\"scatter\"},{\"hoverinfo\":\"text\",\"line\":{\"color\":\"cornflowerblue\",\"width\":0.3},\"mode\":\"lines\",\"text\":[\"Helena--Flute: 1\"],\"x\":[0.38737526362418345,-0.05028463371276033,null],\"y\":[-0.26559632549180684,-0.0037660743791820593,null],\"type\":\"scatter\"},{\"hoverinfo\":\"text\",\"line\":{\"color\":\"cornflowerblue\",\"width\":0.3},\"mode\":\"lines\",\"text\":[\"Helena--Snout: 1\"],\"x\":[0.38737526362418345,-0.14895027834896346,null],\"y\":[-0.26559632549180684,0.31249439468677936,null],\"type\":\"scatter\"},{\"hoverinfo\":\"text\",\"line\":{\"color\":\"cornflowerblue\",\"width\":0.3},\"mode\":\"lines\",\"text\":[\"Helena--Starveling: 1\"],\"x\":[0.38737526362418345,0.0845232255942181,null],\"y\":[-0.26559632549180684,0.33012992045619755,null],\"type\":\"scatter\"},{\"hoverinfo\":\"text\",\"line\":{\"color\":\"cornflowerblue\",\"width\":2.0515563512592996},\"mode\":\"lines\",\"text\":[\"Helena--Oberon: 3\"],\"x\":[0.38737526362418345,0.10822066593162673,null],\"y\":[-0.26559632549180684,-0.2737667475814357,null],\"type\":\"scatter\"},{\"hoverinfo\":\"text\",\"line\":{\"color\":\"cornflowerblue\",\"width\":1.0090756983044573},\"mode\":\"lines\",\"text\":[\"Helena--Titania: 2\"],\"x\":[0.38737526362418345,-0.15927071325054273,null],\"y\":[-0.26559632549180684,-0.13886244497327638,null],\"type\":\"scatter\"},{\"hoverinfo\":\"text\",\"line\":{\"color\":\"cornflowerblue\",\"width\":5.015552287323165},\"mode\":\"lines\",\"text\":[\"Helena--Puck: 5\"],\"x\":[0.38737526362418345,0.07059506173786403,null],\"y\":[-0.26559632549180684,-0.06661571994143042,null],\"type\":\"scatter\"},{\"hoverinfo\":\"text\",\"line\":{\"color\":\"cornflowerblue\",\"width\":1.0090756983044573},\"mode\":\"lines\",\"text\":[\"Helena--Fairies: 2\"],\"x\":[0.38737526362418345,0.17165745788607173,null],\"y\":[-0.26559632549180684,-0.3929550352209284,null],\"type\":\"scatter\"},{\"hoverinfo\":\"text\",\"line\":{\"color\":\"cornflowerblue\",\"width\":1.0090756983044573},\"mode\":\"lines\",\"text\":[\"Helena--Attendants: 2\"],\"x\":[0.38737526362418345,0.43106521834255995,null],\"y\":[-0.26559632549180684,0.2023266549827444,null],\"type\":\"scatter\"},{\"hoverinfo\":\"text\",\"line\":{\"color\":\"cornflowerblue\",\"width\":5.015552287323165},\"mode\":\"lines\",\"text\":[\"Lysander--Demetrius: 5\"],\"x\":[0.3956544087949181,0.5225916452627758,null],\"y\":[-0.08926375770366206,-0.15121880364713625,null],\"type\":\"scatter\"},{\"hoverinfo\":\"text\",\"line\":{\"color\":\"cornflowerblue\",\"width\":1.0090756983044573},\"mode\":\"lines\",\"text\":[\"Lysander--Philostrate: 2\"],\"x\":[0.3956544087949181,0.6259514434301439,null],\"y\":[-0.08926375770366206,0.23433890123733436,null],\"type\":\"scatter\"},{\"hoverinfo\":\"text\",\"line\":{\"color\":\"cornflowerblue\",\"width\":0.3},\"mode\":\"lines\",\"text\":[\"Lysander--Quince: 1\"],\"x\":[0.3956544087949181,-0.22615095170979718,null],\"y\":[-0.08926375770366206,0.19362017350200453,null],\"type\":\"scatter\"},{\"hoverinfo\":\"text\",\"line\":{\"color\":\"cornflowerblue\",\"width\":0.3},\"mode\":\"lines\",\"text\":[\"Lysander--Snug: 1\"],\"x\":[0.3956544087949181,0.06900925637741061,null],\"y\":[-0.08926375770366206,0.18538911742647576,null],\"type\":\"scatter\"},{\"hoverinfo\":\"text\",\"line\":{\"color\":\"cornflowerblue\",\"width\":0.3},\"mode\":\"lines\",\"text\":[\"Lysander--Bottom: 1\"],\"x\":[0.3956544087949181,-0.24710174509713229,null],\"y\":[-0.08926375770366206,0.018404076797855995,null],\"type\":\"scatter\"},{\"hoverinfo\":\"text\",\"line\":{\"color\":\"cornflowerblue\",\"width\":0.3},\"mode\":\"lines\",\"text\":[\"Lysander--Flute: 1\"],\"x\":[0.3956544087949181,-0.05028463371276033,null],\"y\":[-0.08926375770366206,-0.0037660743791820593,null],\"type\":\"scatter\"},{\"hoverinfo\":\"text\",\"line\":{\"color\":\"cornflowerblue\",\"width\":0.3},\"mode\":\"lines\",\"text\":[\"Lysander--Snout: 1\"],\"x\":[0.3956544087949181,-0.14895027834896346,null],\"y\":[-0.08926375770366206,0.31249439468677936,null],\"type\":\"scatter\"},{\"hoverinfo\":\"text\",\"line\":{\"color\":\"cornflowerblue\",\"width\":0.3},\"mode\":\"lines\",\"text\":[\"Lysander--Starveling: 1\"],\"x\":[0.3956544087949181,0.0845232255942181,null],\"y\":[-0.08926375770366206,0.33012992045619755,null],\"type\":\"scatter\"},{\"hoverinfo\":\"text\",\"line\":{\"color\":\"cornflowerblue\",\"width\":2.0515563512592996},\"mode\":\"lines\",\"text\":[\"Lysander--Oberon: 3\"],\"x\":[0.3956544087949181,0.10822066593162673,null],\"y\":[-0.08926375770366206,-0.2737667475814357,null],\"type\":\"scatter\"},{\"hoverinfo\":\"text\",\"line\":{\"color\":\"cornflowerblue\",\"width\":1.0090756983044573},\"mode\":\"lines\",\"text\":[\"Lysander--Titania: 2\"],\"x\":[0.3956544087949181,-0.15927071325054273,null],\"y\":[-0.08926375770366206,-0.13886244497327638,null],\"type\":\"scatter\"},{\"hoverinfo\":\"text\",\"line\":{\"color\":\"cornflowerblue\",\"width\":3.394112549695428},\"mode\":\"lines\",\"text\":[\"Lysander--Puck: 4\"],\"x\":[0.3956544087949181,0.07059506173786403,null],\"y\":[-0.08926375770366206,-0.06661571994143042,null],\"type\":\"scatter\"},{\"hoverinfo\":\"text\",\"line\":{\"color\":\"cornflowerblue\",\"width\":0.3},\"mode\":\"lines\",\"text\":[\"Lysander--Fairies: 1\"],\"x\":[0.3956544087949181,0.17165745788607173,null],\"y\":[-0.08926375770366206,-0.3929550352209284,null],\"type\":\"scatter\"},{\"hoverinfo\":\"text\",\"line\":{\"color\":\"cornflowerblue\",\"width\":2.0515563512592996},\"mode\":\"lines\",\"text\":[\"Lysander--Attendants: 3\"],\"x\":[0.3956544087949181,0.43106521834255995,null],\"y\":[-0.08926375770366206,0.2023266549827444,null],\"type\":\"scatter\"},{\"hoverinfo\":\"text\",\"line\":{\"color\":\"cornflowerblue\",\"width\":1.0090756983044573},\"mode\":\"lines\",\"text\":[\"Demetrius--Philostrate: 2\"],\"x\":[0.5225916452627758,0.6259514434301439,null],\"y\":[-0.15121880364713625,0.23433890123733436,null],\"type\":\"scatter\"},{\"hoverinfo\":\"text\",\"line\":{\"color\":\"cornflowerblue\",\"width\":0.3},\"mode\":\"lines\",\"text\":[\"Demetrius--Quince: 1\"],\"x\":[0.5225916452627758,-0.22615095170979718,null],\"y\":[-0.15121880364713625,0.19362017350200453,null],\"type\":\"scatter\"},{\"hoverinfo\":\"text\",\"line\":{\"color\":\"cornflowerblue\",\"width\":0.3},\"mode\":\"lines\",\"text\":[\"Demetrius--Snug: 1\"],\"x\":[0.5225916452627758,0.06900925637741061,null],\"y\":[-0.15121880364713625,0.18538911742647576,null],\"type\":\"scatter\"},{\"hoverinfo\":\"text\",\"line\":{\"color\":\"cornflowerblue\",\"width\":0.3},\"mode\":\"lines\",\"text\":[\"Demetrius--Bottom: 1\"],\"x\":[0.5225916452627758,-0.24710174509713229,null],\"y\":[-0.15121880364713625,0.018404076797855995,null],\"type\":\"scatter\"},{\"hoverinfo\":\"text\",\"line\":{\"color\":\"cornflowerblue\",\"width\":0.3},\"mode\":\"lines\",\"text\":[\"Demetrius--Flute: 1\"],\"x\":[0.5225916452627758,-0.05028463371276033,null],\"y\":[-0.15121880364713625,-0.0037660743791820593,null],\"type\":\"scatter\"},{\"hoverinfo\":\"text\",\"line\":{\"color\":\"cornflowerblue\",\"width\":0.3},\"mode\":\"lines\",\"text\":[\"Demetrius--Snout: 1\"],\"x\":[0.5225916452627758,-0.14895027834896346,null],\"y\":[-0.15121880364713625,0.31249439468677936,null],\"type\":\"scatter\"},{\"hoverinfo\":\"text\",\"line\":{\"color\":\"cornflowerblue\",\"width\":0.3},\"mode\":\"lines\",\"text\":[\"Demetrius--Starveling: 1\"],\"x\":[0.5225916452627758,0.0845232255942181,null],\"y\":[-0.15121880364713625,0.33012992045619755,null],\"type\":\"scatter\"},{\"hoverinfo\":\"text\",\"line\":{\"color\":\"cornflowerblue\",\"width\":2.0515563512592996},\"mode\":\"lines\",\"text\":[\"Demetrius--Oberon: 3\"],\"x\":[0.5225916452627758,0.10822066593162673,null],\"y\":[-0.15121880364713625,-0.2737667475814357,null],\"type\":\"scatter\"},{\"hoverinfo\":\"text\",\"line\":{\"color\":\"cornflowerblue\",\"width\":1.0090756983044573},\"mode\":\"lines\",\"text\":[\"Demetrius--Titania: 2\"],\"x\":[0.5225916452627758,-0.15927071325054273,null],\"y\":[-0.15121880364713625,-0.13886244497327638,null],\"type\":\"scatter\"},{\"hoverinfo\":\"text\",\"line\":{\"color\":\"cornflowerblue\",\"width\":5.015552287323165},\"mode\":\"lines\",\"text\":[\"Demetrius--Puck: 5\"],\"x\":[0.5225916452627758,0.07059506173786403,null],\"y\":[-0.15121880364713625,-0.06661571994143042,null],\"type\":\"scatter\"},{\"hoverinfo\":\"text\",\"line\":{\"color\":\"cornflowerblue\",\"width\":1.0090756983044573},\"mode\":\"lines\",\"text\":[\"Demetrius--Fairies: 2\"],\"x\":[0.5225916452627758,0.17165745788607173,null],\"y\":[-0.15121880364713625,-0.3929550352209284,null],\"type\":\"scatter\"},{\"hoverinfo\":\"text\",\"line\":{\"color\":\"cornflowerblue\",\"width\":2.0515563512592996},\"mode\":\"lines\",\"text\":[\"Demetrius--Attendants: 3\"],\"x\":[0.5225916452627758,0.43106521834255995,null],\"y\":[-0.15121880364713625,0.2023266549827444,null],\"type\":\"scatter\"},{\"hoverinfo\":\"text\",\"line\":{\"color\":\"cornflowerblue\",\"width\":0.3},\"mode\":\"lines\",\"text\":[\"Philostrate--Quince: 1\"],\"x\":[0.6259514434301439,-0.22615095170979718,null],\"y\":[0.23433890123733436,0.19362017350200453,null],\"type\":\"scatter\"},{\"hoverinfo\":\"text\",\"line\":{\"color\":\"cornflowerblue\",\"width\":0.3},\"mode\":\"lines\",\"text\":[\"Philostrate--Snug: 1\"],\"x\":[0.6259514434301439,0.06900925637741061,null],\"y\":[0.23433890123733436,0.18538911742647576,null],\"type\":\"scatter\"},{\"hoverinfo\":\"text\",\"line\":{\"color\":\"cornflowerblue\",\"width\":0.3},\"mode\":\"lines\",\"text\":[\"Philostrate--Bottom: 1\"],\"x\":[0.6259514434301439,-0.24710174509713229,null],\"y\":[0.23433890123733436,0.018404076797855995,null],\"type\":\"scatter\"},{\"hoverinfo\":\"text\",\"line\":{\"color\":\"cornflowerblue\",\"width\":0.3},\"mode\":\"lines\",\"text\":[\"Philostrate--Flute: 1\"],\"x\":[0.6259514434301439,-0.05028463371276033,null],\"y\":[0.23433890123733436,-0.0037660743791820593,null],\"type\":\"scatter\"},{\"hoverinfo\":\"text\",\"line\":{\"color\":\"cornflowerblue\",\"width\":0.3},\"mode\":\"lines\",\"text\":[\"Philostrate--Snout: 1\"],\"x\":[0.6259514434301439,-0.14895027834896346,null],\"y\":[0.23433890123733436,0.31249439468677936,null],\"type\":\"scatter\"},{\"hoverinfo\":\"text\",\"line\":{\"color\":\"cornflowerblue\",\"width\":0.3},\"mode\":\"lines\",\"text\":[\"Philostrate--Starveling: 1\"],\"x\":[0.6259514434301439,0.0845232255942181,null],\"y\":[0.23433890123733436,0.33012992045619755,null],\"type\":\"scatter\"},{\"hoverinfo\":\"text\",\"line\":{\"color\":\"cornflowerblue\",\"width\":0.3},\"mode\":\"lines\",\"text\":[\"Philostrate--Oberon: 1\"],\"x\":[0.6259514434301439,0.10822066593162673,null],\"y\":[0.23433890123733436,-0.2737667475814357,null],\"type\":\"scatter\"},{\"hoverinfo\":\"text\",\"line\":{\"color\":\"cornflowerblue\",\"width\":0.3},\"mode\":\"lines\",\"text\":[\"Philostrate--Titania: 1\"],\"x\":[0.6259514434301439,-0.15927071325054273,null],\"y\":[0.23433890123733436,-0.13886244497327638,null],\"type\":\"scatter\"},{\"hoverinfo\":\"text\",\"line\":{\"color\":\"cornflowerblue\",\"width\":0.3},\"mode\":\"lines\",\"text\":[\"Philostrate--Puck: 1\"],\"x\":[0.6259514434301439,0.07059506173786403,null],\"y\":[0.23433890123733436,-0.06661571994143042,null],\"type\":\"scatter\"},{\"hoverinfo\":\"text\",\"line\":{\"color\":\"cornflowerblue\",\"width\":0.3},\"mode\":\"lines\",\"text\":[\"Philostrate--Fairies: 1\"],\"x\":[0.6259514434301439,0.17165745788607173,null],\"y\":[0.23433890123733436,-0.3929550352209284,null],\"type\":\"scatter\"},{\"hoverinfo\":\"text\",\"line\":{\"color\":\"cornflowerblue\",\"width\":1.0090756983044573},\"mode\":\"lines\",\"text\":[\"Philostrate--Attendants: 2\"],\"x\":[0.6259514434301439,0.43106521834255995,null],\"y\":[0.23433890123733436,0.2023266549827444,null],\"type\":\"scatter\"},{\"hoverinfo\":\"text\",\"line\":{\"color\":\"cornflowerblue\",\"width\":3.394112549695428},\"mode\":\"lines\",\"text\":[\"Quince--Snug: 4\"],\"x\":[-0.22615095170979718,0.06900925637741061,null],\"y\":[0.19362017350200453,0.18538911742647576,null],\"type\":\"scatter\"},{\"hoverinfo\":\"text\",\"line\":{\"color\":\"cornflowerblue\",\"width\":3.394112549695428},\"mode\":\"lines\",\"text\":[\"Quince--Bottom: 4\"],\"x\":[-0.22615095170979718,-0.24710174509713229,null],\"y\":[0.19362017350200453,0.018404076797855995,null],\"type\":\"scatter\"},{\"hoverinfo\":\"text\",\"line\":{\"color\":\"cornflowerblue\",\"width\":3.394112549695428},\"mode\":\"lines\",\"text\":[\"Quince--Flute: 4\"],\"x\":[-0.22615095170979718,-0.05028463371276033,null],\"y\":[0.19362017350200453,-0.0037660743791820593,null],\"type\":\"scatter\"},{\"hoverinfo\":\"text\",\"line\":{\"color\":\"cornflowerblue\",\"width\":3.394112549695428},\"mode\":\"lines\",\"text\":[\"Quince--Snout: 4\"],\"x\":[-0.22615095170979718,-0.14895027834896346,null],\"y\":[0.19362017350200453,0.31249439468677936,null],\"type\":\"scatter\"},{\"hoverinfo\":\"text\",\"line\":{\"color\":\"cornflowerblue\",\"width\":3.394112549695428},\"mode\":\"lines\",\"text\":[\"Quince--Starveling: 4\"],\"x\":[-0.22615095170979718,0.0845232255942181,null],\"y\":[0.19362017350200453,0.33012992045619755,null],\"type\":\"scatter\"},{\"hoverinfo\":\"text\",\"line\":{\"color\":\"cornflowerblue\",\"width\":0.3},\"mode\":\"lines\",\"text\":[\"Quince--Oberon: 1\"],\"x\":[-0.22615095170979718,0.10822066593162673,null],\"y\":[0.19362017350200453,-0.2737667475814357,null],\"type\":\"scatter\"},{\"hoverinfo\":\"text\",\"line\":{\"color\":\"cornflowerblue\",\"width\":1.0090756983044573},\"mode\":\"lines\",\"text\":[\"Quince--Titania: 2\"],\"x\":[-0.22615095170979718,-0.15927071325054273,null],\"y\":[0.19362017350200453,-0.13886244497327638,null],\"type\":\"scatter\"},{\"hoverinfo\":\"text\",\"line\":{\"color\":\"cornflowerblue\",\"width\":1.0090756983044573},\"mode\":\"lines\",\"text\":[\"Quince--Puck: 2\"],\"x\":[-0.22615095170979718,0.07059506173786403,null],\"y\":[0.19362017350200453,-0.06661571994143042,null],\"type\":\"scatter\"},{\"hoverinfo\":\"text\",\"line\":{\"color\":\"cornflowerblue\",\"width\":0.3},\"mode\":\"lines\",\"text\":[\"Quince--Peaseblossom: 1\"],\"x\":[-0.22615095170979718,-0.971414761071418,null],\"y\":[0.19362017350200453,0.16391558486553984,null],\"type\":\"scatter\"},{\"hoverinfo\":\"text\",\"line\":{\"color\":\"cornflowerblue\",\"width\":0.3},\"mode\":\"lines\",\"text\":[\"Quince--Cobweb: 1\"],\"x\":[-0.22615095170979718,-0.914705816818175,null],\"y\":[0.19362017350200453,0.4032234491850033,null],\"type\":\"scatter\"},{\"hoverinfo\":\"text\",\"line\":{\"color\":\"cornflowerblue\",\"width\":0.3},\"mode\":\"lines\",\"text\":[\"Quince--Moth: 1\"],\"x\":[-0.22615095170979718,-0.7537111377564879,null],\"y\":[0.19362017350200453,0.5981985335183796,null],\"type\":\"scatter\"},{\"hoverinfo\":\"text\",\"line\":{\"color\":\"cornflowerblue\",\"width\":0.3},\"mode\":\"lines\",\"text\":[\"Quince--Mustardseed: 1\"],\"x\":[-0.22615095170979718,-0.9388150386135996,null],\"y\":[0.19362017350200453,-0.08115204563748338,null],\"type\":\"scatter\"},{\"hoverinfo\":\"text\",\"line\":{\"color\":\"cornflowerblue\",\"width\":0.3},\"mode\":\"lines\",\"text\":[\"Quince--Fairies: 1\"],\"x\":[-0.22615095170979718,0.17165745788607173,null],\"y\":[0.19362017350200453,-0.3929550352209284,null],\"type\":\"scatter\"},{\"hoverinfo\":\"text\",\"line\":{\"color\":\"cornflowerblue\",\"width\":0.3},\"mode\":\"lines\",\"text\":[\"Quince--Attendants: 1\"],\"x\":[-0.22615095170979718,0.43106521834255995,null],\"y\":[0.19362017350200453,0.2023266549827444,null],\"type\":\"scatter\"},{\"hoverinfo\":\"text\",\"line\":{\"color\":\"cornflowerblue\",\"width\":3.394112549695428},\"mode\":\"lines\",\"text\":[\"Snug--Bottom: 4\"],\"x\":[0.06900925637741061,-0.24710174509713229,null],\"y\":[0.18538911742647576,0.018404076797855995,null],\"type\":\"scatter\"},{\"hoverinfo\":\"text\",\"line\":{\"color\":\"cornflowerblue\",\"width\":3.394112549695428},\"mode\":\"lines\",\"text\":[\"Snug--Flute: 4\"],\"x\":[0.06900925637741061,-0.05028463371276033,null],\"y\":[0.18538911742647576,-0.0037660743791820593,null],\"type\":\"scatter\"},{\"hoverinfo\":\"text\",\"line\":{\"color\":\"cornflowerblue\",\"width\":3.394112549695428},\"mode\":\"lines\",\"text\":[\"Snug--Snout: 4\"],\"x\":[0.06900925637741061,-0.14895027834896346,null],\"y\":[0.18538911742647576,0.31249439468677936,null],\"type\":\"scatter\"},{\"hoverinfo\":\"text\",\"line\":{\"color\":\"cornflowerblue\",\"width\":3.394112549695428},\"mode\":\"lines\",\"text\":[\"Snug--Starveling: 4\"],\"x\":[0.06900925637741061,0.0845232255942181,null],\"y\":[0.18538911742647576,0.33012992045619755,null],\"type\":\"scatter\"},{\"hoverinfo\":\"text\",\"line\":{\"color\":\"cornflowerblue\",\"width\":0.3},\"mode\":\"lines\",\"text\":[\"Snug--Oberon: 1\"],\"x\":[0.06900925637741061,0.10822066593162673,null],\"y\":[0.18538911742647576,-0.2737667475814357,null],\"type\":\"scatter\"},{\"hoverinfo\":\"text\",\"line\":{\"color\":\"cornflowerblue\",\"width\":1.0090756983044573},\"mode\":\"lines\",\"text\":[\"Snug--Titania: 2\"],\"x\":[0.06900925637741061,-0.15927071325054273,null],\"y\":[0.18538911742647576,-0.13886244497327638,null],\"type\":\"scatter\"},{\"hoverinfo\":\"text\",\"line\":{\"color\":\"cornflowerblue\",\"width\":1.0090756983044573},\"mode\":\"lines\",\"text\":[\"Snug--Puck: 2\"],\"x\":[0.06900925637741061,0.07059506173786403,null],\"y\":[0.18538911742647576,-0.06661571994143042,null],\"type\":\"scatter\"},{\"hoverinfo\":\"text\",\"line\":{\"color\":\"cornflowerblue\",\"width\":0.3},\"mode\":\"lines\",\"text\":[\"Snug--Pyramus: 1\"],\"x\":[0.06900925637741061,-0.1060619629920166,null],\"y\":[0.18538911742647576,0.679551667154969,null],\"type\":\"scatter\"},{\"hoverinfo\":\"text\",\"line\":{\"color\":\"cornflowerblue\",\"width\":0.3},\"mode\":\"lines\",\"text\":[\"Snug--Thisbe: 1\"],\"x\":[0.06900925637741061,-0.4950311637701783,null],\"y\":[0.18538911742647576,-0.47717262755482975,null],\"type\":\"scatter\"},{\"hoverinfo\":\"text\",\"line\":{\"color\":\"cornflowerblue\",\"width\":0.3},\"mode\":\"lines\",\"text\":[\"Snug--Fairies: 1\"],\"x\":[0.06900925637741061,0.17165745788607173,null],\"y\":[0.18538911742647576,-0.3929550352209284,null],\"type\":\"scatter\"},{\"hoverinfo\":\"text\",\"line\":{\"color\":\"cornflowerblue\",\"width\":0.3},\"mode\":\"lines\",\"text\":[\"Snug--Attendants: 1\"],\"x\":[0.06900925637741061,0.43106521834255995,null],\"y\":[0.18538911742647576,0.2023266549827444,null],\"type\":\"scatter\"},{\"hoverinfo\":\"text\",\"line\":{\"color\":\"cornflowerblue\",\"width\":3.394112549695428},\"mode\":\"lines\",\"text\":[\"Bottom--Flute: 4\"],\"x\":[-0.24710174509713229,-0.05028463371276033,null],\"y\":[0.018404076797855995,-0.0037660743791820593,null],\"type\":\"scatter\"},{\"hoverinfo\":\"text\",\"line\":{\"color\":\"cornflowerblue\",\"width\":3.394112549695428},\"mode\":\"lines\",\"text\":[\"Bottom--Snout: 4\"],\"x\":[-0.24710174509713229,-0.14895027834896346,null],\"y\":[0.018404076797855995,0.31249439468677936,null],\"type\":\"scatter\"},{\"hoverinfo\":\"text\",\"line\":{\"color\":\"cornflowerblue\",\"width\":3.394112549695428},\"mode\":\"lines\",\"text\":[\"Bottom--Starveling: 4\"],\"x\":[-0.24710174509713229,0.0845232255942181,null],\"y\":[0.018404076797855995,0.33012992045619755,null],\"type\":\"scatter\"},{\"hoverinfo\":\"text\",\"line\":{\"color\":\"cornflowerblue\",\"width\":0.3},\"mode\":\"lines\",\"text\":[\"Bottom--Oberon: 1\"],\"x\":[-0.24710174509713229,0.10822066593162673,null],\"y\":[0.018404076797855995,-0.2737667475814357,null],\"type\":\"scatter\"},{\"hoverinfo\":\"text\",\"line\":{\"color\":\"cornflowerblue\",\"width\":1.0090756983044573},\"mode\":\"lines\",\"text\":[\"Bottom--Titania: 2\"],\"x\":[-0.24710174509713229,-0.15927071325054273,null],\"y\":[0.018404076797855995,-0.13886244497327638,null],\"type\":\"scatter\"},{\"hoverinfo\":\"text\",\"line\":{\"color\":\"cornflowerblue\",\"width\":1.0090756983044573},\"mode\":\"lines\",\"text\":[\"Bottom--Puck: 2\"],\"x\":[-0.24710174509713229,0.07059506173786403,null],\"y\":[0.018404076797855995,-0.06661571994143042,null],\"type\":\"scatter\"},{\"hoverinfo\":\"text\",\"line\":{\"color\":\"cornflowerblue\",\"width\":0.3},\"mode\":\"lines\",\"text\":[\"Bottom--Peaseblossom: 1\"],\"x\":[-0.24710174509713229,-0.971414761071418,null],\"y\":[0.018404076797855995,0.16391558486553984,null],\"type\":\"scatter\"},{\"hoverinfo\":\"text\",\"line\":{\"color\":\"cornflowerblue\",\"width\":0.3},\"mode\":\"lines\",\"text\":[\"Bottom--Cobweb: 1\"],\"x\":[-0.24710174509713229,-0.914705816818175,null],\"y\":[0.018404076797855995,0.4032234491850033,null],\"type\":\"scatter\"},{\"hoverinfo\":\"text\",\"line\":{\"color\":\"cornflowerblue\",\"width\":0.3},\"mode\":\"lines\",\"text\":[\"Bottom--Moth: 1\"],\"x\":[-0.24710174509713229,-0.7537111377564879,null],\"y\":[0.018404076797855995,0.5981985335183796,null],\"type\":\"scatter\"},{\"hoverinfo\":\"text\",\"line\":{\"color\":\"cornflowerblue\",\"width\":0.3},\"mode\":\"lines\",\"text\":[\"Bottom--Mustardseed: 1\"],\"x\":[-0.24710174509713229,-0.9388150386135996,null],\"y\":[0.018404076797855995,-0.08115204563748338,null],\"type\":\"scatter\"},{\"hoverinfo\":\"text\",\"line\":{\"color\":\"cornflowerblue\",\"width\":0.3},\"mode\":\"lines\",\"text\":[\"Bottom--Pyramus: 1\"],\"x\":[-0.24710174509713229,-0.1060619629920166,null],\"y\":[0.018404076797855995,0.679551667154969,null],\"type\":\"scatter\"},{\"hoverinfo\":\"text\",\"line\":{\"color\":\"cornflowerblue\",\"width\":0.3},\"mode\":\"lines\",\"text\":[\"Bottom--Thisbe: 1\"],\"x\":[-0.24710174509713229,-0.4950311637701783,null],\"y\":[0.018404076797855995,-0.47717262755482975,null],\"type\":\"scatter\"},{\"hoverinfo\":\"text\",\"line\":{\"color\":\"cornflowerblue\",\"width\":0.3},\"mode\":\"lines\",\"text\":[\"Bottom--Moonshine: 1\"],\"x\":[-0.24710174509713229,-0.3642120711191797,null],\"y\":[0.018404076797855995,-0.8633110444082471,null],\"type\":\"scatter\"},{\"hoverinfo\":\"text\",\"line\":{\"color\":\"cornflowerblue\",\"width\":0.3},\"mode\":\"lines\",\"text\":[\"Bottom--Lion: 1\"],\"x\":[-0.24710174509713229,0.02753658167824062,null],\"y\":[0.018404076797855995,-0.9430757717801774,null],\"type\":\"scatter\"},{\"hoverinfo\":\"text\",\"line\":{\"color\":\"cornflowerblue\",\"width\":0.3},\"mode\":\"lines\",\"text\":[\"Bottom--Fairies: 1\"],\"x\":[-0.24710174509713229,0.17165745788607173,null],\"y\":[0.018404076797855995,-0.3929550352209284,null],\"type\":\"scatter\"},{\"hoverinfo\":\"text\",\"line\":{\"color\":\"cornflowerblue\",\"width\":0.3},\"mode\":\"lines\",\"text\":[\"Bottom--Attendants: 1\"],\"x\":[-0.24710174509713229,0.43106521834255995,null],\"y\":[0.018404076797855995,0.2023266549827444,null],\"type\":\"scatter\"},{\"hoverinfo\":\"text\",\"line\":{\"color\":\"cornflowerblue\",\"width\":3.394112549695428},\"mode\":\"lines\",\"text\":[\"Flute--Snout: 4\"],\"x\":[-0.05028463371276033,-0.14895027834896346,null],\"y\":[-0.0037660743791820593,0.31249439468677936,null],\"type\":\"scatter\"},{\"hoverinfo\":\"text\",\"line\":{\"color\":\"cornflowerblue\",\"width\":3.394112549695428},\"mode\":\"lines\",\"text\":[\"Flute--Starveling: 4\"],\"x\":[-0.05028463371276033,0.0845232255942181,null],\"y\":[-0.0037660743791820593,0.33012992045619755,null],\"type\":\"scatter\"},{\"hoverinfo\":\"text\",\"line\":{\"color\":\"cornflowerblue\",\"width\":0.3},\"mode\":\"lines\",\"text\":[\"Flute--Oberon: 1\"],\"x\":[-0.05028463371276033,0.10822066593162673,null],\"y\":[-0.0037660743791820593,-0.2737667475814357,null],\"type\":\"scatter\"},{\"hoverinfo\":\"text\",\"line\":{\"color\":\"cornflowerblue\",\"width\":1.0090756983044573},\"mode\":\"lines\",\"text\":[\"Flute--Titania: 2\"],\"x\":[-0.05028463371276033,-0.15927071325054273,null],\"y\":[-0.0037660743791820593,-0.13886244497327638,null],\"type\":\"scatter\"},{\"hoverinfo\":\"text\",\"line\":{\"color\":\"cornflowerblue\",\"width\":1.0090756983044573},\"mode\":\"lines\",\"text\":[\"Flute--Puck: 2\"],\"x\":[-0.05028463371276033,0.07059506173786403,null],\"y\":[-0.0037660743791820593,-0.06661571994143042,null],\"type\":\"scatter\"},{\"hoverinfo\":\"text\",\"line\":{\"color\":\"cornflowerblue\",\"width\":0.3},\"mode\":\"lines\",\"text\":[\"Flute--Pyramus: 1\"],\"x\":[-0.05028463371276033,-0.1060619629920166,null],\"y\":[-0.0037660743791820593,0.679551667154969,null],\"type\":\"scatter\"},{\"hoverinfo\":\"text\",\"line\":{\"color\":\"cornflowerblue\",\"width\":0.3},\"mode\":\"lines\",\"text\":[\"Flute--Thisbe: 1\"],\"x\":[-0.05028463371276033,-0.4950311637701783,null],\"y\":[-0.0037660743791820593,-0.47717262755482975,null],\"type\":\"scatter\"},{\"hoverinfo\":\"text\",\"line\":{\"color\":\"cornflowerblue\",\"width\":0.3},\"mode\":\"lines\",\"text\":[\"Flute--Moonshine: 1\"],\"x\":[-0.05028463371276033,-0.3642120711191797,null],\"y\":[-0.0037660743791820593,-0.8633110444082471,null],\"type\":\"scatter\"},{\"hoverinfo\":\"text\",\"line\":{\"color\":\"cornflowerblue\",\"width\":0.3},\"mode\":\"lines\",\"text\":[\"Flute--Lion: 1\"],\"x\":[-0.05028463371276033,0.02753658167824062,null],\"y\":[-0.0037660743791820593,-0.9430757717801774,null],\"type\":\"scatter\"},{\"hoverinfo\":\"text\",\"line\":{\"color\":\"cornflowerblue\",\"width\":0.3},\"mode\":\"lines\",\"text\":[\"Flute--Fairies: 1\"],\"x\":[-0.05028463371276033,0.17165745788607173,null],\"y\":[-0.0037660743791820593,-0.3929550352209284,null],\"type\":\"scatter\"},{\"hoverinfo\":\"text\",\"line\":{\"color\":\"cornflowerblue\",\"width\":0.3},\"mode\":\"lines\",\"text\":[\"Flute--Attendants: 1\"],\"x\":[-0.05028463371276033,0.43106521834255995,null],\"y\":[-0.0037660743791820593,0.2023266549827444,null],\"type\":\"scatter\"},{\"hoverinfo\":\"text\",\"line\":{\"color\":\"cornflowerblue\",\"width\":3.394112549695428},\"mode\":\"lines\",\"text\":[\"Snout--Starveling: 4\"],\"x\":[-0.14895027834896346,0.0845232255942181,null],\"y\":[0.31249439468677936,0.33012992045619755,null],\"type\":\"scatter\"},{\"hoverinfo\":\"text\",\"line\":{\"color\":\"cornflowerblue\",\"width\":0.3},\"mode\":\"lines\",\"text\":[\"Snout--Oberon: 1\"],\"x\":[-0.14895027834896346,0.10822066593162673,null],\"y\":[0.31249439468677936,-0.2737667475814357,null],\"type\":\"scatter\"},{\"hoverinfo\":\"text\",\"line\":{\"color\":\"cornflowerblue\",\"width\":1.0090756983044573},\"mode\":\"lines\",\"text\":[\"Snout--Titania: 2\"],\"x\":[-0.14895027834896346,-0.15927071325054273,null],\"y\":[0.31249439468677936,-0.13886244497327638,null],\"type\":\"scatter\"},{\"hoverinfo\":\"text\",\"line\":{\"color\":\"cornflowerblue\",\"width\":1.0090756983044573},\"mode\":\"lines\",\"text\":[\"Snout--Puck: 2\"],\"x\":[-0.14895027834896346,0.07059506173786403,null],\"y\":[0.31249439468677936,-0.06661571994143042,null],\"type\":\"scatter\"},{\"hoverinfo\":\"text\",\"line\":{\"color\":\"cornflowerblue\",\"width\":0.3},\"mode\":\"lines\",\"text\":[\"Snout--Peaseblossom: 1\"],\"x\":[-0.14895027834896346,-0.971414761071418,null],\"y\":[0.31249439468677936,0.16391558486553984,null],\"type\":\"scatter\"},{\"hoverinfo\":\"text\",\"line\":{\"color\":\"cornflowerblue\",\"width\":0.3},\"mode\":\"lines\",\"text\":[\"Snout--Cobweb: 1\"],\"x\":[-0.14895027834896346,-0.914705816818175,null],\"y\":[0.31249439468677936,0.4032234491850033,null],\"type\":\"scatter\"},{\"hoverinfo\":\"text\",\"line\":{\"color\":\"cornflowerblue\",\"width\":0.3},\"mode\":\"lines\",\"text\":[\"Snout--Moth: 1\"],\"x\":[-0.14895027834896346,-0.7537111377564879,null],\"y\":[0.31249439468677936,0.5981985335183796,null],\"type\":\"scatter\"},{\"hoverinfo\":\"text\",\"line\":{\"color\":\"cornflowerblue\",\"width\":0.3},\"mode\":\"lines\",\"text\":[\"Snout--Mustardseed: 1\"],\"x\":[-0.14895027834896346,-0.9388150386135996,null],\"y\":[0.31249439468677936,-0.08115204563748338,null],\"type\":\"scatter\"},{\"hoverinfo\":\"text\",\"line\":{\"color\":\"cornflowerblue\",\"width\":0.3},\"mode\":\"lines\",\"text\":[\"Snout--Fairies: 1\"],\"x\":[-0.14895027834896346,0.17165745788607173,null],\"y\":[0.31249439468677936,-0.3929550352209284,null],\"type\":\"scatter\"},{\"hoverinfo\":\"text\",\"line\":{\"color\":\"cornflowerblue\",\"width\":0.3},\"mode\":\"lines\",\"text\":[\"Snout--Attendants: 1\"],\"x\":[-0.14895027834896346,0.43106521834255995,null],\"y\":[0.31249439468677936,0.2023266549827444,null],\"type\":\"scatter\"},{\"hoverinfo\":\"text\",\"line\":{\"color\":\"cornflowerblue\",\"width\":0.3},\"mode\":\"lines\",\"text\":[\"Starveling--Oberon: 1\"],\"x\":[0.0845232255942181,0.10822066593162673,null],\"y\":[0.33012992045619755,-0.2737667475814357,null],\"type\":\"scatter\"},{\"hoverinfo\":\"text\",\"line\":{\"color\":\"cornflowerblue\",\"width\":1.0090756983044573},\"mode\":\"lines\",\"text\":[\"Starveling--Titania: 2\"],\"x\":[0.0845232255942181,-0.15927071325054273,null],\"y\":[0.33012992045619755,-0.13886244497327638,null],\"type\":\"scatter\"},{\"hoverinfo\":\"text\",\"line\":{\"color\":\"cornflowerblue\",\"width\":1.0090756983044573},\"mode\":\"lines\",\"text\":[\"Starveling--Puck: 2\"],\"x\":[0.0845232255942181,0.07059506173786403,null],\"y\":[0.33012992045619755,-0.06661571994143042,null],\"type\":\"scatter\"},{\"hoverinfo\":\"text\",\"line\":{\"color\":\"cornflowerblue\",\"width\":0.3},\"mode\":\"lines\",\"text\":[\"Starveling--Pyramus: 1\"],\"x\":[0.0845232255942181,-0.1060619629920166,null],\"y\":[0.33012992045619755,0.679551667154969,null],\"type\":\"scatter\"},{\"hoverinfo\":\"text\",\"line\":{\"color\":\"cornflowerblue\",\"width\":0.3},\"mode\":\"lines\",\"text\":[\"Starveling--Thisbe: 1\"],\"x\":[0.0845232255942181,-0.4950311637701783,null],\"y\":[0.33012992045619755,-0.47717262755482975,null],\"type\":\"scatter\"},{\"hoverinfo\":\"text\",\"line\":{\"color\":\"cornflowerblue\",\"width\":0.3},\"mode\":\"lines\",\"text\":[\"Starveling--Fairies: 1\"],\"x\":[0.0845232255942181,0.17165745788607173,null],\"y\":[0.33012992045619755,-0.3929550352209284,null],\"type\":\"scatter\"},{\"hoverinfo\":\"text\",\"line\":{\"color\":\"cornflowerblue\",\"width\":0.3},\"mode\":\"lines\",\"text\":[\"Starveling--Attendants: 1\"],\"x\":[0.0845232255942181,0.43106521834255995,null],\"y\":[0.33012992045619755,0.2023266549827444,null],\"type\":\"scatter\"},{\"hoverinfo\":\"text\",\"line\":{\"color\":\"cornflowerblue\",\"width\":1.0090756983044573},\"mode\":\"lines\",\"text\":[\"Oberon--Titania: 2\"],\"x\":[0.10822066593162673,-0.15927071325054273,null],\"y\":[-0.2737667475814357,-0.13886244497327638,null],\"type\":\"scatter\"},{\"hoverinfo\":\"text\",\"line\":{\"color\":\"cornflowerblue\",\"width\":2.0515563512592996},\"mode\":\"lines\",\"text\":[\"Oberon--Puck: 3\"],\"x\":[0.10822066593162673,0.07059506173786403,null],\"y\":[-0.2737667475814357,-0.06661571994143042,null],\"type\":\"scatter\"},{\"hoverinfo\":\"text\",\"line\":{\"color\":\"cornflowerblue\",\"width\":0.3},\"mode\":\"lines\",\"text\":[\"Oberon--Pyramus: 1\"],\"x\":[0.10822066593162673,-0.1060619629920166,null],\"y\":[-0.2737667475814357,0.679551667154969,null],\"type\":\"scatter\"},{\"hoverinfo\":\"text\",\"line\":{\"color\":\"cornflowerblue\",\"width\":0.3},\"mode\":\"lines\",\"text\":[\"Oberon--Thisbe: 1\"],\"x\":[0.10822066593162673,-0.4950311637701783,null],\"y\":[-0.2737667475814357,-0.47717262755482975,null],\"type\":\"scatter\"},{\"hoverinfo\":\"text\",\"line\":{\"color\":\"cornflowerblue\",\"width\":0.3},\"mode\":\"lines\",\"text\":[\"Oberon--Moonshine: 1\"],\"x\":[0.10822066593162673,-0.3642120711191797,null],\"y\":[-0.2737667475814357,-0.8633110444082471,null],\"type\":\"scatter\"},{\"hoverinfo\":\"text\",\"line\":{\"color\":\"cornflowerblue\",\"width\":0.3},\"mode\":\"lines\",\"text\":[\"Oberon--Lion: 1\"],\"x\":[0.10822066593162673,0.02753658167824062,null],\"y\":[-0.2737667475814357,-0.9430757717801774,null],\"type\":\"scatter\"},{\"hoverinfo\":\"text\",\"line\":{\"color\":\"cornflowerblue\",\"width\":0.3},\"mode\":\"lines\",\"text\":[\"Oberon--Fairies: 1\"],\"x\":[0.10822066593162673,0.17165745788607173,null],\"y\":[-0.2737667475814357,-0.3929550352209284,null],\"type\":\"scatter\"},{\"hoverinfo\":\"text\",\"line\":{\"color\":\"cornflowerblue\",\"width\":0.3},\"mode\":\"lines\",\"text\":[\"Oberon--Attendants: 1\"],\"x\":[0.10822066593162673,0.43106521834255995,null],\"y\":[-0.2737667475814357,0.2023266549827444,null],\"type\":\"scatter\"},{\"hoverinfo\":\"text\",\"line\":{\"color\":\"cornflowerblue\",\"width\":2.0515563512592996},\"mode\":\"lines\",\"text\":[\"Titania--Puck: 3\"],\"x\":[-0.15927071325054273,0.07059506173786403,null],\"y\":[-0.13886244497327638,-0.06661571994143042,null],\"type\":\"scatter\"},{\"hoverinfo\":\"text\",\"line\":{\"color\":\"cornflowerblue\",\"width\":0.3},\"mode\":\"lines\",\"text\":[\"Titania--Peaseblossom: 1\"],\"x\":[-0.15927071325054273,-0.971414761071418,null],\"y\":[-0.13886244497327638,0.16391558486553984,null],\"type\":\"scatter\"},{\"hoverinfo\":\"text\",\"line\":{\"color\":\"cornflowerblue\",\"width\":0.3},\"mode\":\"lines\",\"text\":[\"Titania--Cobweb: 1\"],\"x\":[-0.15927071325054273,-0.914705816818175,null],\"y\":[-0.13886244497327638,0.4032234491850033,null],\"type\":\"scatter\"},{\"hoverinfo\":\"text\",\"line\":{\"color\":\"cornflowerblue\",\"width\":0.3},\"mode\":\"lines\",\"text\":[\"Titania--Moth: 1\"],\"x\":[-0.15927071325054273,-0.7537111377564879,null],\"y\":[-0.13886244497327638,0.5981985335183796,null],\"type\":\"scatter\"},{\"hoverinfo\":\"text\",\"line\":{\"color\":\"cornflowerblue\",\"width\":0.3},\"mode\":\"lines\",\"text\":[\"Titania--Mustardseed: 1\"],\"x\":[-0.15927071325054273,-0.9388150386135996,null],\"y\":[-0.13886244497327638,-0.08115204563748338,null],\"type\":\"scatter\"},{\"hoverinfo\":\"text\",\"line\":{\"color\":\"cornflowerblue\",\"width\":0.3},\"mode\":\"lines\",\"text\":[\"Titania--Pyramus: 1\"],\"x\":[-0.15927071325054273,-0.1060619629920166,null],\"y\":[-0.13886244497327638,0.679551667154969,null],\"type\":\"scatter\"},{\"hoverinfo\":\"text\",\"line\":{\"color\":\"cornflowerblue\",\"width\":0.3},\"mode\":\"lines\",\"text\":[\"Titania--Thisbe: 1\"],\"x\":[-0.15927071325054273,-0.4950311637701783,null],\"y\":[-0.13886244497327638,-0.47717262755482975,null],\"type\":\"scatter\"},{\"hoverinfo\":\"text\",\"line\":{\"color\":\"cornflowerblue\",\"width\":0.3},\"mode\":\"lines\",\"text\":[\"Titania--Moonshine: 1\"],\"x\":[-0.15927071325054273,-0.3642120711191797,null],\"y\":[-0.13886244497327638,-0.8633110444082471,null],\"type\":\"scatter\"},{\"hoverinfo\":\"text\",\"line\":{\"color\":\"cornflowerblue\",\"width\":0.3},\"mode\":\"lines\",\"text\":[\"Titania--Lion: 1\"],\"x\":[-0.15927071325054273,0.02753658167824062,null],\"y\":[-0.13886244497327638,-0.9430757717801774,null],\"type\":\"scatter\"},{\"hoverinfo\":\"text\",\"line\":{\"color\":\"cornflowerblue\",\"width\":1.0090756983044573},\"mode\":\"lines\",\"text\":[\"Titania--Fairies: 2\"],\"x\":[-0.15927071325054273,0.17165745788607173,null],\"y\":[-0.13886244497327638,-0.3929550352209284,null],\"type\":\"scatter\"},{\"hoverinfo\":\"text\",\"line\":{\"color\":\"cornflowerblue\",\"width\":0.3},\"mode\":\"lines\",\"text\":[\"Titania--Attendants: 1\"],\"x\":[-0.15927071325054273,0.43106521834255995,null],\"y\":[-0.13886244497327638,0.2023266549827444,null],\"type\":\"scatter\"},{\"hoverinfo\":\"text\",\"line\":{\"color\":\"cornflowerblue\",\"width\":0.3},\"mode\":\"lines\",\"text\":[\"Puck--Peaseblossom: 1\"],\"x\":[0.07059506173786403,-0.971414761071418,null],\"y\":[-0.06661571994143042,0.16391558486553984,null],\"type\":\"scatter\"},{\"hoverinfo\":\"text\",\"line\":{\"color\":\"cornflowerblue\",\"width\":0.3},\"mode\":\"lines\",\"text\":[\"Puck--Cobweb: 1\"],\"x\":[0.07059506173786403,-0.914705816818175,null],\"y\":[-0.06661571994143042,0.4032234491850033,null],\"type\":\"scatter\"},{\"hoverinfo\":\"text\",\"line\":{\"color\":\"cornflowerblue\",\"width\":0.3},\"mode\":\"lines\",\"text\":[\"Puck--Moth: 1\"],\"x\":[0.07059506173786403,-0.7537111377564879,null],\"y\":[-0.06661571994143042,0.5981985335183796,null],\"type\":\"scatter\"},{\"hoverinfo\":\"text\",\"line\":{\"color\":\"cornflowerblue\",\"width\":0.3},\"mode\":\"lines\",\"text\":[\"Puck--Mustardseed: 1\"],\"x\":[0.07059506173786403,-0.9388150386135996,null],\"y\":[-0.06661571994143042,-0.08115204563748338,null],\"type\":\"scatter\"},{\"hoverinfo\":\"text\",\"line\":{\"color\":\"cornflowerblue\",\"width\":0.3},\"mode\":\"lines\",\"text\":[\"Puck--Pyramus: 1\"],\"x\":[0.07059506173786403,-0.1060619629920166,null],\"y\":[-0.06661571994143042,0.679551667154969,null],\"type\":\"scatter\"},{\"hoverinfo\":\"text\",\"line\":{\"color\":\"cornflowerblue\",\"width\":0.3},\"mode\":\"lines\",\"text\":[\"Puck--Thisbe: 1\"],\"x\":[0.07059506173786403,-0.4950311637701783,null],\"y\":[-0.06661571994143042,-0.47717262755482975,null],\"type\":\"scatter\"},{\"hoverinfo\":\"text\",\"line\":{\"color\":\"cornflowerblue\",\"width\":0.3},\"mode\":\"lines\",\"text\":[\"Puck--Moonshine: 1\"],\"x\":[0.07059506173786403,-0.3642120711191797,null],\"y\":[-0.06661571994143042,-0.8633110444082471,null],\"type\":\"scatter\"},{\"hoverinfo\":\"text\",\"line\":{\"color\":\"cornflowerblue\",\"width\":0.3},\"mode\":\"lines\",\"text\":[\"Puck--Lion: 1\"],\"x\":[0.07059506173786403,0.02753658167824062,null],\"y\":[-0.06661571994143042,-0.9430757717801774,null],\"type\":\"scatter\"},{\"hoverinfo\":\"text\",\"line\":{\"color\":\"cornflowerblue\",\"width\":1.0090756983044573},\"mode\":\"lines\",\"text\":[\"Puck--Fairies: 2\"],\"x\":[0.07059506173786403,0.17165745788607173,null],\"y\":[-0.06661571994143042,-0.3929550352209284,null],\"type\":\"scatter\"},{\"hoverinfo\":\"text\",\"line\":{\"color\":\"cornflowerblue\",\"width\":1.0090756983044573},\"mode\":\"lines\",\"text\":[\"Puck--Attendants: 2\"],\"x\":[0.07059506173786403,0.43106521834255995,null],\"y\":[-0.06661571994143042,0.2023266549827444,null],\"type\":\"scatter\"},{\"hoverinfo\":\"text\",\"line\":{\"color\":\"cornflowerblue\",\"width\":0.3},\"mode\":\"lines\",\"text\":[\"Peaseblossom--Cobweb: 1\"],\"x\":[-0.971414761071418,-0.914705816818175,null],\"y\":[0.16391558486553984,0.4032234491850033,null],\"type\":\"scatter\"},{\"hoverinfo\":\"text\",\"line\":{\"color\":\"cornflowerblue\",\"width\":0.3},\"mode\":\"lines\",\"text\":[\"Peaseblossom--Moth: 1\"],\"x\":[-0.971414761071418,-0.7537111377564879,null],\"y\":[0.16391558486553984,0.5981985335183796,null],\"type\":\"scatter\"},{\"hoverinfo\":\"text\",\"line\":{\"color\":\"cornflowerblue\",\"width\":0.3},\"mode\":\"lines\",\"text\":[\"Peaseblossom--Mustardseed: 1\"],\"x\":[-0.971414761071418,-0.9388150386135996,null],\"y\":[0.16391558486553984,-0.08115204563748338,null],\"type\":\"scatter\"},{\"hoverinfo\":\"text\",\"line\":{\"color\":\"cornflowerblue\",\"width\":0.3},\"mode\":\"lines\",\"text\":[\"Cobweb--Moth: 1\"],\"x\":[-0.914705816818175,-0.7537111377564879,null],\"y\":[0.4032234491850033,0.5981985335183796,null],\"type\":\"scatter\"},{\"hoverinfo\":\"text\",\"line\":{\"color\":\"cornflowerblue\",\"width\":0.3},\"mode\":\"lines\",\"text\":[\"Cobweb--Mustardseed: 1\"],\"x\":[-0.914705816818175,-0.9388150386135996,null],\"y\":[0.4032234491850033,-0.08115204563748338,null],\"type\":\"scatter\"},{\"hoverinfo\":\"text\",\"line\":{\"color\":\"cornflowerblue\",\"width\":0.3},\"mode\":\"lines\",\"text\":[\"Moth--Mustardseed: 1\"],\"x\":[-0.7537111377564879,-0.9388150386135996,null],\"y\":[0.5981985335183796,-0.08115204563748338,null],\"type\":\"scatter\"},{\"hoverinfo\":\"text\",\"line\":{\"color\":\"cornflowerblue\",\"width\":0.3},\"mode\":\"lines\",\"text\":[\"Pyramus--Fairies: 1\"],\"x\":[-0.1060619629920166,0.17165745788607173,null],\"y\":[0.679551667154969,-0.3929550352209284,null],\"type\":\"scatter\"},{\"hoverinfo\":\"text\",\"line\":{\"color\":\"cornflowerblue\",\"width\":0.3},\"mode\":\"lines\",\"text\":[\"Thisbe--Fairies: 1\"],\"x\":[-0.4950311637701783,0.17165745788607173,null],\"y\":[-0.47717262755482975,-0.3929550352209284,null],\"type\":\"scatter\"},{\"hoverinfo\":\"text\",\"line\":{\"color\":\"cornflowerblue\",\"width\":0.3},\"mode\":\"lines\",\"text\":[\"Moonshine--Fairies: 1\"],\"x\":[-0.3642120711191797,0.17165745788607173,null],\"y\":[-0.8633110444082471,-0.3929550352209284,null],\"type\":\"scatter\"},{\"hoverinfo\":\"text\",\"line\":{\"color\":\"cornflowerblue\",\"width\":0.3},\"mode\":\"lines\",\"text\":[\"Lion--Fairies: 1\"],\"x\":[0.02753658167824062,0.17165745788607173,null],\"y\":[-0.9430757717801774,-0.3929550352209284,null],\"type\":\"scatter\"},{\"hoverinfo\":\"text\",\"line\":{\"color\":\"cornflowerblue\",\"width\":0.3},\"mode\":\"lines\",\"text\":[\"Fairies--Attendants: 1\"],\"x\":[0.17165745788607173,0.43106521834255995,null],\"y\":[-0.3929550352209284,0.2023266549827444,null],\"type\":\"scatter\"},{\"hoverinfo\":\"none\",\"marker\":{\"color\":[\"cornflowerblue\",\"cornflowerblue\",\"cornflowerblue\",\"cornflowerblue\",\"cornflowerblue\",\"cornflowerblue\",\"cornflowerblue\",\"cornflowerblue\",\"cornflowerblue\",\"cornflowerblue\",\"cornflowerblue\",\"cornflowerblue\",\"cornflowerblue\",\"cornflowerblue\",\"cornflowerblue\",\"cornflowerblue\",\"cornflowerblue\",\"cornflowerblue\",\"cornflowerblue\",\"cornflowerblue\",\"cornflowerblue\",\"cornflowerblue\",\"cornflowerblue\",\"cornflowerblue\",\"cornflowerblue\",\"cornflowerblue\",\"cornflowerblue\"],\"size\":[15,15,10,25,30,25,30,10,20,20,20,20,20,20,15,15,30,5,5,5,5,5,5,5,5,15,15]},\"mode\":\"markers+text\",\"text\":[\"<b>Theseus</b>\",\"<b>Hippolyta</b>\",\"<b>Egeus</b>\",\"<b>Hermia</b>\",\"<b>Helena</b>\",\"<b>Lysander</b>\",\"<b>Demetrius</b>\",\"<b>Philostrate</b>\",\"<b>Quince</b>\",\"<b>Snug</b>\",\"<b>Bottom</b>\",\"<b>Flute</b>\",\"<b>Snout</b>\",\"<b>Starveling</b>\",\"<b>Oberon</b>\",\"<b>Titania</b>\",\"<b>Puck</b>\",\"<b>Peaseblossom</b>\",\"<b>Cobweb</b>\",\"<b>Moth</b>\",\"<b>Mustardseed</b>\",\"<b>Pyramus</b>\",\"<b>Thisbe</b>\",\"<b>Moonshine</b>\",\"<b>Lion</b>\",\"<b>Fairies</b>\",\"<b>Attendants</b>\"],\"textfont\":{\"size\":10},\"textposition\":\"top center\",\"x\":[0.6190289320997386,0.47725621366214216,1.0,0.3852448998383637,0.38737526362418345,0.3956544087949181,0.5225916452627758,0.6259514434301439,-0.22615095170979718,0.06900925637741061,-0.24710174509713229,-0.05028463371276033,-0.14895027834896346,0.0845232255942181,0.10822066593162673,-0.15927071325054273,0.07059506173786403,-0.971414761071418,-0.914705816818175,-0.7537111377564879,-0.9388150386135996,-0.1060619629920166,-0.4950311637701783,-0.3642120711191797,0.02753658167824062,0.17165745788607173,0.43106521834255995],\"y\":[0.016533175174840712,0.3268873301366787,0.03673934469118579,0.04500407450360561,-0.26559632549180684,-0.08926375770366206,-0.15121880364713625,0.23433890123733436,0.19362017350200453,0.18538911742647576,0.018404076797855995,-0.0037660743791820593,0.31249439468677936,0.33012992045619755,-0.2737667475814357,-0.13886244497327638,-0.06661571994143042,0.16391558486553984,0.4032234491850033,0.5981985335183796,-0.08115204563748338,0.679551667154969,-0.47717262755482975,-0.8633110444082471,-0.9430757717801774,-0.3929550352209284,0.2023266549827444],\"type\":\"scatter\"}],                        {\"paper_bgcolor\":\"rgba(0,0,0,0)\",\"plot_bgcolor\":\"rgba(0,0,0,0)\",\"template\":{\"data\":{\"bar\":[{\"error_x\":{\"color\":\"#2a3f5f\"},\"error_y\":{\"color\":\"#2a3f5f\"},\"marker\":{\"line\":{\"color\":\"#E5ECF6\",\"width\":0.5},\"pattern\":{\"fillmode\":\"overlay\",\"size\":10,\"solidity\":0.2}},\"type\":\"bar\"}],\"barpolar\":[{\"marker\":{\"line\":{\"color\":\"#E5ECF6\",\"width\":0.5},\"pattern\":{\"fillmode\":\"overlay\",\"size\":10,\"solidity\":0.2}},\"type\":\"barpolar\"}],\"carpet\":[{\"aaxis\":{\"endlinecolor\":\"#2a3f5f\",\"gridcolor\":\"white\",\"linecolor\":\"white\",\"minorgridcolor\":\"white\",\"startlinecolor\":\"#2a3f5f\"},\"baxis\":{\"endlinecolor\":\"#2a3f5f\",\"gridcolor\":\"white\",\"linecolor\":\"white\",\"minorgridcolor\":\"white\",\"startlinecolor\":\"#2a3f5f\"},\"type\":\"carpet\"}],\"choropleth\":[{\"colorbar\":{\"outlinewidth\":0,\"ticks\":\"\"},\"type\":\"choropleth\"}],\"contour\":[{\"colorbar\":{\"outlinewidth\":0,\"ticks\":\"\"},\"colorscale\":[[0.0,\"#0d0887\"],[0.1111111111111111,\"#46039f\"],[0.2222222222222222,\"#7201a8\"],[0.3333333333333333,\"#9c179e\"],[0.4444444444444444,\"#bd3786\"],[0.5555555555555556,\"#d8576b\"],[0.6666666666666666,\"#ed7953\"],[0.7777777777777778,\"#fb9f3a\"],[0.8888888888888888,\"#fdca26\"],[1.0,\"#f0f921\"]],\"type\":\"contour\"}],\"contourcarpet\":[{\"colorbar\":{\"outlinewidth\":0,\"ticks\":\"\"},\"type\":\"contourcarpet\"}],\"heatmap\":[{\"colorbar\":{\"outlinewidth\":0,\"ticks\":\"\"},\"colorscale\":[[0.0,\"#0d0887\"],[0.1111111111111111,\"#46039f\"],[0.2222222222222222,\"#7201a8\"],[0.3333333333333333,\"#9c179e\"],[0.4444444444444444,\"#bd3786\"],[0.5555555555555556,\"#d8576b\"],[0.6666666666666666,\"#ed7953\"],[0.7777777777777778,\"#fb9f3a\"],[0.8888888888888888,\"#fdca26\"],[1.0,\"#f0f921\"]],\"type\":\"heatmap\"}],\"heatmapgl\":[{\"colorbar\":{\"outlinewidth\":0,\"ticks\":\"\"},\"colorscale\":[[0.0,\"#0d0887\"],[0.1111111111111111,\"#46039f\"],[0.2222222222222222,\"#7201a8\"],[0.3333333333333333,\"#9c179e\"],[0.4444444444444444,\"#bd3786\"],[0.5555555555555556,\"#d8576b\"],[0.6666666666666666,\"#ed7953\"],[0.7777777777777778,\"#fb9f3a\"],[0.8888888888888888,\"#fdca26\"],[1.0,\"#f0f921\"]],\"type\":\"heatmapgl\"}],\"histogram\":[{\"marker\":{\"pattern\":{\"fillmode\":\"overlay\",\"size\":10,\"solidity\":0.2}},\"type\":\"histogram\"}],\"histogram2d\":[{\"colorbar\":{\"outlinewidth\":0,\"ticks\":\"\"},\"colorscale\":[[0.0,\"#0d0887\"],[0.1111111111111111,\"#46039f\"],[0.2222222222222222,\"#7201a8\"],[0.3333333333333333,\"#9c179e\"],[0.4444444444444444,\"#bd3786\"],[0.5555555555555556,\"#d8576b\"],[0.6666666666666666,\"#ed7953\"],[0.7777777777777778,\"#fb9f3a\"],[0.8888888888888888,\"#fdca26\"],[1.0,\"#f0f921\"]],\"type\":\"histogram2d\"}],\"histogram2dcontour\":[{\"colorbar\":{\"outlinewidth\":0,\"ticks\":\"\"},\"colorscale\":[[0.0,\"#0d0887\"],[0.1111111111111111,\"#46039f\"],[0.2222222222222222,\"#7201a8\"],[0.3333333333333333,\"#9c179e\"],[0.4444444444444444,\"#bd3786\"],[0.5555555555555556,\"#d8576b\"],[0.6666666666666666,\"#ed7953\"],[0.7777777777777778,\"#fb9f3a\"],[0.8888888888888888,\"#fdca26\"],[1.0,\"#f0f921\"]],\"type\":\"histogram2dcontour\"}],\"mesh3d\":[{\"colorbar\":{\"outlinewidth\":0,\"ticks\":\"\"},\"type\":\"mesh3d\"}],\"parcoords\":[{\"line\":{\"colorbar\":{\"outlinewidth\":0,\"ticks\":\"\"}},\"type\":\"parcoords\"}],\"pie\":[{\"automargin\":true,\"type\":\"pie\"}],\"scatter\":[{\"marker\":{\"colorbar\":{\"outlinewidth\":0,\"ticks\":\"\"}},\"type\":\"scatter\"}],\"scatter3d\":[{\"line\":{\"colorbar\":{\"outlinewidth\":0,\"ticks\":\"\"}},\"marker\":{\"colorbar\":{\"outlinewidth\":0,\"ticks\":\"\"}},\"type\":\"scatter3d\"}],\"scattercarpet\":[{\"marker\":{\"colorbar\":{\"outlinewidth\":0,\"ticks\":\"\"}},\"type\":\"scattercarpet\"}],\"scattergeo\":[{\"marker\":{\"colorbar\":{\"outlinewidth\":0,\"ticks\":\"\"}},\"type\":\"scattergeo\"}],\"scattergl\":[{\"marker\":{\"colorbar\":{\"outlinewidth\":0,\"ticks\":\"\"}},\"type\":\"scattergl\"}],\"scattermapbox\":[{\"marker\":{\"colorbar\":{\"outlinewidth\":0,\"ticks\":\"\"}},\"type\":\"scattermapbox\"}],\"scatterpolar\":[{\"marker\":{\"colorbar\":{\"outlinewidth\":0,\"ticks\":\"\"}},\"type\":\"scatterpolar\"}],\"scatterpolargl\":[{\"marker\":{\"colorbar\":{\"outlinewidth\":0,\"ticks\":\"\"}},\"type\":\"scatterpolargl\"}],\"scatterternary\":[{\"marker\":{\"colorbar\":{\"outlinewidth\":0,\"ticks\":\"\"}},\"type\":\"scatterternary\"}],\"surface\":[{\"colorbar\":{\"outlinewidth\":0,\"ticks\":\"\"},\"colorscale\":[[0.0,\"#0d0887\"],[0.1111111111111111,\"#46039f\"],[0.2222222222222222,\"#7201a8\"],[0.3333333333333333,\"#9c179e\"],[0.4444444444444444,\"#bd3786\"],[0.5555555555555556,\"#d8576b\"],[0.6666666666666666,\"#ed7953\"],[0.7777777777777778,\"#fb9f3a\"],[0.8888888888888888,\"#fdca26\"],[1.0,\"#f0f921\"]],\"type\":\"surface\"}],\"table\":[{\"cells\":{\"fill\":{\"color\":\"#EBF0F8\"},\"line\":{\"color\":\"white\"}},\"header\":{\"fill\":{\"color\":\"#C8D4E3\"},\"line\":{\"color\":\"white\"}},\"type\":\"table\"}]},\"layout\":{\"annotationdefaults\":{\"arrowcolor\":\"#2a3f5f\",\"arrowhead\":0,\"arrowwidth\":1},\"autotypenumbers\":\"strict\",\"coloraxis\":{\"colorbar\":{\"outlinewidth\":0,\"ticks\":\"\"}},\"colorscale\":{\"diverging\":[[0,\"#8e0152\"],[0.1,\"#c51b7d\"],[0.2,\"#de77ae\"],[0.3,\"#f1b6da\"],[0.4,\"#fde0ef\"],[0.5,\"#f7f7f7\"],[0.6,\"#e6f5d0\"],[0.7,\"#b8e186\"],[0.8,\"#7fbc41\"],[0.9,\"#4d9221\"],[1,\"#276419\"]],\"sequential\":[[0.0,\"#0d0887\"],[0.1111111111111111,\"#46039f\"],[0.2222222222222222,\"#7201a8\"],[0.3333333333333333,\"#9c179e\"],[0.4444444444444444,\"#bd3786\"],[0.5555555555555556,\"#d8576b\"],[0.6666666666666666,\"#ed7953\"],[0.7777777777777778,\"#fb9f3a\"],[0.8888888888888888,\"#fdca26\"],[1.0,\"#f0f921\"]],\"sequentialminus\":[[0.0,\"#0d0887\"],[0.1111111111111111,\"#46039f\"],[0.2222222222222222,\"#7201a8\"],[0.3333333333333333,\"#9c179e\"],[0.4444444444444444,\"#bd3786\"],[0.5555555555555556,\"#d8576b\"],[0.6666666666666666,\"#ed7953\"],[0.7777777777777778,\"#fb9f3a\"],[0.8888888888888888,\"#fdca26\"],[1.0,\"#f0f921\"]]},\"colorway\":[\"#636efa\",\"#EF553B\",\"#00cc96\",\"#ab63fa\",\"#FFA15A\",\"#19d3f3\",\"#FF6692\",\"#B6E880\",\"#FF97FF\",\"#FECB52\"],\"font\":{\"color\":\"#2a3f5f\"},\"geo\":{\"bgcolor\":\"white\",\"lakecolor\":\"white\",\"landcolor\":\"#E5ECF6\",\"showlakes\":true,\"showland\":true,\"subunitcolor\":\"white\"},\"hoverlabel\":{\"align\":\"left\"},\"hovermode\":\"closest\",\"mapbox\":{\"style\":\"light\"},\"paper_bgcolor\":\"white\",\"plot_bgcolor\":\"#E5ECF6\",\"polar\":{\"angularaxis\":{\"gridcolor\":\"white\",\"linecolor\":\"white\",\"ticks\":\"\"},\"bgcolor\":\"#E5ECF6\",\"radialaxis\":{\"gridcolor\":\"white\",\"linecolor\":\"white\",\"ticks\":\"\"}},\"scene\":{\"xaxis\":{\"backgroundcolor\":\"#E5ECF6\",\"gridcolor\":\"white\",\"gridwidth\":2,\"linecolor\":\"white\",\"showbackground\":true,\"ticks\":\"\",\"zerolinecolor\":\"white\"},\"yaxis\":{\"backgroundcolor\":\"#E5ECF6\",\"gridcolor\":\"white\",\"gridwidth\":2,\"linecolor\":\"white\",\"showbackground\":true,\"ticks\":\"\",\"zerolinecolor\":\"white\"},\"zaxis\":{\"backgroundcolor\":\"#E5ECF6\",\"gridcolor\":\"white\",\"gridwidth\":2,\"linecolor\":\"white\",\"showbackground\":true,\"ticks\":\"\",\"zerolinecolor\":\"white\"}},\"shapedefaults\":{\"line\":{\"color\":\"#2a3f5f\"}},\"ternary\":{\"aaxis\":{\"gridcolor\":\"white\",\"linecolor\":\"white\",\"ticks\":\"\"},\"baxis\":{\"gridcolor\":\"white\",\"linecolor\":\"white\",\"ticks\":\"\"},\"bgcolor\":\"#E5ECF6\",\"caxis\":{\"gridcolor\":\"white\",\"linecolor\":\"white\",\"ticks\":\"\"}},\"title\":{\"x\":0.05},\"xaxis\":{\"automargin\":true,\"gridcolor\":\"white\",\"linecolor\":\"white\",\"ticks\":\"\",\"title\":{\"standoff\":15},\"zerolinecolor\":\"white\",\"zerolinewidth\":2},\"yaxis\":{\"automargin\":true,\"gridcolor\":\"white\",\"linecolor\":\"white\",\"ticks\":\"\",\"title\":{\"standoff\":15},\"zerolinecolor\":\"white\",\"zerolinewidth\":2}}},\"showlegend\":false,\"xaxis\":{\"showticklabels\":false},\"yaxis\":{\"showticklabels\":false}},                        {\"responsive\": true}                    ).then(function(){\n",
       "                            \n",
       "var gd = document.getElementById('421bb1b3-3b03-41c8-8534-5b1deac986f3');\n",
       "var x = new MutationObserver(function (mutations, observer) {{\n",
       "        var display = window.getComputedStyle(gd).display;\n",
       "        if (!display || display === 'none') {{\n",
       "            console.log([gd, 'removed!']);\n",
       "            Plotly.purge(gd);\n",
       "            observer.disconnect();\n",
       "        }}\n",
       "}});\n",
       "\n",
       "// Listen for the removal of the full notebook cells\n",
       "var notebookContainer = gd.closest('#notebook-container');\n",
       "if (notebookContainer) {{\n",
       "    x.observe(notebookContainer, {childList: true});\n",
       "}}\n",
       "\n",
       "// Listen for the clearing of the current output cell\n",
       "var outputEl = gd.closest('.output');\n",
       "if (outputEl) {{\n",
       "    x.observe(outputEl, {childList: true});\n",
       "}}\n",
       "\n",
       "                        })                };                });            </script>        </div>"
      ]
     },
     "metadata": {},
     "output_type": "display_data"
    }
   ],
   "source": [
    "layout = go.Layout(\n",
    "    paper_bgcolor='rgba(0,0,0,0)',\n",
    "    plot_bgcolor='rgba(0,0,0,0)'\n",
    ")\n",
    "\n",
    "\n",
    "fig = go.Figure(layout = layout)\n",
    "\n",
    "for trace in edge_trace:\n",
    "    fig.add_trace(trace)\n",
    "\n",
    "fig.add_trace(node_trace)\n",
    "\n",
    "fig.update_layout(showlegend = False)\n",
    "\n",
    "fig.update_xaxes(showticklabels = False)\n",
    "\n",
    "fig.update_yaxes(showticklabels = False)\n",
    "\n",
    "fig.show()"
   ]
  },
  {
   "cell_type": "code",
   "execution_count": null,
   "metadata": {},
   "outputs": [],
   "source": []
  }
 ],
 "metadata": {
  "kernelspec": {
   "display_name": "Python 3",
   "language": "python",
   "name": "python3"
  },
  "language_info": {
   "codemirror_mode": {
    "name": "ipython",
    "version": 3
   },
   "file_extension": ".py",
   "mimetype": "text/x-python",
   "name": "python",
   "nbconvert_exporter": "python",
   "pygments_lexer": "ipython3",
   "version": "3.6.6+"
  }
 },
 "nbformat": 4,
 "nbformat_minor": 2
}
